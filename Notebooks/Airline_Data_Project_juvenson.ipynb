{
 "cells": [
  {
   "cell_type": "code",
   "execution_count": 196,
   "metadata": {},
   "outputs": [
    {
     "name": "stderr",
     "output_type": "stream",
     "text": [
      "/Users/DonJuve/anaconda3/envs/learn-env/lib/python3.8/site-packages/IPython/core/interactiveshell.py:3145: DtypeWarning: Columns (6,7,28) have mixed types.Specify dtype option on import or set low_memory=False.\n",
      "  has_raised = await self.run_ast_nodes(code_ast.body, cell_name,\n"
     ]
    },
    {
     "data": {
      "text/html": [
       "<div>\n",
       "<style scoped>\n",
       "    .dataframe tbody tr th:only-of-type {\n",
       "        vertical-align: middle;\n",
       "    }\n",
       "\n",
       "    .dataframe tbody tr th {\n",
       "        vertical-align: top;\n",
       "    }\n",
       "\n",
       "    .dataframe thead th {\n",
       "        text-align: right;\n",
       "    }\n",
       "</style>\n",
       "<table border=\"1\" class=\"dataframe\">\n",
       "  <thead>\n",
       "    <tr style=\"text-align: right;\">\n",
       "      <th></th>\n",
       "      <th>Event.Id</th>\n",
       "      <th>Investigation.Type</th>\n",
       "      <th>Accident.Number</th>\n",
       "      <th>Event.Date</th>\n",
       "      <th>Location</th>\n",
       "      <th>Country</th>\n",
       "      <th>Latitude</th>\n",
       "      <th>Longitude</th>\n",
       "      <th>Airport.Code</th>\n",
       "      <th>Airport.Name</th>\n",
       "      <th>...</th>\n",
       "      <th>Purpose.of.flight</th>\n",
       "      <th>Air.carrier</th>\n",
       "      <th>Total.Fatal.Injuries</th>\n",
       "      <th>Total.Serious.Injuries</th>\n",
       "      <th>Total.Minor.Injuries</th>\n",
       "      <th>Total.Uninjured</th>\n",
       "      <th>Weather.Condition</th>\n",
       "      <th>Broad.phase.of.flight</th>\n",
       "      <th>Report.Status</th>\n",
       "      <th>Publication.Date</th>\n",
       "    </tr>\n",
       "  </thead>\n",
       "  <tbody>\n",
       "    <tr>\n",
       "      <th>0</th>\n",
       "      <td>20001218X45444</td>\n",
       "      <td>Accident</td>\n",
       "      <td>SEA87LA080</td>\n",
       "      <td>1948-10-24</td>\n",
       "      <td>MOOSE CREEK, ID</td>\n",
       "      <td>United States</td>\n",
       "      <td>NaN</td>\n",
       "      <td>NaN</td>\n",
       "      <td>NaN</td>\n",
       "      <td>NaN</td>\n",
       "      <td>...</td>\n",
       "      <td>Personal</td>\n",
       "      <td>NaN</td>\n",
       "      <td>2.0</td>\n",
       "      <td>0.0</td>\n",
       "      <td>0.0</td>\n",
       "      <td>0.0</td>\n",
       "      <td>UNK</td>\n",
       "      <td>Cruise</td>\n",
       "      <td>Probable Cause</td>\n",
       "      <td>NaN</td>\n",
       "    </tr>\n",
       "    <tr>\n",
       "      <th>1</th>\n",
       "      <td>20001218X45447</td>\n",
       "      <td>Accident</td>\n",
       "      <td>LAX94LA336</td>\n",
       "      <td>1962-07-19</td>\n",
       "      <td>BRIDGEPORT, CA</td>\n",
       "      <td>United States</td>\n",
       "      <td>NaN</td>\n",
       "      <td>NaN</td>\n",
       "      <td>NaN</td>\n",
       "      <td>NaN</td>\n",
       "      <td>...</td>\n",
       "      <td>Personal</td>\n",
       "      <td>NaN</td>\n",
       "      <td>4.0</td>\n",
       "      <td>0.0</td>\n",
       "      <td>0.0</td>\n",
       "      <td>0.0</td>\n",
       "      <td>UNK</td>\n",
       "      <td>Unknown</td>\n",
       "      <td>Probable Cause</td>\n",
       "      <td>19-09-1996</td>\n",
       "    </tr>\n",
       "    <tr>\n",
       "      <th>2</th>\n",
       "      <td>20061025X01555</td>\n",
       "      <td>Accident</td>\n",
       "      <td>NYC07LA005</td>\n",
       "      <td>1974-08-30</td>\n",
       "      <td>Saltville, VA</td>\n",
       "      <td>United States</td>\n",
       "      <td>36.9222</td>\n",
       "      <td>-81.8781</td>\n",
       "      <td>NaN</td>\n",
       "      <td>NaN</td>\n",
       "      <td>...</td>\n",
       "      <td>Personal</td>\n",
       "      <td>NaN</td>\n",
       "      <td>3.0</td>\n",
       "      <td>NaN</td>\n",
       "      <td>NaN</td>\n",
       "      <td>NaN</td>\n",
       "      <td>IMC</td>\n",
       "      <td>Cruise</td>\n",
       "      <td>Probable Cause</td>\n",
       "      <td>26-02-2007</td>\n",
       "    </tr>\n",
       "    <tr>\n",
       "      <th>3</th>\n",
       "      <td>20001218X45448</td>\n",
       "      <td>Accident</td>\n",
       "      <td>LAX96LA321</td>\n",
       "      <td>1977-06-19</td>\n",
       "      <td>EUREKA, CA</td>\n",
       "      <td>United States</td>\n",
       "      <td>NaN</td>\n",
       "      <td>NaN</td>\n",
       "      <td>NaN</td>\n",
       "      <td>NaN</td>\n",
       "      <td>...</td>\n",
       "      <td>Personal</td>\n",
       "      <td>NaN</td>\n",
       "      <td>2.0</td>\n",
       "      <td>0.0</td>\n",
       "      <td>0.0</td>\n",
       "      <td>0.0</td>\n",
       "      <td>IMC</td>\n",
       "      <td>Cruise</td>\n",
       "      <td>Probable Cause</td>\n",
       "      <td>12-09-2000</td>\n",
       "    </tr>\n",
       "    <tr>\n",
       "      <th>4</th>\n",
       "      <td>20041105X01764</td>\n",
       "      <td>Accident</td>\n",
       "      <td>CHI79FA064</td>\n",
       "      <td>1979-08-02</td>\n",
       "      <td>Canton, OH</td>\n",
       "      <td>United States</td>\n",
       "      <td>NaN</td>\n",
       "      <td>NaN</td>\n",
       "      <td>NaN</td>\n",
       "      <td>NaN</td>\n",
       "      <td>...</td>\n",
       "      <td>Personal</td>\n",
       "      <td>NaN</td>\n",
       "      <td>1.0</td>\n",
       "      <td>2.0</td>\n",
       "      <td>NaN</td>\n",
       "      <td>0.0</td>\n",
       "      <td>VMC</td>\n",
       "      <td>Approach</td>\n",
       "      <td>Probable Cause</td>\n",
       "      <td>16-04-1980</td>\n",
       "    </tr>\n",
       "    <tr>\n",
       "      <th>...</th>\n",
       "      <td>...</td>\n",
       "      <td>...</td>\n",
       "      <td>...</td>\n",
       "      <td>...</td>\n",
       "      <td>...</td>\n",
       "      <td>...</td>\n",
       "      <td>...</td>\n",
       "      <td>...</td>\n",
       "      <td>...</td>\n",
       "      <td>...</td>\n",
       "      <td>...</td>\n",
       "      <td>...</td>\n",
       "      <td>...</td>\n",
       "      <td>...</td>\n",
       "      <td>...</td>\n",
       "      <td>...</td>\n",
       "      <td>...</td>\n",
       "      <td>...</td>\n",
       "      <td>...</td>\n",
       "      <td>...</td>\n",
       "      <td>...</td>\n",
       "    </tr>\n",
       "    <tr>\n",
       "      <th>90343</th>\n",
       "      <td>20221227106491</td>\n",
       "      <td>Accident</td>\n",
       "      <td>ERA23LA093</td>\n",
       "      <td>2022-12-26</td>\n",
       "      <td>Annapolis, MD</td>\n",
       "      <td>United States</td>\n",
       "      <td>NaN</td>\n",
       "      <td>NaN</td>\n",
       "      <td>NaN</td>\n",
       "      <td>NaN</td>\n",
       "      <td>...</td>\n",
       "      <td>Personal</td>\n",
       "      <td>NaN</td>\n",
       "      <td>0.0</td>\n",
       "      <td>1.0</td>\n",
       "      <td>0.0</td>\n",
       "      <td>0.0</td>\n",
       "      <td>NaN</td>\n",
       "      <td>NaN</td>\n",
       "      <td>NaN</td>\n",
       "      <td>29-12-2022</td>\n",
       "    </tr>\n",
       "    <tr>\n",
       "      <th>90344</th>\n",
       "      <td>20221227106494</td>\n",
       "      <td>Accident</td>\n",
       "      <td>ERA23LA095</td>\n",
       "      <td>2022-12-26</td>\n",
       "      <td>Hampton, NH</td>\n",
       "      <td>United States</td>\n",
       "      <td>NaN</td>\n",
       "      <td>NaN</td>\n",
       "      <td>NaN</td>\n",
       "      <td>NaN</td>\n",
       "      <td>...</td>\n",
       "      <td>NaN</td>\n",
       "      <td>NaN</td>\n",
       "      <td>0.0</td>\n",
       "      <td>0.0</td>\n",
       "      <td>0.0</td>\n",
       "      <td>0.0</td>\n",
       "      <td>NaN</td>\n",
       "      <td>NaN</td>\n",
       "      <td>NaN</td>\n",
       "      <td>NaN</td>\n",
       "    </tr>\n",
       "    <tr>\n",
       "      <th>90345</th>\n",
       "      <td>20221227106497</td>\n",
       "      <td>Accident</td>\n",
       "      <td>WPR23LA075</td>\n",
       "      <td>2022-12-26</td>\n",
       "      <td>Payson, AZ</td>\n",
       "      <td>United States</td>\n",
       "      <td>341525N</td>\n",
       "      <td>1112021W</td>\n",
       "      <td>PAN</td>\n",
       "      <td>PAYSON</td>\n",
       "      <td>...</td>\n",
       "      <td>Personal</td>\n",
       "      <td>NaN</td>\n",
       "      <td>0.0</td>\n",
       "      <td>0.0</td>\n",
       "      <td>0.0</td>\n",
       "      <td>1.0</td>\n",
       "      <td>VMC</td>\n",
       "      <td>NaN</td>\n",
       "      <td>NaN</td>\n",
       "      <td>27-12-2022</td>\n",
       "    </tr>\n",
       "    <tr>\n",
       "      <th>90346</th>\n",
       "      <td>20221227106498</td>\n",
       "      <td>Accident</td>\n",
       "      <td>WPR23LA076</td>\n",
       "      <td>2022-12-26</td>\n",
       "      <td>Morgan, UT</td>\n",
       "      <td>United States</td>\n",
       "      <td>NaN</td>\n",
       "      <td>NaN</td>\n",
       "      <td>NaN</td>\n",
       "      <td>NaN</td>\n",
       "      <td>...</td>\n",
       "      <td>Personal</td>\n",
       "      <td>MC CESSNA 210N LLC</td>\n",
       "      <td>0.0</td>\n",
       "      <td>0.0</td>\n",
       "      <td>0.0</td>\n",
       "      <td>0.0</td>\n",
       "      <td>NaN</td>\n",
       "      <td>NaN</td>\n",
       "      <td>NaN</td>\n",
       "      <td>NaN</td>\n",
       "    </tr>\n",
       "    <tr>\n",
       "      <th>90347</th>\n",
       "      <td>20221230106513</td>\n",
       "      <td>Accident</td>\n",
       "      <td>ERA23LA097</td>\n",
       "      <td>2022-12-29</td>\n",
       "      <td>Athens, GA</td>\n",
       "      <td>United States</td>\n",
       "      <td>NaN</td>\n",
       "      <td>NaN</td>\n",
       "      <td>NaN</td>\n",
       "      <td>NaN</td>\n",
       "      <td>...</td>\n",
       "      <td>Personal</td>\n",
       "      <td>NaN</td>\n",
       "      <td>0.0</td>\n",
       "      <td>1.0</td>\n",
       "      <td>0.0</td>\n",
       "      <td>1.0</td>\n",
       "      <td>NaN</td>\n",
       "      <td>NaN</td>\n",
       "      <td>NaN</td>\n",
       "      <td>30-12-2022</td>\n",
       "    </tr>\n",
       "  </tbody>\n",
       "</table>\n",
       "<p>90348 rows × 31 columns</p>\n",
       "</div>"
      ],
      "text/plain": [
       "             Event.Id Investigation.Type Accident.Number  Event.Date  \\\n",
       "0      20001218X45444           Accident      SEA87LA080  1948-10-24   \n",
       "1      20001218X45447           Accident      LAX94LA336  1962-07-19   \n",
       "2      20061025X01555           Accident      NYC07LA005  1974-08-30   \n",
       "3      20001218X45448           Accident      LAX96LA321  1977-06-19   \n",
       "4      20041105X01764           Accident      CHI79FA064  1979-08-02   \n",
       "...               ...                ...             ...         ...   \n",
       "90343  20221227106491           Accident      ERA23LA093  2022-12-26   \n",
       "90344  20221227106494           Accident      ERA23LA095  2022-12-26   \n",
       "90345  20221227106497           Accident      WPR23LA075  2022-12-26   \n",
       "90346  20221227106498           Accident      WPR23LA076  2022-12-26   \n",
       "90347  20221230106513           Accident      ERA23LA097  2022-12-29   \n",
       "\n",
       "              Location        Country Latitude Longitude Airport.Code  \\\n",
       "0      MOOSE CREEK, ID  United States      NaN       NaN          NaN   \n",
       "1       BRIDGEPORT, CA  United States      NaN       NaN          NaN   \n",
       "2        Saltville, VA  United States  36.9222  -81.8781          NaN   \n",
       "3           EUREKA, CA  United States      NaN       NaN          NaN   \n",
       "4           Canton, OH  United States      NaN       NaN          NaN   \n",
       "...                ...            ...      ...       ...          ...   \n",
       "90343    Annapolis, MD  United States      NaN       NaN          NaN   \n",
       "90344      Hampton, NH  United States      NaN       NaN          NaN   \n",
       "90345       Payson, AZ  United States  341525N  1112021W          PAN   \n",
       "90346       Morgan, UT  United States      NaN       NaN          NaN   \n",
       "90347       Athens, GA  United States      NaN       NaN          NaN   \n",
       "\n",
       "      Airport.Name  ... Purpose.of.flight         Air.carrier  \\\n",
       "0              NaN  ...          Personal                 NaN   \n",
       "1              NaN  ...          Personal                 NaN   \n",
       "2              NaN  ...          Personal                 NaN   \n",
       "3              NaN  ...          Personal                 NaN   \n",
       "4              NaN  ...          Personal                 NaN   \n",
       "...            ...  ...               ...                 ...   \n",
       "90343          NaN  ...          Personal                 NaN   \n",
       "90344          NaN  ...               NaN                 NaN   \n",
       "90345       PAYSON  ...          Personal                 NaN   \n",
       "90346          NaN  ...          Personal  MC CESSNA 210N LLC   \n",
       "90347          NaN  ...          Personal                 NaN   \n",
       "\n",
       "      Total.Fatal.Injuries Total.Serious.Injuries Total.Minor.Injuries  \\\n",
       "0                      2.0                    0.0                  0.0   \n",
       "1                      4.0                    0.0                  0.0   \n",
       "2                      3.0                    NaN                  NaN   \n",
       "3                      2.0                    0.0                  0.0   \n",
       "4                      1.0                    2.0                  NaN   \n",
       "...                    ...                    ...                  ...   \n",
       "90343                  0.0                    1.0                  0.0   \n",
       "90344                  0.0                    0.0                  0.0   \n",
       "90345                  0.0                    0.0                  0.0   \n",
       "90346                  0.0                    0.0                  0.0   \n",
       "90347                  0.0                    1.0                  0.0   \n",
       "\n",
       "      Total.Uninjured Weather.Condition  Broad.phase.of.flight  \\\n",
       "0                 0.0               UNK                 Cruise   \n",
       "1                 0.0               UNK                Unknown   \n",
       "2                 NaN               IMC                 Cruise   \n",
       "3                 0.0               IMC                 Cruise   \n",
       "4                 0.0               VMC               Approach   \n",
       "...               ...               ...                    ...   \n",
       "90343             0.0               NaN                    NaN   \n",
       "90344             0.0               NaN                    NaN   \n",
       "90345             1.0               VMC                    NaN   \n",
       "90346             0.0               NaN                    NaN   \n",
       "90347             1.0               NaN                    NaN   \n",
       "\n",
       "        Report.Status Publication.Date  \n",
       "0      Probable Cause              NaN  \n",
       "1      Probable Cause       19-09-1996  \n",
       "2      Probable Cause       26-02-2007  \n",
       "3      Probable Cause       12-09-2000  \n",
       "4      Probable Cause       16-04-1980  \n",
       "...               ...              ...  \n",
       "90343             NaN       29-12-2022  \n",
       "90344             NaN              NaN  \n",
       "90345             NaN       27-12-2022  \n",
       "90346             NaN              NaN  \n",
       "90347             NaN       30-12-2022  \n",
       "\n",
       "[90348 rows x 31 columns]"
      ]
     },
     "execution_count": 196,
     "metadata": {},
     "output_type": "execute_result"
    }
   ],
   "source": [
    "import pandas as pd \n",
    "import numpy as np\n",
    "df = pd.read_csv('../Data/Aviation_Data.csv')\n",
    "df"
   ]
  },
  {
   "cell_type": "code",
   "execution_count": 197,
   "metadata": {},
   "outputs": [
    {
     "name": "stdout",
     "output_type": "stream",
     "text": [
      "<class 'pandas.core.frame.DataFrame'>\n",
      "RangeIndex: 90348 entries, 0 to 90347\n",
      "Data columns (total 31 columns):\n",
      " #   Column                  Non-Null Count  Dtype  \n",
      "---  ------                  --------------  -----  \n",
      " 0   Event.Id                88889 non-null  object \n",
      " 1   Investigation.Type      90348 non-null  object \n",
      " 2   Accident.Number         88889 non-null  object \n",
      " 3   Event.Date              88889 non-null  object \n",
      " 4   Location                88837 non-null  object \n",
      " 5   Country                 88663 non-null  object \n",
      " 6   Latitude                34382 non-null  object \n",
      " 7   Longitude               34373 non-null  object \n",
      " 8   Airport.Code            50249 non-null  object \n",
      " 9   Airport.Name            52790 non-null  object \n",
      " 10  Injury.Severity         87889 non-null  object \n",
      " 11  Aircraft.damage         85695 non-null  object \n",
      " 12  Aircraft.Category       32287 non-null  object \n",
      " 13  Registration.Number     87572 non-null  object \n",
      " 14  Make                    88826 non-null  object \n",
      " 15  Model                   88797 non-null  object \n",
      " 16  Amateur.Built           88787 non-null  object \n",
      " 17  Number.of.Engines       82805 non-null  float64\n",
      " 18  Engine.Type             81812 non-null  object \n",
      " 19  FAR.Description         32023 non-null  object \n",
      " 20  Schedule                12582 non-null  object \n",
      " 21  Purpose.of.flight       82697 non-null  object \n",
      " 22  Air.carrier             16648 non-null  object \n",
      " 23  Total.Fatal.Injuries    77488 non-null  float64\n",
      " 24  Total.Serious.Injuries  76379 non-null  float64\n",
      " 25  Total.Minor.Injuries    76956 non-null  float64\n",
      " 26  Total.Uninjured         82977 non-null  float64\n",
      " 27  Weather.Condition       84397 non-null  object \n",
      " 28  Broad.phase.of.flight   61724 non-null  object \n",
      " 29  Report.Status           82508 non-null  object \n",
      " 30  Publication.Date        73659 non-null  object \n",
      "dtypes: float64(5), object(26)\n",
      "memory usage: 21.4+ MB\n"
     ]
    }
   ],
   "source": [
    "df.info()"
   ]
  },
  {
   "cell_type": "code",
   "execution_count": 198,
   "metadata": {},
   "outputs": [
    {
     "data": {
      "text/plain": [
       "(90348, 31)"
      ]
     },
     "execution_count": 198,
     "metadata": {},
     "output_type": "execute_result"
    }
   ],
   "source": [
    "df.shape"
   ]
  },
  {
   "cell_type": "code",
   "execution_count": 199,
   "metadata": {},
   "outputs": [
    {
     "data": {
      "text/plain": [
       "0.0      59675\n",
       "1.0       8883\n",
       "2.0       5173\n",
       "3.0       1589\n",
       "4.0       1103\n",
       "         ...  \n",
       "31.0         1\n",
       "169.0        1\n",
       "150.0        1\n",
       "117.0        1\n",
       "156.0        1\n",
       "Name: Total.Fatal.Injuries, Length: 125, dtype: int64"
      ]
     },
     "execution_count": 199,
     "metadata": {},
     "output_type": "execute_result"
    }
   ],
   "source": [
    "df['Total.Fatal.Injuries'].value_counts()\n"
   ]
  },
  {
   "cell_type": "code",
   "execution_count": 200,
   "metadata": {
    "scrolled": true
   },
   "outputs": [
    {
     "data": {
      "text/plain": [
       "0.0      61454\n",
       "1.0      10320\n",
       "2.0       3576\n",
       "3.0        784\n",
       "4.0        372\n",
       "5.0        129\n",
       "6.0         67\n",
       "7.0         59\n",
       "9.0         22\n",
       "8.0         20\n",
       "13.0        14\n",
       "12.0        11\n",
       "10.0        11\n",
       "14.0        10\n",
       "11.0         9\n",
       "17.0         8\n",
       "18.0         6\n",
       "19.0         6\n",
       "22.0         5\n",
       "24.0         5\n",
       "15.0         4\n",
       "33.0         4\n",
       "16.0         4\n",
       "25.0         4\n",
       "23.0         3\n",
       "21.0         3\n",
       "32.0         3\n",
       "20.0         3\n",
       "27.0         3\n",
       "26.0         3\n",
       "30.0         2\n",
       "36.0         2\n",
       "42.0         2\n",
       "28.0         2\n",
       "38.0         2\n",
       "50.0         2\n",
       "31.0         2\n",
       "43.0         1\n",
       "39.0         1\n",
       "65.0         1\n",
       "47.0         1\n",
       "57.0         1\n",
       "58.0         1\n",
       "29.0         1\n",
       "45.0         1\n",
       "62.0         1\n",
       "71.0         1\n",
       "200.0        1\n",
       "125.0        1\n",
       "96.0         1\n",
       "69.0         1\n",
       "380.0        1\n",
       "68.0         1\n",
       "171.0        1\n",
       "35.0         1\n",
       "40.0         1\n",
       "84.0         1\n",
       "Name: Total.Minor.Injuries, dtype: int64"
      ]
     },
     "execution_count": 200,
     "metadata": {},
     "output_type": "execute_result"
    }
   ],
   "source": [
    "df['Total.Minor.Injuries'].value_counts()"
   ]
  },
  {
   "cell_type": "code",
   "execution_count": 201,
   "metadata": {},
   "outputs": [
    {
     "data": {
      "text/plain": [
       "0.0      29879\n",
       "1.0      25101\n",
       "2.0      15988\n",
       "3.0       4313\n",
       "4.0       2662\n",
       "         ...  \n",
       "325.0        1\n",
       "230.0        1\n",
       "260.0        1\n",
       "251.0        1\n",
       "414.0        1\n",
       "Name: Total.Uninjured, Length: 379, dtype: int64"
      ]
     },
     "execution_count": 201,
     "metadata": {},
     "output_type": "execute_result"
    }
   ],
   "source": [
    "df['Total.Uninjured'].value_counts()"
   ]
  },
  {
   "cell_type": "code",
   "execution_count": 202,
   "metadata": {},
   "outputs": [
    {
     "data": {
      "text/plain": [
       "12860"
      ]
     },
     "execution_count": 202,
     "metadata": {},
     "output_type": "execute_result"
    }
   ],
   "source": [
    "#represent ~ 14% of data \n",
    "df['Total.Fatal.Injuries'].isna().sum()"
   ]
  },
  {
   "cell_type": "code",
   "execution_count": 203,
   "metadata": {},
   "outputs": [
    {
     "data": {
      "text/plain": [
       "13969"
      ]
     },
     "execution_count": 203,
     "metadata": {},
     "output_type": "execute_result"
    }
   ],
   "source": [
    "#represent ~ 15% of data \n",
    "df['Total.Serious.Injuries'].isna().sum()"
   ]
  },
  {
   "cell_type": "code",
   "execution_count": 204,
   "metadata": {},
   "outputs": [
    {
     "data": {
      "text/plain": [
       "13392"
      ]
     },
     "execution_count": 204,
     "metadata": {},
     "output_type": "execute_result"
    }
   ],
   "source": [
    "##represent ~ 14% of data \n",
    "df['Total.Minor.Injuries'].isna().sum()"
   ]
  },
  {
   "cell_type": "code",
   "execution_count": 205,
   "metadata": {},
   "outputs": [
    {
     "data": {
      "text/plain": [
       "7371"
      ]
     },
     "execution_count": 205,
     "metadata": {},
     "output_type": "execute_result"
    }
   ],
   "source": [
    "df['Total.Uninjured'].isna().sum()"
   ]
  },
  {
   "cell_type": "code",
   "execution_count": 206,
   "metadata": {},
   "outputs": [
    {
     "data": {
      "text/plain": [
       "1459"
      ]
     },
     "execution_count": 206,
     "metadata": {},
     "output_type": "execute_result"
    }
   ],
   "source": [
    "df['Event.Date'].isna().sum()"
   ]
  },
  {
   "cell_type": "markdown",
   "metadata": {},
   "source": [
    "DATA CLEANNING"
   ]
  },
  {
   "cell_type": "code",
   "execution_count": 207,
   "metadata": {},
   "outputs": [],
   "source": [
    "#DROPPING THE NULS VALUES"
   ]
  },
  {
   "cell_type": "code",
   "execution_count": 208,
   "metadata": {},
   "outputs": [],
   "source": [
    "columns_to_drop_na = ['Injury.Severity','Total.Fatal.Injuries', 'Total.Serious.Injuries', 'Total.Minor.Injuries', 'Total.Uninjured', 'Event.Date', 'Report.Status']"
   ]
  },
  {
   "cell_type": "code",
   "execution_count": 209,
   "metadata": {},
   "outputs": [],
   "source": [
    "df.dropna(subset=columns_to_drop_na, inplace=True)"
   ]
  },
  {
   "cell_type": "code",
   "execution_count": 210,
   "metadata": {},
   "outputs": [],
   "source": [
    "#SANITY CHECK "
   ]
  },
  {
   "cell_type": "code",
   "execution_count": 211,
   "metadata": {},
   "outputs": [
    {
     "data": {
      "text/plain": [
       "0"
      ]
     },
     "execution_count": 211,
     "metadata": {},
     "output_type": "execute_result"
    }
   ],
   "source": [
    "df['Total.Uninjured'].isna().sum()"
   ]
  },
  {
   "cell_type": "code",
   "execution_count": 212,
   "metadata": {},
   "outputs": [
    {
     "data": {
      "text/plain": [
       "0"
      ]
     },
     "execution_count": 212,
     "metadata": {},
     "output_type": "execute_result"
    }
   ],
   "source": [
    "df['Report.Status'].isna().sum()"
   ]
  },
  {
   "cell_type": "code",
   "execution_count": 213,
   "metadata": {
    "scrolled": true
   },
   "outputs": [
    {
     "data": {
      "text/plain": [
       "0"
      ]
     },
     "execution_count": 213,
     "metadata": {},
     "output_type": "execute_result"
    }
   ],
   "source": [
    "df['Total.Uninjured'].isna().sum()"
   ]
  },
  {
   "cell_type": "code",
   "execution_count": 214,
   "metadata": {},
   "outputs": [],
   "source": [
    "# Removing the duplicates values"
   ]
  },
  {
   "cell_type": "code",
   "execution_count": 215,
   "metadata": {},
   "outputs": [
    {
     "data": {
      "text/plain": [
       "False    67887\n",
       "dtype: int64"
      ]
     },
     "execution_count": 215,
     "metadata": {},
     "output_type": "execute_result"
    }
   ],
   "source": [
    "df.duplicated().value_counts()\n",
    "\n"
   ]
  },
  {
   "cell_type": "code",
   "execution_count": 216,
   "metadata": {},
   "outputs": [],
   "source": [
    "#to remove duplicates data \n",
    "df.drop_duplicates(inplace=True)"
   ]
  },
  {
   "cell_type": "code",
   "execution_count": 217,
   "metadata": {},
   "outputs": [
    {
     "data": {
      "text/plain": [
       "False    67887\n",
       "dtype: int64"
      ]
     },
     "execution_count": 217,
     "metadata": {},
     "output_type": "execute_result"
    }
   ],
   "source": [
    "#Sanity check \n",
    "df.duplicated().value_counts()"
   ]
  },
  {
   "cell_type": "markdown",
   "metadata": {},
   "source": [
    "NORMALIZING "
   ]
  },
  {
   "cell_type": "code",
   "execution_count": 218,
   "metadata": {},
   "outputs": [
    {
     "data": {
      "text/plain": [
       "Cessna                     21749\n",
       "Piper                      11950\n",
       "Beech                       4167\n",
       "Bell                        1990\n",
       "Boeing                      1314\n",
       "                           ...  \n",
       "James h berard                 1\n",
       "Lindstrand balloons usa        1\n",
       "Raser                          1\n",
       "Alkire                         1\n",
       "Dobbs george                   1\n",
       "Name: Make, Length: 5955, dtype: int64"
      ]
     },
     "execution_count": 218,
     "metadata": {},
     "output_type": "execute_result"
    }
   ],
   "source": [
    "df['Make'] = df['Make'].str.capitalize()\n",
    "df['Make'].value_counts()"
   ]
  },
  {
   "cell_type": "code",
   "execution_count": 219,
   "metadata": {},
   "outputs": [
    {
     "data": {
      "text/plain": [
       "(67887, 31)"
      ]
     },
     "execution_count": 219,
     "metadata": {},
     "output_type": "execute_result"
    }
   ],
   "source": [
    "df.shape"
   ]
  },
  {
   "cell_type": "code",
   "execution_count": 220,
   "metadata": {},
   "outputs": [
    {
     "name": "stdout",
     "output_type": "stream",
     "text": [
      "0        1948\n",
      "1        1962\n",
      "3        1977\n",
      "6        1981\n",
      "7        1982\n",
      "         ... \n",
      "90098    2022\n",
      "90106    2022\n",
      "90120    2022\n",
      "90194    2022\n",
      "90226    2022\n",
      "Name: Year, Length: 67887, dtype: object\n"
     ]
    }
   ],
   "source": [
    "#creating the year column\n",
    "df['Year'] = df['Event.Date'].str[:4]\n",
    "print(df['Year'])\n"
   ]
  },
  {
   "cell_type": "code",
   "execution_count": 221,
   "metadata": {},
   "outputs": [
    {
     "data": {
      "text/plain": [
       "No     61378\n",
       "Yes     6507\n",
       "Name: Amateur.Built, dtype: int64"
      ]
     },
     "execution_count": 221,
     "metadata": {},
     "output_type": "execute_result"
    }
   ],
   "source": [
    "df['Amateur.Built'].value_counts()\n"
   ]
  },
  {
   "cell_type": "code",
   "execution_count": 222,
   "metadata": {},
   "outputs": [
    {
     "name": "stdout",
     "output_type": "stream",
     "text": [
      "<class 'pandas.core.frame.DataFrame'>\n",
      "Int64Index: 67887 entries, 0 to 90226\n",
      "Data columns (total 32 columns):\n",
      " #   Column                  Non-Null Count  Dtype  \n",
      "---  ------                  --------------  -----  \n",
      " 0   Event.Id                67887 non-null  object \n",
      " 1   Investigation.Type      67887 non-null  object \n",
      " 2   Accident.Number         67887 non-null  object \n",
      " 3   Event.Date              67887 non-null  object \n",
      " 4   Location                67855 non-null  object \n",
      " 5   Country                 67675 non-null  object \n",
      " 6   Latitude                18567 non-null  object \n",
      " 7   Longitude               18567 non-null  object \n",
      " 8   Airport.Code            39290 non-null  object \n",
      " 9   Airport.Name            41770 non-null  object \n",
      " 10  Injury.Severity         67887 non-null  object \n",
      " 11  Aircraft.damage         66311 non-null  object \n",
      " 12  Aircraft.Category       22174 non-null  object \n",
      " 13  Registration.Number     67651 non-null  object \n",
      " 14  Make                    67874 non-null  object \n",
      " 15  Model                   67859 non-null  object \n",
      " 16  Amateur.Built           67885 non-null  object \n",
      " 17  Number.of.Engines       66000 non-null  float64\n",
      " 18  Engine.Type             67126 non-null  object \n",
      " 19  FAR.Description         22119 non-null  object \n",
      " 20  Schedule                9453 non-null   object \n",
      " 21  Purpose.of.flight       66544 non-null  object \n",
      " 22  Air.carrier             13103 non-null  object \n",
      " 23  Total.Fatal.Injuries    67887 non-null  float64\n",
      " 24  Total.Serious.Injuries  67887 non-null  float64\n",
      " 25  Total.Minor.Injuries    67887 non-null  float64\n",
      " 26  Total.Uninjured         67887 non-null  float64\n",
      " 27  Weather.Condition       67667 non-null  object \n",
      " 28  Broad.phase.of.flight   48539 non-null  object \n",
      " 29  Report.Status           67887 non-null  object \n",
      " 30  Publication.Date        54030 non-null  object \n",
      " 31  Year                    67887 non-null  object \n",
      "dtypes: float64(5), object(27)\n",
      "memory usage: 17.1+ MB\n"
     ]
    }
   ],
   "source": [
    "df.info()"
   ]
  },
  {
   "cell_type": "code",
   "execution_count": 223,
   "metadata": {},
   "outputs": [
    {
     "data": {
      "text/plain": [
       "Airplane             19089\n",
       "Helicopter            2141\n",
       "Glider                 371\n",
       "Balloon                177\n",
       "Weight-Shift           151\n",
       "Gyrocraft              130\n",
       "Powered Parachute       87\n",
       "Ultralight              19\n",
       "Unknown                  5\n",
       "WSFT                     1\n",
       "Rocket                   1\n",
       "Blimp                    1\n",
       "Powered-Lift             1\n",
       "Name: Aircraft.Category, dtype: int64"
      ]
     },
     "execution_count": 223,
     "metadata": {},
     "output_type": "execute_result"
    }
   ],
   "source": [
    "df['Aircraft.Category'].value_counts()"
   ]
  },
  {
   "cell_type": "code",
   "execution_count": 224,
   "metadata": {},
   "outputs": [],
   "source": [
    "#df = df[df['Aircraft.Category'].str.lower().str.contains('airplane', na=False)]zz"
   ]
  },
  {
   "cell_type": "code",
   "execution_count": 225,
   "metadata": {},
   "outputs": [],
   "source": [
    "# to select only the Airplane category in the Aircraft category column\n",
    "df = df[df['Aircraft.Category'] == 'Airplane']"
   ]
  },
  {
   "cell_type": "code",
   "execution_count": 226,
   "metadata": {},
   "outputs": [
    {
     "data": {
      "text/plain": [
       "Airplane    19089\n",
       "Name: Aircraft.Category, dtype: int64"
      ]
     },
     "execution_count": 226,
     "metadata": {},
     "output_type": "execute_result"
    }
   ],
   "source": [
    "df['Aircraft.Category'].value_counts()\n"
   ]
  },
  {
   "cell_type": "code",
   "execution_count": 227,
   "metadata": {},
   "outputs": [
    {
     "name": "stdout",
     "output_type": "stream",
     "text": [
      "<class 'pandas.core.frame.DataFrame'>\n",
      "Int64Index: 19089 entries, 7 to 90226\n",
      "Data columns (total 32 columns):\n",
      " #   Column                  Non-Null Count  Dtype  \n",
      "---  ------                  --------------  -----  \n",
      " 0   Event.Id                19089 non-null  object \n",
      " 1   Investigation.Type      19089 non-null  object \n",
      " 2   Accident.Number         19089 non-null  object \n",
      " 3   Event.Date              19089 non-null  object \n",
      " 4   Location                19089 non-null  object \n",
      " 5   Country                 19083 non-null  object \n",
      " 6   Latitude                15801 non-null  object \n",
      " 7   Longitude               15801 non-null  object \n",
      " 8   Airport.Code            13401 non-null  object \n",
      " 9   Airport.Name            14035 non-null  object \n",
      " 10  Injury.Severity         19089 non-null  object \n",
      " 11  Aircraft.damage         18682 non-null  object \n",
      " 12  Aircraft.Category       19089 non-null  object \n",
      " 13  Registration.Number     19085 non-null  object \n",
      " 14  Make                    19083 non-null  object \n",
      " 15  Model                   19075 non-null  object \n",
      " 16  Amateur.Built           19089 non-null  object \n",
      " 17  Number.of.Engines       18602 non-null  float64\n",
      " 18  Engine.Type             18789 non-null  object \n",
      " 19  FAR.Description         19036 non-null  object \n",
      " 20  Schedule                1562 non-null   object \n",
      " 21  Purpose.of.flight       18041 non-null  object \n",
      " 22  Air.carrier             8832 non-null   object \n",
      " 23  Total.Fatal.Injuries    19089 non-null  float64\n",
      " 24  Total.Serious.Injuries  19089 non-null  float64\n",
      " 25  Total.Minor.Injuries    19089 non-null  float64\n",
      " 26  Total.Uninjured         19089 non-null  float64\n",
      " 27  Weather.Condition       18916 non-null  object \n",
      " 28  Broad.phase.of.flight   3251 non-null   object \n",
      " 29  Report.Status           19089 non-null  object \n",
      " 30  Publication.Date        17855 non-null  object \n",
      " 31  Year                    19089 non-null  object \n",
      "dtypes: float64(5), object(27)\n",
      "memory usage: 4.8+ MB\n"
     ]
    }
   ],
   "source": [
    "df.info()"
   ]
  },
  {
   "cell_type": "code",
   "execution_count": null,
   "metadata": {},
   "outputs": [],
   "source": [
    "\n"
   ]
  },
  {
   "cell_type": "code",
   "execution_count": 228,
   "metadata": {},
   "outputs": [
    {
     "data": {
      "text/html": [
       "<div>\n",
       "<style scoped>\n",
       "    .dataframe tbody tr th:only-of-type {\n",
       "        vertical-align: middle;\n",
       "    }\n",
       "\n",
       "    .dataframe tbody tr th {\n",
       "        vertical-align: top;\n",
       "    }\n",
       "\n",
       "    .dataframe thead th {\n",
       "        text-align: right;\n",
       "    }\n",
       "</style>\n",
       "<table border=\"1\" class=\"dataframe\">\n",
       "  <thead>\n",
       "    <tr style=\"text-align: right;\">\n",
       "      <th></th>\n",
       "      <th>Event.Id</th>\n",
       "      <th>Investigation.Type</th>\n",
       "      <th>Accident.Number</th>\n",
       "      <th>Event.Date</th>\n",
       "      <th>Location</th>\n",
       "      <th>Country</th>\n",
       "      <th>Latitude</th>\n",
       "      <th>Longitude</th>\n",
       "      <th>Airport.Code</th>\n",
       "      <th>Airport.Name</th>\n",
       "      <th>...</th>\n",
       "      <th>Air.carrier</th>\n",
       "      <th>Total.Fatal.Injuries</th>\n",
       "      <th>Total.Serious.Injuries</th>\n",
       "      <th>Total.Minor.Injuries</th>\n",
       "      <th>Total.Uninjured</th>\n",
       "      <th>Weather.Condition</th>\n",
       "      <th>Broad.phase.of.flight</th>\n",
       "      <th>Report.Status</th>\n",
       "      <th>Publication.Date</th>\n",
       "      <th>Year</th>\n",
       "    </tr>\n",
       "  </thead>\n",
       "  <tbody>\n",
       "    <tr>\n",
       "      <th>7</th>\n",
       "      <td>20020909X01562</td>\n",
       "      <td>Accident</td>\n",
       "      <td>SEA82DA022</td>\n",
       "      <td>1982-01-01</td>\n",
       "      <td>PULLMAN, WA</td>\n",
       "      <td>United States</td>\n",
       "      <td>NaN</td>\n",
       "      <td>NaN</td>\n",
       "      <td>NaN</td>\n",
       "      <td>BLACKBURN AG STRIP</td>\n",
       "      <td>...</td>\n",
       "      <td>NaN</td>\n",
       "      <td>0.0</td>\n",
       "      <td>0.0</td>\n",
       "      <td>0.0</td>\n",
       "      <td>2.0</td>\n",
       "      <td>VMC</td>\n",
       "      <td>Takeoff</td>\n",
       "      <td>Probable Cause</td>\n",
       "      <td>01-01-1982</td>\n",
       "      <td>1982</td>\n",
       "    </tr>\n",
       "    <tr>\n",
       "      <th>8</th>\n",
       "      <td>20020909X01561</td>\n",
       "      <td>Accident</td>\n",
       "      <td>NYC82DA015</td>\n",
       "      <td>1982-01-01</td>\n",
       "      <td>EAST HANOVER, NJ</td>\n",
       "      <td>United States</td>\n",
       "      <td>NaN</td>\n",
       "      <td>NaN</td>\n",
       "      <td>N58</td>\n",
       "      <td>HANOVER</td>\n",
       "      <td>...</td>\n",
       "      <td>NaN</td>\n",
       "      <td>0.0</td>\n",
       "      <td>0.0</td>\n",
       "      <td>0.0</td>\n",
       "      <td>2.0</td>\n",
       "      <td>IMC</td>\n",
       "      <td>Landing</td>\n",
       "      <td>Probable Cause</td>\n",
       "      <td>01-01-1982</td>\n",
       "      <td>1982</td>\n",
       "    </tr>\n",
       "    <tr>\n",
       "      <th>12</th>\n",
       "      <td>20020917X02148</td>\n",
       "      <td>Accident</td>\n",
       "      <td>FTW82FRJ07</td>\n",
       "      <td>1982-01-02</td>\n",
       "      <td>HOMER, LA</td>\n",
       "      <td>United States</td>\n",
       "      <td>NaN</td>\n",
       "      <td>NaN</td>\n",
       "      <td>NaN</td>\n",
       "      <td>NaN</td>\n",
       "      <td>...</td>\n",
       "      <td>NaN</td>\n",
       "      <td>0.0</td>\n",
       "      <td>0.0</td>\n",
       "      <td>1.0</td>\n",
       "      <td>0.0</td>\n",
       "      <td>IMC</td>\n",
       "      <td>Cruise</td>\n",
       "      <td>Probable Cause</td>\n",
       "      <td>02-01-1983</td>\n",
       "      <td>1982</td>\n",
       "    </tr>\n",
       "    <tr>\n",
       "      <th>13</th>\n",
       "      <td>20020917X02134</td>\n",
       "      <td>Accident</td>\n",
       "      <td>FTW82FRA14</td>\n",
       "      <td>1982-01-02</td>\n",
       "      <td>HEARNE, TX</td>\n",
       "      <td>United States</td>\n",
       "      <td>NaN</td>\n",
       "      <td>NaN</td>\n",
       "      <td>T72</td>\n",
       "      <td>HEARNE MUNICIPAL</td>\n",
       "      <td>...</td>\n",
       "      <td>NaN</td>\n",
       "      <td>1.0</td>\n",
       "      <td>0.0</td>\n",
       "      <td>0.0</td>\n",
       "      <td>0.0</td>\n",
       "      <td>IMC</td>\n",
       "      <td>Takeoff</td>\n",
       "      <td>Probable Cause</td>\n",
       "      <td>02-01-1983</td>\n",
       "      <td>1982</td>\n",
       "    </tr>\n",
       "    <tr>\n",
       "      <th>14</th>\n",
       "      <td>20020917X02119</td>\n",
       "      <td>Accident</td>\n",
       "      <td>FTW82FPJ10</td>\n",
       "      <td>1982-01-02</td>\n",
       "      <td>CHICKASHA, OK</td>\n",
       "      <td>United States</td>\n",
       "      <td>NaN</td>\n",
       "      <td>NaN</td>\n",
       "      <td>NaN</td>\n",
       "      <td>NaN</td>\n",
       "      <td>...</td>\n",
       "      <td>NaN</td>\n",
       "      <td>1.0</td>\n",
       "      <td>0.0</td>\n",
       "      <td>0.0</td>\n",
       "      <td>0.0</td>\n",
       "      <td>IMC</td>\n",
       "      <td>Cruise</td>\n",
       "      <td>Probable Cause</td>\n",
       "      <td>02-01-1983</td>\n",
       "      <td>1982</td>\n",
       "    </tr>\n",
       "    <tr>\n",
       "      <th>...</th>\n",
       "      <td>...</td>\n",
       "      <td>...</td>\n",
       "      <td>...</td>\n",
       "      <td>...</td>\n",
       "      <td>...</td>\n",
       "      <td>...</td>\n",
       "      <td>...</td>\n",
       "      <td>...</td>\n",
       "      <td>...</td>\n",
       "      <td>...</td>\n",
       "      <td>...</td>\n",
       "      <td>...</td>\n",
       "      <td>...</td>\n",
       "      <td>...</td>\n",
       "      <td>...</td>\n",
       "      <td>...</td>\n",
       "      <td>...</td>\n",
       "      <td>...</td>\n",
       "      <td>...</td>\n",
       "      <td>...</td>\n",
       "      <td>...</td>\n",
       "    </tr>\n",
       "    <tr>\n",
       "      <th>90098</th>\n",
       "      <td>20221011106092</td>\n",
       "      <td>Accident</td>\n",
       "      <td>CEN23LA008</td>\n",
       "      <td>2022-10-06</td>\n",
       "      <td>Iola, TX</td>\n",
       "      <td>United States</td>\n",
       "      <td>304354N</td>\n",
       "      <td>0096752W</td>\n",
       "      <td>PVT</td>\n",
       "      <td>Private</td>\n",
       "      <td>...</td>\n",
       "      <td>NaN</td>\n",
       "      <td>0.0</td>\n",
       "      <td>0.0</td>\n",
       "      <td>0.0</td>\n",
       "      <td>1.0</td>\n",
       "      <td>VMC</td>\n",
       "      <td>NaN</td>\n",
       "      <td>The pilots failure to maintain control of the...</td>\n",
       "      <td>20-12-2022</td>\n",
       "      <td>2022</td>\n",
       "    </tr>\n",
       "    <tr>\n",
       "      <th>90106</th>\n",
       "      <td>20221011106098</td>\n",
       "      <td>Accident</td>\n",
       "      <td>ERA23LA014</td>\n",
       "      <td>2022-10-08</td>\n",
       "      <td>Dacula, GA</td>\n",
       "      <td>United States</td>\n",
       "      <td>034055N</td>\n",
       "      <td>0835224W</td>\n",
       "      <td>LZU</td>\n",
       "      <td>GWINNETT COUNTY - BRISCOE FLD</td>\n",
       "      <td>...</td>\n",
       "      <td>NaN</td>\n",
       "      <td>0.0</td>\n",
       "      <td>0.0</td>\n",
       "      <td>0.0</td>\n",
       "      <td>2.0</td>\n",
       "      <td>VMC</td>\n",
       "      <td>NaN</td>\n",
       "      <td>An in-flight collision with a bird while on ap...</td>\n",
       "      <td>20-12-2022</td>\n",
       "      <td>2022</td>\n",
       "    </tr>\n",
       "    <tr>\n",
       "      <th>90120</th>\n",
       "      <td>20221018106153</td>\n",
       "      <td>Accident</td>\n",
       "      <td>CEN23LA015</td>\n",
       "      <td>2022-10-13</td>\n",
       "      <td>Ardmore, OK</td>\n",
       "      <td>United States</td>\n",
       "      <td>034849N</td>\n",
       "      <td>0097722W</td>\n",
       "      <td>1F0</td>\n",
       "      <td>Ardmore Downtown Executive Air</td>\n",
       "      <td>...</td>\n",
       "      <td>NaN</td>\n",
       "      <td>0.0</td>\n",
       "      <td>0.0</td>\n",
       "      <td>0.0</td>\n",
       "      <td>1.0</td>\n",
       "      <td>VMC</td>\n",
       "      <td>NaN</td>\n",
       "      <td>The pilot did not ensure adequate clearance fr...</td>\n",
       "      <td>20-12-2022</td>\n",
       "      <td>2022</td>\n",
       "    </tr>\n",
       "    <tr>\n",
       "      <th>90194</th>\n",
       "      <td>20221031106231</td>\n",
       "      <td>Accident</td>\n",
       "      <td>CEN23LA023</td>\n",
       "      <td>2022-10-29</td>\n",
       "      <td>Houston, TX</td>\n",
       "      <td>United States</td>\n",
       "      <td>293620N</td>\n",
       "      <td>0095959W</td>\n",
       "      <td>EFD</td>\n",
       "      <td>ELLINGTON</td>\n",
       "      <td>...</td>\n",
       "      <td>NaN</td>\n",
       "      <td>0.0</td>\n",
       "      <td>1.0</td>\n",
       "      <td>0.0</td>\n",
       "      <td>0.0</td>\n",
       "      <td>VMC</td>\n",
       "      <td>NaN</td>\n",
       "      <td>The pilots failure to secure the magneto swit...</td>\n",
       "      <td>20-12-2022</td>\n",
       "      <td>2022</td>\n",
       "    </tr>\n",
       "    <tr>\n",
       "      <th>90226</th>\n",
       "      <td>20221109106272</td>\n",
       "      <td>Accident</td>\n",
       "      <td>CEN23LA033</td>\n",
       "      <td>2022-11-09</td>\n",
       "      <td>Bridgeport, TX</td>\n",
       "      <td>United States</td>\n",
       "      <td>331026N</td>\n",
       "      <td>0974943W</td>\n",
       "      <td>KXBP</td>\n",
       "      <td>Bridgeport Municipal</td>\n",
       "      <td>...</td>\n",
       "      <td>NaN</td>\n",
       "      <td>0.0</td>\n",
       "      <td>0.0</td>\n",
       "      <td>0.0</td>\n",
       "      <td>2.0</td>\n",
       "      <td>VMC</td>\n",
       "      <td>NaN</td>\n",
       "      <td>The pilots loss of control due to a wind gust...</td>\n",
       "      <td>20-12-2022</td>\n",
       "      <td>2022</td>\n",
       "    </tr>\n",
       "  </tbody>\n",
       "</table>\n",
       "<p>19089 rows × 32 columns</p>\n",
       "</div>"
      ],
      "text/plain": [
       "             Event.Id Investigation.Type Accident.Number  Event.Date  \\\n",
       "7      20020909X01562           Accident      SEA82DA022  1982-01-01   \n",
       "8      20020909X01561           Accident      NYC82DA015  1982-01-01   \n",
       "12     20020917X02148           Accident      FTW82FRJ07  1982-01-02   \n",
       "13     20020917X02134           Accident      FTW82FRA14  1982-01-02   \n",
       "14     20020917X02119           Accident      FTW82FPJ10  1982-01-02   \n",
       "...               ...                ...             ...         ...   \n",
       "90098  20221011106092           Accident      CEN23LA008  2022-10-06   \n",
       "90106  20221011106098           Accident      ERA23LA014  2022-10-08   \n",
       "90120  20221018106153           Accident      CEN23LA015  2022-10-13   \n",
       "90194  20221031106231           Accident      CEN23LA023  2022-10-29   \n",
       "90226  20221109106272           Accident      CEN23LA033  2022-11-09   \n",
       "\n",
       "               Location        Country Latitude Longitude Airport.Code  \\\n",
       "7           PULLMAN, WA  United States      NaN       NaN          NaN   \n",
       "8      EAST HANOVER, NJ  United States      NaN       NaN          N58   \n",
       "12            HOMER, LA  United States      NaN       NaN          NaN   \n",
       "13           HEARNE, TX  United States      NaN       NaN          T72   \n",
       "14        CHICKASHA, OK  United States      NaN       NaN          NaN   \n",
       "...                 ...            ...      ...       ...          ...   \n",
       "90098          Iola, TX  United States  304354N  0096752W          PVT   \n",
       "90106        Dacula, GA  United States  034055N  0835224W          LZU   \n",
       "90120       Ardmore, OK  United States  034849N  0097722W          1F0   \n",
       "90194       Houston, TX  United States  293620N  0095959W          EFD   \n",
       "90226    Bridgeport, TX  United States  331026N  0974943W         KXBP   \n",
       "\n",
       "                         Airport.Name  ... Air.carrier Total.Fatal.Injuries  \\\n",
       "7                  BLACKBURN AG STRIP  ...         NaN                  0.0   \n",
       "8                             HANOVER  ...         NaN                  0.0   \n",
       "12                                NaN  ...         NaN                  0.0   \n",
       "13                   HEARNE MUNICIPAL  ...         NaN                  1.0   \n",
       "14                                NaN  ...         NaN                  1.0   \n",
       "...                               ...  ...         ...                  ...   \n",
       "90098                         Private  ...         NaN                  0.0   \n",
       "90106   GWINNETT COUNTY - BRISCOE FLD  ...         NaN                  0.0   \n",
       "90120  Ardmore Downtown Executive Air  ...         NaN                  0.0   \n",
       "90194                       ELLINGTON  ...         NaN                  0.0   \n",
       "90226            Bridgeport Municipal  ...         NaN                  0.0   \n",
       "\n",
       "      Total.Serious.Injuries Total.Minor.Injuries Total.Uninjured  \\\n",
       "7                        0.0                  0.0             2.0   \n",
       "8                        0.0                  0.0             2.0   \n",
       "12                       0.0                  1.0             0.0   \n",
       "13                       0.0                  0.0             0.0   \n",
       "14                       0.0                  0.0             0.0   \n",
       "...                      ...                  ...             ...   \n",
       "90098                    0.0                  0.0             1.0   \n",
       "90106                    0.0                  0.0             2.0   \n",
       "90120                    0.0                  0.0             1.0   \n",
       "90194                    1.0                  0.0             0.0   \n",
       "90226                    0.0                  0.0             2.0   \n",
       "\n",
       "      Weather.Condition Broad.phase.of.flight  \\\n",
       "7                   VMC               Takeoff   \n",
       "8                   IMC               Landing   \n",
       "12                  IMC                Cruise   \n",
       "13                  IMC               Takeoff   \n",
       "14                  IMC                Cruise   \n",
       "...                 ...                   ...   \n",
       "90098               VMC                   NaN   \n",
       "90106               VMC                   NaN   \n",
       "90120               VMC                   NaN   \n",
       "90194               VMC                   NaN   \n",
       "90226               VMC                   NaN   \n",
       "\n",
       "                                           Report.Status Publication.Date  \\\n",
       "7                                         Probable Cause       01-01-1982   \n",
       "8                                         Probable Cause       01-01-1982   \n",
       "12                                        Probable Cause       02-01-1983   \n",
       "13                                        Probable Cause       02-01-1983   \n",
       "14                                        Probable Cause       02-01-1983   \n",
       "...                                                  ...              ...   \n",
       "90098  The pilots failure to maintain control of the...       20-12-2022   \n",
       "90106  An in-flight collision with a bird while on ap...       20-12-2022   \n",
       "90120  The pilot did not ensure adequate clearance fr...       20-12-2022   \n",
       "90194  The pilots failure to secure the magneto swit...       20-12-2022   \n",
       "90226  The pilots loss of control due to a wind gust...       20-12-2022   \n",
       "\n",
       "       Year  \n",
       "7      1982  \n",
       "8      1982  \n",
       "12     1982  \n",
       "13     1982  \n",
       "14     1982  \n",
       "...     ...  \n",
       "90098  2022  \n",
       "90106  2022  \n",
       "90120  2022  \n",
       "90194  2022  \n",
       "90226  2022  \n",
       "\n",
       "[19089 rows x 32 columns]"
      ]
     },
     "execution_count": 228,
     "metadata": {},
     "output_type": "execute_result"
    }
   ],
   "source": [
    "df"
   ]
  },
  {
   "cell_type": "code",
   "execution_count": 229,
   "metadata": {},
   "outputs": [
    {
     "data": {
      "text/plain": [
       "Cessna                    6005\n",
       "Piper                     3445\n",
       "Beech                     1206\n",
       "Boeing                     394\n",
       "Mooney                     299\n",
       "                          ... \n",
       "Brumbaugh b/kasowski l       1\n",
       "Payne steven r               1\n",
       "Clopton aero llc             1\n",
       "Metcalfe robert b            1\n",
       "Sorrell                      1\n",
       "Name: Make, Length: 2843, dtype: int64"
      ]
     },
     "execution_count": 229,
     "metadata": {},
     "output_type": "execute_result"
    }
   ],
   "source": [
    "df['Make'].value_counts()"
   ]
  },
  {
   "cell_type": "code",
   "execution_count": 230,
   "metadata": {},
   "outputs": [],
   "source": [
    "#Creating df with the max 20 "
   ]
  },
  {
   "cell_type": "code",
   "execution_count": 231,
   "metadata": {},
   "outputs": [],
   "source": [
    "df_20 = df[df['Make'].isin(df['Make'].value_counts().nlargest(20).index)]"
   ]
  },
  {
   "cell_type": "code",
   "execution_count": null,
   "metadata": {},
   "outputs": [],
   "source": []
  },
  {
   "cell_type": "code",
   "execution_count": 232,
   "metadata": {},
   "outputs": [],
   "source": [
    "#df = df[df['Aircraft.Category'] == 'Airplane']\n",
    "#df_personal = df[df['Purpose.of.flight'] == 'Personal']"
   ]
  },
  {
   "cell_type": "code",
   "execution_count": 233,
   "metadata": {},
   "outputs": [],
   "source": [
    "#df_personal\n"
   ]
  },
  {
   "cell_type": "code",
   "execution_count": 234,
   "metadata": {},
   "outputs": [],
   "source": [
    "#df_business = df[df['Purpose.of.flight'] == 'Business']"
   ]
  },
  {
   "cell_type": "code",
   "execution_count": 235,
   "metadata": {},
   "outputs": [],
   "source": [
    "#filtered_df = df[(df['Total.Fatal.Injuries'] == 0) & (df['Total.Serious.Injuries'] == 0) & (df['Total.Minor.Injuries'] == 0)]\n"
   ]
  },
  {
   "cell_type": "code",
   "execution_count": 236,
   "metadata": {},
   "outputs": [
    {
     "data": {
      "text/plain": [
       "Index(['Event.Id', 'Investigation.Type', 'Accident.Number', 'Event.Date',\n",
       "       'Location', 'Country', 'Latitude', 'Longitude', 'Airport.Code',\n",
       "       'Airport.Name', 'Injury.Severity', 'Aircraft.damage',\n",
       "       'Aircraft.Category', 'Registration.Number', 'Make', 'Model',\n",
       "       'Amateur.Built', 'Number.of.Engines', 'Engine.Type', 'FAR.Description',\n",
       "       'Schedule', 'Purpose.of.flight', 'Air.carrier', 'Total.Fatal.Injuries',\n",
       "       'Total.Serious.Injuries', 'Total.Minor.Injuries', 'Total.Uninjured',\n",
       "       'Weather.Condition', 'Broad.phase.of.flight', 'Report.Status',\n",
       "       'Publication.Date', 'Year'],\n",
       "      dtype='object')"
      ]
     },
     "execution_count": 236,
     "metadata": {},
     "output_type": "execute_result"
    }
   ],
   "source": [
    "df.columns"
   ]
  },
  {
   "cell_type": "markdown",
   "metadata": {},
   "source": [
    "Safety Metric Calculation : "
   ]
  },
  {
   "cell_type": "code",
   "execution_count": 237,
   "metadata": {},
   "outputs": [
    {
     "name": "stderr",
     "output_type": "stream",
     "text": [
      "<ipython-input-237-22fa7f96697f>:2: SettingWithCopyWarning: \n",
      "A value is trying to be set on a copy of a slice from a DataFrame.\n",
      "Try using .loc[row_indexer,col_indexer] = value instead\n",
      "\n",
      "See the caveats in the documentation: https://pandas.pydata.org/pandas-docs/stable/user_guide/indexing.html#returning-a-view-versus-a-copy\n",
      "  df['Total.Injuries'] = df[['Total.Fatal.Injuries', 'Total.Serious.Injuries', 'Total.Minor.Injuries']].sum(axis=1)\n"
     ]
    }
   ],
   "source": [
    "# first lets determine the total of the overall Injuries\n",
    "df['Total.Injuries'] = df[['Total.Fatal.Injuries', 'Total.Serious.Injuries', 'Total.Minor.Injuries']].sum(axis=1)"
   ]
  },
  {
   "cell_type": "code",
   "execution_count": 238,
   "metadata": {},
   "outputs": [
    {
     "name": "stderr",
     "output_type": "stream",
     "text": [
      "<ipython-input-238-6203992b400f>:1: SettingWithCopyWarning: \n",
      "A value is trying to be set on a copy of a slice from a DataFrame.\n",
      "Try using .loc[row_indexer,col_indexer] = value instead\n",
      "\n",
      "See the caveats in the documentation: https://pandas.pydata.org/pandas-docs/stable/user_guide/indexing.html#returning-a-view-versus-a-copy\n",
      "  df['Fatality.Rate'] = df['Total.Fatal.Injuries'] / df['Total.Injuries']\n"
     ]
    }
   ],
   "source": [
    "df['Fatality.Rate'] = df['Total.Fatal.Injuries'] / df['Total.Injuries']\n"
   ]
  },
  {
   "cell_type": "code",
   "execution_count": 239,
   "metadata": {},
   "outputs": [
    {
     "data": {
      "text/html": [
       "<div>\n",
       "<style scoped>\n",
       "    .dataframe tbody tr th:only-of-type {\n",
       "        vertical-align: middle;\n",
       "    }\n",
       "\n",
       "    .dataframe tbody tr th {\n",
       "        vertical-align: top;\n",
       "    }\n",
       "\n",
       "    .dataframe thead th {\n",
       "        text-align: right;\n",
       "    }\n",
       "</style>\n",
       "<table border=\"1\" class=\"dataframe\">\n",
       "  <thead>\n",
       "    <tr style=\"text-align: right;\">\n",
       "      <th></th>\n",
       "      <th>Event.Id</th>\n",
       "      <th>Investigation.Type</th>\n",
       "      <th>Accident.Number</th>\n",
       "      <th>Event.Date</th>\n",
       "      <th>Location</th>\n",
       "      <th>Country</th>\n",
       "      <th>Latitude</th>\n",
       "      <th>Longitude</th>\n",
       "      <th>Airport.Code</th>\n",
       "      <th>Airport.Name</th>\n",
       "      <th>...</th>\n",
       "      <th>Total.Serious.Injuries</th>\n",
       "      <th>Total.Minor.Injuries</th>\n",
       "      <th>Total.Uninjured</th>\n",
       "      <th>Weather.Condition</th>\n",
       "      <th>Broad.phase.of.flight</th>\n",
       "      <th>Report.Status</th>\n",
       "      <th>Publication.Date</th>\n",
       "      <th>Year</th>\n",
       "      <th>Total.Injuries</th>\n",
       "      <th>Fatality.Rate</th>\n",
       "    </tr>\n",
       "  </thead>\n",
       "  <tbody>\n",
       "    <tr>\n",
       "      <th>7</th>\n",
       "      <td>20020909X01562</td>\n",
       "      <td>Accident</td>\n",
       "      <td>SEA82DA022</td>\n",
       "      <td>1982-01-01</td>\n",
       "      <td>PULLMAN, WA</td>\n",
       "      <td>United States</td>\n",
       "      <td>NaN</td>\n",
       "      <td>NaN</td>\n",
       "      <td>NaN</td>\n",
       "      <td>BLACKBURN AG STRIP</td>\n",
       "      <td>...</td>\n",
       "      <td>0.0</td>\n",
       "      <td>0.0</td>\n",
       "      <td>2.0</td>\n",
       "      <td>VMC</td>\n",
       "      <td>Takeoff</td>\n",
       "      <td>Probable Cause</td>\n",
       "      <td>01-01-1982</td>\n",
       "      <td>1982</td>\n",
       "      <td>0.0</td>\n",
       "      <td>NaN</td>\n",
       "    </tr>\n",
       "    <tr>\n",
       "      <th>8</th>\n",
       "      <td>20020909X01561</td>\n",
       "      <td>Accident</td>\n",
       "      <td>NYC82DA015</td>\n",
       "      <td>1982-01-01</td>\n",
       "      <td>EAST HANOVER, NJ</td>\n",
       "      <td>United States</td>\n",
       "      <td>NaN</td>\n",
       "      <td>NaN</td>\n",
       "      <td>N58</td>\n",
       "      <td>HANOVER</td>\n",
       "      <td>...</td>\n",
       "      <td>0.0</td>\n",
       "      <td>0.0</td>\n",
       "      <td>2.0</td>\n",
       "      <td>IMC</td>\n",
       "      <td>Landing</td>\n",
       "      <td>Probable Cause</td>\n",
       "      <td>01-01-1982</td>\n",
       "      <td>1982</td>\n",
       "      <td>0.0</td>\n",
       "      <td>NaN</td>\n",
       "    </tr>\n",
       "    <tr>\n",
       "      <th>12</th>\n",
       "      <td>20020917X02148</td>\n",
       "      <td>Accident</td>\n",
       "      <td>FTW82FRJ07</td>\n",
       "      <td>1982-01-02</td>\n",
       "      <td>HOMER, LA</td>\n",
       "      <td>United States</td>\n",
       "      <td>NaN</td>\n",
       "      <td>NaN</td>\n",
       "      <td>NaN</td>\n",
       "      <td>NaN</td>\n",
       "      <td>...</td>\n",
       "      <td>0.0</td>\n",
       "      <td>1.0</td>\n",
       "      <td>0.0</td>\n",
       "      <td>IMC</td>\n",
       "      <td>Cruise</td>\n",
       "      <td>Probable Cause</td>\n",
       "      <td>02-01-1983</td>\n",
       "      <td>1982</td>\n",
       "      <td>1.0</td>\n",
       "      <td>0.0</td>\n",
       "    </tr>\n",
       "    <tr>\n",
       "      <th>13</th>\n",
       "      <td>20020917X02134</td>\n",
       "      <td>Accident</td>\n",
       "      <td>FTW82FRA14</td>\n",
       "      <td>1982-01-02</td>\n",
       "      <td>HEARNE, TX</td>\n",
       "      <td>United States</td>\n",
       "      <td>NaN</td>\n",
       "      <td>NaN</td>\n",
       "      <td>T72</td>\n",
       "      <td>HEARNE MUNICIPAL</td>\n",
       "      <td>...</td>\n",
       "      <td>0.0</td>\n",
       "      <td>0.0</td>\n",
       "      <td>0.0</td>\n",
       "      <td>IMC</td>\n",
       "      <td>Takeoff</td>\n",
       "      <td>Probable Cause</td>\n",
       "      <td>02-01-1983</td>\n",
       "      <td>1982</td>\n",
       "      <td>1.0</td>\n",
       "      <td>1.0</td>\n",
       "    </tr>\n",
       "    <tr>\n",
       "      <th>14</th>\n",
       "      <td>20020917X02119</td>\n",
       "      <td>Accident</td>\n",
       "      <td>FTW82FPJ10</td>\n",
       "      <td>1982-01-02</td>\n",
       "      <td>CHICKASHA, OK</td>\n",
       "      <td>United States</td>\n",
       "      <td>NaN</td>\n",
       "      <td>NaN</td>\n",
       "      <td>NaN</td>\n",
       "      <td>NaN</td>\n",
       "      <td>...</td>\n",
       "      <td>0.0</td>\n",
       "      <td>0.0</td>\n",
       "      <td>0.0</td>\n",
       "      <td>IMC</td>\n",
       "      <td>Cruise</td>\n",
       "      <td>Probable Cause</td>\n",
       "      <td>02-01-1983</td>\n",
       "      <td>1982</td>\n",
       "      <td>1.0</td>\n",
       "      <td>1.0</td>\n",
       "    </tr>\n",
       "  </tbody>\n",
       "</table>\n",
       "<p>5 rows × 34 columns</p>\n",
       "</div>"
      ],
      "text/plain": [
       "          Event.Id Investigation.Type Accident.Number  Event.Date  \\\n",
       "7   20020909X01562           Accident      SEA82DA022  1982-01-01   \n",
       "8   20020909X01561           Accident      NYC82DA015  1982-01-01   \n",
       "12  20020917X02148           Accident      FTW82FRJ07  1982-01-02   \n",
       "13  20020917X02134           Accident      FTW82FRA14  1982-01-02   \n",
       "14  20020917X02119           Accident      FTW82FPJ10  1982-01-02   \n",
       "\n",
       "            Location        Country Latitude Longitude Airport.Code  \\\n",
       "7        PULLMAN, WA  United States      NaN       NaN          NaN   \n",
       "8   EAST HANOVER, NJ  United States      NaN       NaN          N58   \n",
       "12         HOMER, LA  United States      NaN       NaN          NaN   \n",
       "13        HEARNE, TX  United States      NaN       NaN          T72   \n",
       "14     CHICKASHA, OK  United States      NaN       NaN          NaN   \n",
       "\n",
       "          Airport.Name  ... Total.Serious.Injuries Total.Minor.Injuries  \\\n",
       "7   BLACKBURN AG STRIP  ...                    0.0                  0.0   \n",
       "8              HANOVER  ...                    0.0                  0.0   \n",
       "12                 NaN  ...                    0.0                  1.0   \n",
       "13    HEARNE MUNICIPAL  ...                    0.0                  0.0   \n",
       "14                 NaN  ...                    0.0                  0.0   \n",
       "\n",
       "   Total.Uninjured Weather.Condition Broad.phase.of.flight   Report.Status  \\\n",
       "7              2.0               VMC               Takeoff  Probable Cause   \n",
       "8              2.0               IMC               Landing  Probable Cause   \n",
       "12             0.0               IMC                Cruise  Probable Cause   \n",
       "13             0.0               IMC               Takeoff  Probable Cause   \n",
       "14             0.0               IMC                Cruise  Probable Cause   \n",
       "\n",
       "   Publication.Date  Year Total.Injuries Fatality.Rate  \n",
       "7        01-01-1982  1982            0.0           NaN  \n",
       "8        01-01-1982  1982            0.0           NaN  \n",
       "12       02-01-1983  1982            1.0           0.0  \n",
       "13       02-01-1983  1982            1.0           1.0  \n",
       "14       02-01-1983  1982            1.0           1.0  \n",
       "\n",
       "[5 rows x 34 columns]"
      ]
     },
     "execution_count": 239,
     "metadata": {},
     "output_type": "execute_result"
    }
   ],
   "source": [
    "df.head()"
   ]
  },
  {
   "cell_type": "markdown",
   "metadata": {},
   "source": [
    "Group data by categorie using the colummn Make"
   ]
  },
  {
   "cell_type": "code",
   "execution_count": 240,
   "metadata": {},
   "outputs": [],
   "source": [
    "df_new = df.groupby('Make')"
   ]
  },
  {
   "cell_type": "code",
   "execution_count": 241,
   "metadata": {},
   "outputs": [
    {
     "data": {
      "text/html": [
       "<div>\n",
       "<style scoped>\n",
       "    .dataframe tbody tr th:only-of-type {\n",
       "        vertical-align: middle;\n",
       "    }\n",
       "\n",
       "    .dataframe tbody tr th {\n",
       "        vertical-align: top;\n",
       "    }\n",
       "\n",
       "    .dataframe thead th {\n",
       "        text-align: right;\n",
       "    }\n",
       "</style>\n",
       "<table border=\"1\" class=\"dataframe\">\n",
       "  <thead>\n",
       "    <tr style=\"text-align: right;\">\n",
       "      <th></th>\n",
       "      <th>Event.Id</th>\n",
       "      <th>Investigation.Type</th>\n",
       "      <th>Accident.Number</th>\n",
       "      <th>Event.Date</th>\n",
       "      <th>Location</th>\n",
       "      <th>Country</th>\n",
       "      <th>Latitude</th>\n",
       "      <th>Longitude</th>\n",
       "      <th>Airport.Code</th>\n",
       "      <th>Airport.Name</th>\n",
       "      <th>...</th>\n",
       "      <th>Total.Serious.Injuries</th>\n",
       "      <th>Total.Minor.Injuries</th>\n",
       "      <th>Total.Uninjured</th>\n",
       "      <th>Weather.Condition</th>\n",
       "      <th>Broad.phase.of.flight</th>\n",
       "      <th>Report.Status</th>\n",
       "      <th>Publication.Date</th>\n",
       "      <th>Year</th>\n",
       "      <th>Total.Injuries</th>\n",
       "      <th>Fatality.Rate</th>\n",
       "    </tr>\n",
       "  </thead>\n",
       "  <tbody>\n",
       "    <tr>\n",
       "      <th>7</th>\n",
       "      <td>20020909X01562</td>\n",
       "      <td>Accident</td>\n",
       "      <td>SEA82DA022</td>\n",
       "      <td>1982-01-01</td>\n",
       "      <td>PULLMAN, WA</td>\n",
       "      <td>United States</td>\n",
       "      <td>NaN</td>\n",
       "      <td>NaN</td>\n",
       "      <td>NaN</td>\n",
       "      <td>BLACKBURN AG STRIP</td>\n",
       "      <td>...</td>\n",
       "      <td>0.0</td>\n",
       "      <td>0.0</td>\n",
       "      <td>2.0</td>\n",
       "      <td>VMC</td>\n",
       "      <td>Takeoff</td>\n",
       "      <td>Probable Cause</td>\n",
       "      <td>01-01-1982</td>\n",
       "      <td>1982</td>\n",
       "      <td>0.0</td>\n",
       "      <td>NaN</td>\n",
       "    </tr>\n",
       "    <tr>\n",
       "      <th>8</th>\n",
       "      <td>20020909X01561</td>\n",
       "      <td>Accident</td>\n",
       "      <td>NYC82DA015</td>\n",
       "      <td>1982-01-01</td>\n",
       "      <td>EAST HANOVER, NJ</td>\n",
       "      <td>United States</td>\n",
       "      <td>NaN</td>\n",
       "      <td>NaN</td>\n",
       "      <td>N58</td>\n",
       "      <td>HANOVER</td>\n",
       "      <td>...</td>\n",
       "      <td>0.0</td>\n",
       "      <td>0.0</td>\n",
       "      <td>2.0</td>\n",
       "      <td>IMC</td>\n",
       "      <td>Landing</td>\n",
       "      <td>Probable Cause</td>\n",
       "      <td>01-01-1982</td>\n",
       "      <td>1982</td>\n",
       "      <td>0.0</td>\n",
       "      <td>NaN</td>\n",
       "    </tr>\n",
       "    <tr>\n",
       "      <th>12</th>\n",
       "      <td>20020917X02148</td>\n",
       "      <td>Accident</td>\n",
       "      <td>FTW82FRJ07</td>\n",
       "      <td>1982-01-02</td>\n",
       "      <td>HOMER, LA</td>\n",
       "      <td>United States</td>\n",
       "      <td>NaN</td>\n",
       "      <td>NaN</td>\n",
       "      <td>NaN</td>\n",
       "      <td>NaN</td>\n",
       "      <td>...</td>\n",
       "      <td>0.0</td>\n",
       "      <td>1.0</td>\n",
       "      <td>0.0</td>\n",
       "      <td>IMC</td>\n",
       "      <td>Cruise</td>\n",
       "      <td>Probable Cause</td>\n",
       "      <td>02-01-1983</td>\n",
       "      <td>1982</td>\n",
       "      <td>1.0</td>\n",
       "      <td>0.0</td>\n",
       "    </tr>\n",
       "    <tr>\n",
       "      <th>13</th>\n",
       "      <td>20020917X02134</td>\n",
       "      <td>Accident</td>\n",
       "      <td>FTW82FRA14</td>\n",
       "      <td>1982-01-02</td>\n",
       "      <td>HEARNE, TX</td>\n",
       "      <td>United States</td>\n",
       "      <td>NaN</td>\n",
       "      <td>NaN</td>\n",
       "      <td>T72</td>\n",
       "      <td>HEARNE MUNICIPAL</td>\n",
       "      <td>...</td>\n",
       "      <td>0.0</td>\n",
       "      <td>0.0</td>\n",
       "      <td>0.0</td>\n",
       "      <td>IMC</td>\n",
       "      <td>Takeoff</td>\n",
       "      <td>Probable Cause</td>\n",
       "      <td>02-01-1983</td>\n",
       "      <td>1982</td>\n",
       "      <td>1.0</td>\n",
       "      <td>1.0</td>\n",
       "    </tr>\n",
       "    <tr>\n",
       "      <th>14</th>\n",
       "      <td>20020917X02119</td>\n",
       "      <td>Accident</td>\n",
       "      <td>FTW82FPJ10</td>\n",
       "      <td>1982-01-02</td>\n",
       "      <td>CHICKASHA, OK</td>\n",
       "      <td>United States</td>\n",
       "      <td>NaN</td>\n",
       "      <td>NaN</td>\n",
       "      <td>NaN</td>\n",
       "      <td>NaN</td>\n",
       "      <td>...</td>\n",
       "      <td>0.0</td>\n",
       "      <td>0.0</td>\n",
       "      <td>0.0</td>\n",
       "      <td>IMC</td>\n",
       "      <td>Cruise</td>\n",
       "      <td>Probable Cause</td>\n",
       "      <td>02-01-1983</td>\n",
       "      <td>1982</td>\n",
       "      <td>1.0</td>\n",
       "      <td>1.0</td>\n",
       "    </tr>\n",
       "    <tr>\n",
       "      <th>...</th>\n",
       "      <td>...</td>\n",
       "      <td>...</td>\n",
       "      <td>...</td>\n",
       "      <td>...</td>\n",
       "      <td>...</td>\n",
       "      <td>...</td>\n",
       "      <td>...</td>\n",
       "      <td>...</td>\n",
       "      <td>...</td>\n",
       "      <td>...</td>\n",
       "      <td>...</td>\n",
       "      <td>...</td>\n",
       "      <td>...</td>\n",
       "      <td>...</td>\n",
       "      <td>...</td>\n",
       "      <td>...</td>\n",
       "      <td>...</td>\n",
       "      <td>...</td>\n",
       "      <td>...</td>\n",
       "      <td>...</td>\n",
       "      <td>...</td>\n",
       "    </tr>\n",
       "    <tr>\n",
       "      <th>89995</th>\n",
       "      <td>20220919105966</td>\n",
       "      <td>Accident</td>\n",
       "      <td>CEN22LA425</td>\n",
       "      <td>2022-09-17</td>\n",
       "      <td>Delphi, IN</td>\n",
       "      <td>United States</td>\n",
       "      <td>403225N</td>\n",
       "      <td>0864052W</td>\n",
       "      <td>1I9</td>\n",
       "      <td>DELPHI MUNI</td>\n",
       "      <td>...</td>\n",
       "      <td>0.0</td>\n",
       "      <td>0.0</td>\n",
       "      <td>2.0</td>\n",
       "      <td>VMC</td>\n",
       "      <td>NaN</td>\n",
       "      <td>A loss of engine power due to carburetor icing.</td>\n",
       "      <td>15-12-2022</td>\n",
       "      <td>2022</td>\n",
       "      <td>0.0</td>\n",
       "      <td>NaN</td>\n",
       "    </tr>\n",
       "    <tr>\n",
       "      <th>90009</th>\n",
       "      <td>20220920105975</td>\n",
       "      <td>Accident</td>\n",
       "      <td>CEN22LA426</td>\n",
       "      <td>2022-09-20</td>\n",
       "      <td>Lebanon, IN</td>\n",
       "      <td>United States</td>\n",
       "      <td>040026N</td>\n",
       "      <td>0862626W</td>\n",
       "      <td>6I4</td>\n",
       "      <td>BOONE COUNTY</td>\n",
       "      <td>...</td>\n",
       "      <td>0.0</td>\n",
       "      <td>0.0</td>\n",
       "      <td>1.0</td>\n",
       "      <td>VMC</td>\n",
       "      <td>NaN</td>\n",
       "      <td>The loss of lateral/bank control during takeof...</td>\n",
       "      <td>NaN</td>\n",
       "      <td>2022</td>\n",
       "      <td>0.0</td>\n",
       "      <td>NaN</td>\n",
       "    </tr>\n",
       "    <tr>\n",
       "      <th>90030</th>\n",
       "      <td>20220927106002</td>\n",
       "      <td>Accident</td>\n",
       "      <td>CEN22LA432</td>\n",
       "      <td>2022-09-25</td>\n",
       "      <td>Del Norte, CO</td>\n",
       "      <td>United States</td>\n",
       "      <td>374250N</td>\n",
       "      <td>0106217W</td>\n",
       "      <td>RCV</td>\n",
       "      <td>Astronaut Kent Rominger</td>\n",
       "      <td>...</td>\n",
       "      <td>1.0</td>\n",
       "      <td>0.0</td>\n",
       "      <td>0.0</td>\n",
       "      <td>VMC</td>\n",
       "      <td>NaN</td>\n",
       "      <td>The pilots loss of airplane control during la...</td>\n",
       "      <td>NaN</td>\n",
       "      <td>2022</td>\n",
       "      <td>1.0</td>\n",
       "      <td>0.0</td>\n",
       "    </tr>\n",
       "    <tr>\n",
       "      <th>90096</th>\n",
       "      <td>20221011106091</td>\n",
       "      <td>Accident</td>\n",
       "      <td>CEN23LA007</td>\n",
       "      <td>2022-10-06</td>\n",
       "      <td>Waldron, AR</td>\n",
       "      <td>United States</td>\n",
       "      <td>345233N</td>\n",
       "      <td>0094638W</td>\n",
       "      <td>M27</td>\n",
       "      <td>M27</td>\n",
       "      <td>...</td>\n",
       "      <td>0.0</td>\n",
       "      <td>0.0</td>\n",
       "      <td>1.0</td>\n",
       "      <td>VMC</td>\n",
       "      <td>NaN</td>\n",
       "      <td>The pilots failure to maintain adequate airsp...</td>\n",
       "      <td>NaN</td>\n",
       "      <td>2022</td>\n",
       "      <td>0.0</td>\n",
       "      <td>NaN</td>\n",
       "    </tr>\n",
       "    <tr>\n",
       "      <th>90194</th>\n",
       "      <td>20221031106231</td>\n",
       "      <td>Accident</td>\n",
       "      <td>CEN23LA023</td>\n",
       "      <td>2022-10-29</td>\n",
       "      <td>Houston, TX</td>\n",
       "      <td>United States</td>\n",
       "      <td>293620N</td>\n",
       "      <td>0095959W</td>\n",
       "      <td>EFD</td>\n",
       "      <td>ELLINGTON</td>\n",
       "      <td>...</td>\n",
       "      <td>1.0</td>\n",
       "      <td>0.0</td>\n",
       "      <td>0.0</td>\n",
       "      <td>VMC</td>\n",
       "      <td>NaN</td>\n",
       "      <td>The pilots failure to secure the magneto swit...</td>\n",
       "      <td>20-12-2022</td>\n",
       "      <td>2022</td>\n",
       "      <td>1.0</td>\n",
       "      <td>0.0</td>\n",
       "    </tr>\n",
       "  </tbody>\n",
       "</table>\n",
       "<p>3980 rows × 34 columns</p>\n",
       "</div>"
      ],
      "text/plain": [
       "             Event.Id Investigation.Type Accident.Number  Event.Date  \\\n",
       "7      20020909X01562           Accident      SEA82DA022  1982-01-01   \n",
       "8      20020909X01561           Accident      NYC82DA015  1982-01-01   \n",
       "12     20020917X02148           Accident      FTW82FRJ07  1982-01-02   \n",
       "13     20020917X02134           Accident      FTW82FRA14  1982-01-02   \n",
       "14     20020917X02119           Accident      FTW82FPJ10  1982-01-02   \n",
       "...               ...                ...             ...         ...   \n",
       "89995  20220919105966           Accident      CEN22LA425  2022-09-17   \n",
       "90009  20220920105975           Accident      CEN22LA426  2022-09-20   \n",
       "90030  20220927106002           Accident      CEN22LA432  2022-09-25   \n",
       "90096  20221011106091           Accident      CEN23LA007  2022-10-06   \n",
       "90194  20221031106231           Accident      CEN23LA023  2022-10-29   \n",
       "\n",
       "               Location        Country Latitude Longitude Airport.Code  \\\n",
       "7           PULLMAN, WA  United States      NaN       NaN          NaN   \n",
       "8      EAST HANOVER, NJ  United States      NaN       NaN          N58   \n",
       "12            HOMER, LA  United States      NaN       NaN          NaN   \n",
       "13           HEARNE, TX  United States      NaN       NaN          T72   \n",
       "14        CHICKASHA, OK  United States      NaN       NaN          NaN   \n",
       "...                 ...            ...      ...       ...          ...   \n",
       "89995        Delphi, IN  United States  403225N  0864052W          1I9   \n",
       "90009       Lebanon, IN  United States  040026N  0862626W          6I4   \n",
       "90030     Del Norte, CO  United States  374250N  0106217W          RCV   \n",
       "90096       Waldron, AR  United States  345233N  0094638W          M27   \n",
       "90194       Houston, TX  United States  293620N  0095959W          EFD   \n",
       "\n",
       "                  Airport.Name  ... Total.Serious.Injuries  \\\n",
       "7           BLACKBURN AG STRIP  ...                    0.0   \n",
       "8                      HANOVER  ...                    0.0   \n",
       "12                         NaN  ...                    0.0   \n",
       "13            HEARNE MUNICIPAL  ...                    0.0   \n",
       "14                         NaN  ...                    0.0   \n",
       "...                        ...  ...                    ...   \n",
       "89995              DELPHI MUNI  ...                    0.0   \n",
       "90009             BOONE COUNTY  ...                    0.0   \n",
       "90030  Astronaut Kent Rominger  ...                    1.0   \n",
       "90096                      M27  ...                    0.0   \n",
       "90194                ELLINGTON  ...                    1.0   \n",
       "\n",
       "      Total.Minor.Injuries Total.Uninjured Weather.Condition  \\\n",
       "7                      0.0             2.0               VMC   \n",
       "8                      0.0             2.0               IMC   \n",
       "12                     1.0             0.0               IMC   \n",
       "13                     0.0             0.0               IMC   \n",
       "14                     0.0             0.0               IMC   \n",
       "...                    ...             ...               ...   \n",
       "89995                  0.0             2.0               VMC   \n",
       "90009                  0.0             1.0               VMC   \n",
       "90030                  0.0             0.0               VMC   \n",
       "90096                  0.0             1.0               VMC   \n",
       "90194                  0.0             0.0               VMC   \n",
       "\n",
       "      Broad.phase.of.flight  \\\n",
       "7                   Takeoff   \n",
       "8                   Landing   \n",
       "12                   Cruise   \n",
       "13                  Takeoff   \n",
       "14                   Cruise   \n",
       "...                     ...   \n",
       "89995                   NaN   \n",
       "90009                   NaN   \n",
       "90030                   NaN   \n",
       "90096                   NaN   \n",
       "90194                   NaN   \n",
       "\n",
       "                                           Report.Status Publication.Date  \\\n",
       "7                                         Probable Cause       01-01-1982   \n",
       "8                                         Probable Cause       01-01-1982   \n",
       "12                                        Probable Cause       02-01-1983   \n",
       "13                                        Probable Cause       02-01-1983   \n",
       "14                                        Probable Cause       02-01-1983   \n",
       "...                                                  ...              ...   \n",
       "89995    A loss of engine power due to carburetor icing.       15-12-2022   \n",
       "90009  The loss of lateral/bank control during takeof...              NaN   \n",
       "90030  The pilots loss of airplane control during la...              NaN   \n",
       "90096  The pilots failure to maintain adequate airsp...              NaN   \n",
       "90194  The pilots failure to secure the magneto swit...       20-12-2022   \n",
       "\n",
       "       Year Total.Injuries Fatality.Rate  \n",
       "7      1982            0.0           NaN  \n",
       "8      1982            0.0           NaN  \n",
       "12     1982            1.0           0.0  \n",
       "13     1982            1.0           1.0  \n",
       "14     1982            1.0           1.0  \n",
       "...     ...            ...           ...  \n",
       "89995  2022            0.0           NaN  \n",
       "90009  2022            0.0           NaN  \n",
       "90030  2022            1.0           0.0  \n",
       "90096  2022            0.0           NaN  \n",
       "90194  2022            1.0           0.0  \n",
       "\n",
       "[3980 rows x 34 columns]"
      ]
     },
     "execution_count": 241,
     "metadata": {},
     "output_type": "execute_result"
    }
   ],
   "source": [
    "df_new.head()"
   ]
  },
  {
   "cell_type": "code",
   "execution_count": 242,
   "metadata": {},
   "outputs": [],
   "source": [
    "ranked_companies = df_new[['Total.Fatal.Injuries', 'Total.Injuries', 'Fatality.Rate']].sum()\n",
    "ranked_companies['Incident.Count'] = df_new.size()\n",
    "ranked_companies['Rank'] = ranked_companies['Total.Fatal.Injuries'].rank(ascending=True)\n"
   ]
  },
  {
   "cell_type": "code",
   "execution_count": 243,
   "metadata": {},
   "outputs": [],
   "source": [
    "#print(ranked_companies.sort_values(by='Rank'))"
   ]
  },
  {
   "cell_type": "code",
   "execution_count": 244,
   "metadata": {},
   "outputs": [],
   "source": [
    "df.to_csv('Airplane_data-je.csv')"
   ]
  },
  {
   "cell_type": "code",
   "execution_count": 245,
   "metadata": {},
   "outputs": [
    {
     "data": {
      "text/plain": [
       "Index(['Event.Id', 'Investigation.Type', 'Accident.Number', 'Event.Date',\n",
       "       'Location', 'Country', 'Latitude', 'Longitude', 'Airport.Code',\n",
       "       'Airport.Name', 'Injury.Severity', 'Aircraft.damage',\n",
       "       'Aircraft.Category', 'Registration.Number', 'Make', 'Model',\n",
       "       'Amateur.Built', 'Number.of.Engines', 'Engine.Type', 'FAR.Description',\n",
       "       'Schedule', 'Purpose.of.flight', 'Air.carrier', 'Total.Fatal.Injuries',\n",
       "       'Total.Serious.Injuries', 'Total.Minor.Injuries', 'Total.Uninjured',\n",
       "       'Weather.Condition', 'Broad.phase.of.flight', 'Report.Status',\n",
       "       'Publication.Date', 'Year', 'Total.Injuries', 'Fatality.Rate'],\n",
       "      dtype='object')"
      ]
     },
     "execution_count": 245,
     "metadata": {},
     "output_type": "execute_result"
    }
   ],
   "source": [
    "df.columns"
   ]
  },
  {
   "cell_type": "markdown",
   "metadata": {},
   "source": [
    "# VISUALIZATION\n"
   ]
  },
  {
   "cell_type": "code",
   "execution_count": 246,
   "metadata": {},
   "outputs": [
    {
     "ename": "SyntaxError",
     "evalue": "invalid syntax (<ipython-input-246-6ea779162d47>, line 1)",
     "output_type": "error",
     "traceback": [
      "\u001b[0;36m  File \u001b[0;32m\"<ipython-input-246-6ea779162d47>\"\u001b[0;36m, line \u001b[0;32m1\u001b[0m\n\u001b[0;31m    INJURED AND MAKE\u001b[0m\n\u001b[0m            ^\u001b[0m\n\u001b[0;31mSyntaxError\u001b[0m\u001b[0;31m:\u001b[0m invalid syntax\n"
     ]
    }
   ],
   "source": [
    "INJURED AND MAKE "
   ]
  },
  {
   "cell_type": "code",
   "execution_count": null,
   "metadata": {},
   "outputs": [],
   "source": [
    "import matplotlib.pyplot as plt"
   ]
  },
  {
   "cell_type": "code",
   "execution_count": null,
   "metadata": {},
   "outputs": [],
   "source": [
    "df_cp = df.copy()\n",
    "df_cp.info()"
   ]
  },
  {
   "cell_type": "code",
   "execution_count": null,
   "metadata": {},
   "outputs": [],
   "source": [
    "df_cp = df_cp.dropna(subset=['Total.Uninjured'], how='any', axis=0)\n",
    "df_cp['Total.Uninjured'].value_counts()"
   ]
  },
  {
   "cell_type": "code",
   "execution_count": null,
   "metadata": {},
   "outputs": [],
   "source": [
    "df_cp['Total.Uninjured'] = round(df_cp['Total.Uninjured']).astype(int)"
   ]
  },
  {
   "cell_type": "code",
   "execution_count": null,
   "metadata": {},
   "outputs": [],
   "source": [
    "import matplotlib.pyplot as plt\n",
    "import numpy as np\n",
    "import seaborn as sns\n",
    "\n",
    "%matplotlib inline\n",
    "\n"
   ]
  },
  {
   "cell_type": "code",
   "execution_count": null,
   "metadata": {},
   "outputs": [],
   "source": []
  },
  {
   "cell_type": "code",
   "execution_count": null,
   "metadata": {},
   "outputs": [],
   "source": []
  },
  {
   "cell_type": "code",
   "execution_count": 250,
   "metadata": {},
   "outputs": [
    {
     "data": {
      "image/png": "[encoded data removed]",
      "text/plain": [
       "<Figure size 1152x360 with 2 Axes>"
      ]
     },
     "metadata": {
      "needs_background": "light"
     },
     "output_type": "display_data"
    }
   ],
   "source": [
    "\n",
    "# Set up plots\n",
    "fig, (ax1, ax2) = plt.subplots(ncols=2, figsize=(16, 5))\n",
    "\n",
    "# Create variables for easier reuse\n",
    "value_counts1 = df[\"Make\"].value_counts().head(30)\n",
    "value_counts2 = df[\"Total.Minor.Injuries\"].value_counts().head(30)\n",
    "\n",
    "# Plot data\n",
    "ax1.bar(value_counts1.index, value_counts1.values)\n",
    "ax2.bar(value_counts2.index, value_counts2.values)\n",
    "\n",
    "# Customize appearance\n",
    "ax1.tick_params(axis=\"x\", labelrotation=90)\n",
    "ax2.tick_params(axis=\"x\", labelrotation=45)\n",
    "ax1.set_ylabel(\"Make numbers\")\n",
    "ax2.set_ylabel(\"values\")\n",
    "ax1.set_title(\"list of Airline companies\")\n",
    "ax2.set_title(\"Injuries\");"
   ]
  },
  {
   "cell_type": "code",
   "execution_count": 260,
   "metadata": {},
   "outputs": [
    {
     "name": "stdout",
     "output_type": "stream",
     "text": [
      "<class 'pandas.core.frame.DataFrame'>\n",
      "Int64Index: 19089 entries, 7 to 90226\n",
      "Data columns (total 34 columns):\n",
      " #   Column                  Non-Null Count  Dtype  \n",
      "---  ------                  --------------  -----  \n",
      " 0   Event.Id                19089 non-null  object \n",
      " 1   Investigation.Type      19089 non-null  object \n",
      " 2   Accident.Number         19089 non-null  object \n",
      " 3   Event.Date              19089 non-null  object \n",
      " 4   Location                19089 non-null  object \n",
      " 5   Country                 19083 non-null  object \n",
      " 6   Latitude                15801 non-null  object \n",
      " 7   Longitude               15801 non-null  object \n",
      " 8   Airport.Code            13401 non-null  object \n",
      " 9   Airport.Name            14035 non-null  object \n",
      " 10  Injury.Severity         19089 non-null  object \n",
      " 11  Aircraft.damage         18682 non-null  object \n",
      " 12  Aircraft.Category       19089 non-null  object \n",
      " 13  Registration.Number     19085 non-null  object \n",
      " 14  Make                    19083 non-null  object \n",
      " 15  Model                   19075 non-null  object \n",
      " 16  Amateur.Built           19089 non-null  object \n",
      " 17  Number.of.Engines       18602 non-null  float64\n",
      " 18  Engine.Type             18789 non-null  object \n",
      " 19  FAR.Description         19036 non-null  object \n",
      " 20  Schedule                1562 non-null   object \n",
      " 21  Purpose.of.flight       18041 non-null  object \n",
      " 22  Air.carrier             8832 non-null   object \n",
      " 23  Total.Fatal.Injuries    19089 non-null  float64\n",
      " 24  Total.Serious.Injuries  19089 non-null  float64\n",
      " 25  Total.Minor.Injuries    19089 non-null  float64\n",
      " 26  Total.Uninjured         19089 non-null  float64\n",
      " 27  Weather.Condition       18916 non-null  object \n",
      " 28  Broad.phase.of.flight   3251 non-null   object \n",
      " 29  Report.Status           19089 non-null  object \n",
      " 30  Publication.Date        17855 non-null  object \n",
      " 31  Year                    19089 non-null  object \n",
      " 32  Total.Injuries          19089 non-null  float64\n",
      " 33  Fatality.Rate           7828 non-null   float64\n",
      "dtypes: float64(7), object(27)\n",
      "memory usage: 5.7+ MB\n"
     ]
    }
   ],
   "source": [
    "df.info()"
   ]
  },
  {
   "cell_type": "code",
   "execution_count": 262,
   "metadata": {},
   "outputs": [
    {
     "name": "stdout",
     "output_type": "stream",
     "text": [
      "<class 'pandas.core.frame.DataFrame'>\n",
      "Int64Index: 19089 entries, 7 to 90226\n",
      "Data columns (total 34 columns):\n",
      " #   Column                  Non-Null Count  Dtype  \n",
      "---  ------                  --------------  -----  \n",
      " 0   Event.Id                19089 non-null  object \n",
      " 1   Investigation.Type      19089 non-null  object \n",
      " 2   Accident.Number         19089 non-null  object \n",
      " 3   Event.Date              19089 non-null  object \n",
      " 4   Location                19089 non-null  object \n",
      " 5   Country                 19083 non-null  object \n",
      " 6   Latitude                15801 non-null  object \n",
      " 7   Longitude               15801 non-null  object \n",
      " 8   Airport.Code            13401 non-null  object \n",
      " 9   Airport.Name            14035 non-null  object \n",
      " 10  Injury.Severity         19089 non-null  object \n",
      " 11  Aircraft.damage         18682 non-null  object \n",
      " 12  Aircraft.Category       19089 non-null  object \n",
      " 13  Registration.Number     19085 non-null  object \n",
      " 14  Make                    19089 non-null  object \n",
      " 15  Model                   19075 non-null  object \n",
      " 16  Amateur.Built           19089 non-null  object \n",
      " 17  Number.of.Engines       18602 non-null  float64\n",
      " 18  Engine.Type             18789 non-null  object \n",
      " 19  FAR.Description         19036 non-null  object \n",
      " 20  Schedule                1562 non-null   object \n",
      " 21  Purpose.of.flight       18041 non-null  object \n",
      " 22  Air.carrier             8832 non-null   object \n",
      " 23  Total.Fatal.Injuries    19089 non-null  float64\n",
      " 24  Total.Serious.Injuries  19089 non-null  float64\n",
      " 25  Total.Minor.Injuries    19089 non-null  float64\n",
      " 26  Total.Uninjured         19089 non-null  float64\n",
      " 27  Weather.Condition       18916 non-null  object \n",
      " 28  Broad.phase.of.flight   3251 non-null   object \n",
      " 29  Report.Status           19089 non-null  object \n",
      " 30  Publication.Date        17855 non-null  object \n",
      " 31  Year                    19089 non-null  object \n",
      " 32  Total.Injuries          19089 non-null  float64\n",
      " 33  Fatality.Rate           7828 non-null   float64\n",
      "dtypes: float64(7), object(27)\n",
      "memory usage: 5.7+ MB\n"
     ]
    },
    {
     "name": "stderr",
     "output_type": "stream",
     "text": [
      "<ipython-input-262-ad82d72a1442>:1: SettingWithCopyWarning: \n",
      "A value is trying to be set on a copy of a slice from a DataFrame.\n",
      "Try using .loc[row_indexer,col_indexer] = value instead\n",
      "\n",
      "See the caveats in the documentation: https://pandas.pydata.org/pandas-docs/stable/user_guide/indexing.html#returning-a-view-versus-a-copy\n",
      "  df[\"Make\"] = df[\"Make\"].astype(str)\n"
     ]
    }
   ],
   "source": [
    "df[\"Make\"] = df[\"Make\"].astype(str)\n",
    "df.info()"
   ]
  },
  {
   "cell_type": "code",
   "execution_count": 264,
   "metadata": {},
   "outputs": [
    {
     "data": {
      "image/png": "[encoded data removed]",
      "text/plain": [
       "<Figure size 1152x576 with 1 Axes>"
      ]
     },
     "metadata": {
      "needs_background": "light"
     },
     "output_type": "display_data"
    }
   ],
   "source": [
    "# Run this cell without changes\n",
    "\n",
    "fig, ax = plt.subplots(figsize=(16, 8))\n",
    "\n",
    "ax.scatter(\n",
    "    x=df[\"Make\"], y=df[\"Total.Minor.Injuries\"], alpha=0.3\n",
    ")\n",
    "\n",
    "ax.set_xlabel(\"Height (cm)\")\n",
    "ax.set_ylabel(\"Number of Superpowers\")\n",
    "ax.set_title(\"Height vs. Power Count\");"
   ]
  },
  {
   "cell_type": "code",
   "execution_count": 190,
   "metadata": {},
   "outputs": [
    {
     "ename": "NameError",
     "evalue": "name 'bins' is not defined",
     "output_type": "error",
     "traceback": [
      "\u001b[0;31m---------------------------------------------------------------------------\u001b[0m",
      "\u001b[0;31mNameError\u001b[0m                                 Traceback (most recent call last)",
      "\u001b[0;32m<ipython-input-190-f869366e68a3>\u001b[0m in \u001b[0;36m<module>\u001b[0;34m\u001b[0m\n\u001b[1;32m     10\u001b[0m     \u001b[0mx\u001b[0m\u001b[0;34m=\u001b[0m \u001b[0mdf\u001b[0m\u001b[0;34m[\u001b[0m\u001b[0;34m\"Make\"\u001b[0m\u001b[0;34m]\u001b[0m\u001b[0;34m.\u001b[0m\u001b[0mvalue_counts\u001b[0m\u001b[0;34m(\u001b[0m\u001b[0;34m)\u001b[0m\u001b[0;34m.\u001b[0m\u001b[0mhead\u001b[0m\u001b[0;34m(\u001b[0m\u001b[0;36m30\u001b[0m\u001b[0;34m)\u001b[0m\u001b[0;34m,\u001b[0m\u001b[0;34m\u001b[0m\u001b[0;34m\u001b[0m\u001b[0m\n\u001b[1;32m     11\u001b[0m     \u001b[0mlabel\u001b[0m\u001b[0;34m=\u001b[0m\u001b[0;34m\"above average condition\"\u001b[0m\u001b[0;34m,\u001b[0m\u001b[0;34m\u001b[0m\u001b[0;34m\u001b[0m\u001b[0m\n\u001b[0;32m---> 12\u001b[0;31m     \u001b[0mbins\u001b[0m\u001b[0;34m=\u001b[0m\u001b[0mbins\u001b[0m\u001b[0;34m,\u001b[0m\u001b[0;34m\u001b[0m\u001b[0;34m\u001b[0m\u001b[0m\n\u001b[0m\u001b[1;32m     13\u001b[0m     \u001b[0mcolor\u001b[0m\u001b[0;34m=\u001b[0m\u001b[0;34m\"cyan\"\u001b[0m\u001b[0;34m,\u001b[0m\u001b[0;34m\u001b[0m\u001b[0;34m\u001b[0m\u001b[0m\n\u001b[1;32m     14\u001b[0m     \u001b[0malpha\u001b[0m\u001b[0;34m=\u001b[0m\u001b[0;36m0.5\u001b[0m\u001b[0;34m\u001b[0m\u001b[0;34m\u001b[0m\u001b[0m\n",
      "\u001b[0;31mNameError\u001b[0m: name 'bins' is not defined"
     ]
    },
    {
     "data": {
      "image/png": "[encoded data removed]",
      "text/plain": [
       "<Figure size 1080x360 with 1 Axes>"
      ]
     },
     "metadata": {
      "needs_background": "light"
     },
     "output_type": "display_data"
    }
   ],
   "source": [
    "# Set up plot\n",
    "fig, ax = plt.subplots( figsize=(15,5))\n",
    "\n",
    "# Create custom bins so all are on the same scale\n",
    "#bins = range(df[\"Make\"].min(), df[\"Make\"].max(), int(df[\"Make\"].median()) // 20)\n",
    "\n",
    "# Plot three histograms, with reduced opacity (alpha) so we\n",
    "# can see them overlapping\n",
    "ax.hist(\n",
    "    x= df[\"Make\"].value_counts().head(30),\n",
    "    label=\"above average condition\",\n",
    "    bins=bins,\n",
    "    color=\"cyan\",\n",
    "    alpha=0.5\n",
    ")\n",
    "df[\"Make\"] and df[\"Total.Uninjured \"]\n",
    "ax.hist(\n",
    "    x= df[\"Total.Uninjured \"].value_counts().head(30),\n",
    "    label=\"average condition\",\n",
    "    bins=bins,\n",
    "    color=\"gray\",\n",
    "    alpha=0.3\n",
    ")\n",
    "ax.hist(\n",
    "    x=df[\"SalePrice\"].value_counts().head(30),\n",
    "    label=\"below average condition\",\n",
    "    bins=bins,\n",
    "    color=\"yellow\",\n",
    "    alpha=0.5\n",
    ")\n",
    "\n",
    "# Customize labels\n",
    "ax.set_title(\"Distributions of Sale Price Grouped by Condition\")\n",
    "ax.set_xlabel(\"Sale Price\")\n",
    "ax.set_ylabel(\"Number of Houses\")\n",
    "ax.legend();"
   ]
  },
  {
   "cell_type": "code",
   "execution_count": 191,
   "metadata": {},
   "outputs": [
    {
     "data": {
      "image/png": "[encoded data removed]",
      "text/plain": [
       "<Figure size 720x432 with 1 Axes>"
      ]
     },
     "metadata": {
      "needs_background": "light"
     },
     "output_type": "display_data"
    }
   ],
   "source": [
    "import pandas as pd\n",
    "import matplotlib.pyplot as plt\n",
    "\n",
    "# Assuming df is your DataFrame\n",
    "# Example data\n",
    "data = {\n",
    "    \"Make\": [{1: \"Toyota\", 2: \"Honda\", 3: \"Ford\"}, {1: \"Honda\", 2: \"Toyota\", 3: \"Ford\"}],\n",
    "    \"Total.Uninjured\": [{1: 10, 2: 20, 3: 30}, {1: 15, 2: 25, 3: 35}]\n",
    "}\n",
    "\n",
    "df = pd.DataFrame(data)\n",
    "\n",
    "# Plotting\n",
    "fig, ax = plt.subplots(figsize=(10, 6))\n",
    "\n",
    "# Plot values from column 'Make'\n",
    "for i, row in df.iterrows():\n",
    "    x_make = list(row['Make'].keys())\n",
    "    y_make = list(row['Make'].values())\n",
    "    ax.bar(x_make, y_make, width=0.4, align='edge', label=f'Row {i+1} - Make')\n",
    "\n",
    "# Plot values from column 'Total.Uninjured' with a slight shift to the right\n",
    "for i, row in df.iterrows():\n",
    "    x_uninjured = [key + 0.4 for key in row['Total.Uninjured'].keys()]\n",
    "    y_uninjured = list(row['Total.Uninjured'].values())\n",
    "    ax.bar(x_uninjured, y_uninjured, width=0.4, align='edge', label=f'Row {i+1} - Total.Uninjured')\n",
    "\n",
    "# Set labels and title\n",
    "ax.set_xlabel('Index')\n",
    "ax.set_ylabel('Value')\n",
    "ax.set_title('Comparison of Dictionaries in Columns \"Make\" and \"Total.Uninjured\"')\n",
    "\n",
    "# Add legend\n",
    "ax.legend()\n",
    "\n",
    "plt.show()"
   ]
  },
  {
   "cell_type": "code",
   "execution_count": null,
   "metadata": {},
   "outputs": [],
   "source": []
  }
 ],
 "metadata": {
  "kernelspec": {
   "display_name": "Python (learn-env)",
   "language": "python",
   "name": "learn-env"
  },
  "language_info": {
   "codemirror_mode": {
    "name": "ipython",
    "version": 3
   },
   "file_extension": ".py",
   "mimetype": "text/x-python",
   "name": "python",
   "nbconvert_exporter": "python",
   "pygments_lexer": "ipython3",
   "version": "3.8.5"
  }
 },
 "nbformat": 4,
 "nbformat_minor": 4
}
