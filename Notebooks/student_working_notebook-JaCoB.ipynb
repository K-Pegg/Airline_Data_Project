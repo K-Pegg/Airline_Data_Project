{
 "cells": [
  {
   "cell_type": "markdown",
   "metadata": {},
   "source": [
    "# Exploratory Notebook"
   ]
  },
  {
   "cell_type": "code",
   "execution_count": 91,
   "metadata": {},
   "outputs": [
    {
     "name": "stderr",
     "output_type": "stream",
     "text": [
      "C:\\Users\\jacob\\anaconda3\\envs\\learn-env\\lib\\site-packages\\IPython\\core\\interactiveshell.py:3145: DtypeWarning: Columns (6,7,28) have mixed types.Specify dtype option on import or set low_memory=False.\n",
      "  has_raised = await self.run_ast_nodes(code_ast.body, cell_name,\n"
     ]
    }
   ],
   "source": [
    "import pandas as pd\n",
    "import numpy as np\n",
    "\n",
    "df= pd.read_csv('../Data/Aviation_data.csv')"
   ]
  },
  {
   "cell_type": "code",
   "execution_count": 92,
   "metadata": {},
   "outputs": [
    {
     "data": {
      "text/plain": [
       "<bound method NDFrame.head of              Event.Id Investigation.Type Accident.Number  Event.Date  \\\n",
       "0      20001218X45444           Accident      SEA87LA080  1948-10-24   \n",
       "1      20001218X45447           Accident      LAX94LA336  1962-07-19   \n",
       "2      20061025X01555           Accident      NYC07LA005  1974-08-30   \n",
       "3      20001218X45448           Accident      LAX96LA321  1977-06-19   \n",
       "4      20041105X01764           Accident      CHI79FA064  1979-08-02   \n",
       "...               ...                ...             ...         ...   \n",
       "90343  20221227106491           Accident      ERA23LA093  2022-12-26   \n",
       "90344  20221227106494           Accident      ERA23LA095  2022-12-26   \n",
       "90345  20221227106497           Accident      WPR23LA075  2022-12-26   \n",
       "90346  20221227106498           Accident      WPR23LA076  2022-12-26   \n",
       "90347  20221230106513           Accident      ERA23LA097  2022-12-29   \n",
       "\n",
       "              Location        Country Latitude Longitude Airport.Code  \\\n",
       "0      MOOSE CREEK, ID  United States      NaN       NaN          NaN   \n",
       "1       BRIDGEPORT, CA  United States      NaN       NaN          NaN   \n",
       "2        Saltville, VA  United States  36.9222  -81.8781          NaN   \n",
       "3           EUREKA, CA  United States      NaN       NaN          NaN   \n",
       "4           Canton, OH  United States      NaN       NaN          NaN   \n",
       "...                ...            ...      ...       ...          ...   \n",
       "90343    Annapolis, MD  United States      NaN       NaN          NaN   \n",
       "90344      Hampton, NH  United States      NaN       NaN          NaN   \n",
       "90345       Payson, AZ  United States  341525N  1112021W          PAN   \n",
       "90346       Morgan, UT  United States      NaN       NaN          NaN   \n",
       "90347       Athens, GA  United States      NaN       NaN          NaN   \n",
       "\n",
       "      Airport.Name  ... Purpose.of.flight         Air.carrier  \\\n",
       "0              NaN  ...          Personal                 NaN   \n",
       "1              NaN  ...          Personal                 NaN   \n",
       "2              NaN  ...          Personal                 NaN   \n",
       "3              NaN  ...          Personal                 NaN   \n",
       "4              NaN  ...          Personal                 NaN   \n",
       "...            ...  ...               ...                 ...   \n",
       "90343          NaN  ...          Personal                 NaN   \n",
       "90344          NaN  ...               NaN                 NaN   \n",
       "90345       PAYSON  ...          Personal                 NaN   \n",
       "90346          NaN  ...          Personal  MC CESSNA 210N LLC   \n",
       "90347          NaN  ...          Personal                 NaN   \n",
       "\n",
       "      Total.Fatal.Injuries Total.Serious.Injuries Total.Minor.Injuries  \\\n",
       "0                      2.0                    0.0                  0.0   \n",
       "1                      4.0                    0.0                  0.0   \n",
       "2                      3.0                    NaN                  NaN   \n",
       "3                      2.0                    0.0                  0.0   \n",
       "4                      1.0                    2.0                  NaN   \n",
       "...                    ...                    ...                  ...   \n",
       "90343                  0.0                    1.0                  0.0   \n",
       "90344                  0.0                    0.0                  0.0   \n",
       "90345                  0.0                    0.0                  0.0   \n",
       "90346                  0.0                    0.0                  0.0   \n",
       "90347                  0.0                    1.0                  0.0   \n",
       "\n",
       "      Total.Uninjured Weather.Condition  Broad.phase.of.flight  \\\n",
       "0                 0.0               UNK                 Cruise   \n",
       "1                 0.0               UNK                Unknown   \n",
       "2                 NaN               IMC                 Cruise   \n",
       "3                 0.0               IMC                 Cruise   \n",
       "4                 0.0               VMC               Approach   \n",
       "...               ...               ...                    ...   \n",
       "90343             0.0               NaN                    NaN   \n",
       "90344             0.0               NaN                    NaN   \n",
       "90345             1.0               VMC                    NaN   \n",
       "90346             0.0               NaN                    NaN   \n",
       "90347             1.0               NaN                    NaN   \n",
       "\n",
       "        Report.Status Publication.Date  \n",
       "0      Probable Cause              NaN  \n",
       "1      Probable Cause       19-09-1996  \n",
       "2      Probable Cause       26-02-2007  \n",
       "3      Probable Cause       12-09-2000  \n",
       "4      Probable Cause       16-04-1980  \n",
       "...               ...              ...  \n",
       "90343             NaN       29-12-2022  \n",
       "90344             NaN              NaN  \n",
       "90345             NaN       27-12-2022  \n",
       "90346             NaN              NaN  \n",
       "90347             NaN       30-12-2022  \n",
       "\n",
       "[90348 rows x 31 columns]>"
      ]
     },
     "execution_count": 92,
     "metadata": {},
     "output_type": "execute_result"
    }
   ],
   "source": [
    "#checking table\n",
    "df.head\n"
   ]
  },
  {
   "cell_type": "code",
   "execution_count": 93,
   "metadata": {},
   "outputs": [
    {
     "name": "stdout",
     "output_type": "stream",
     "text": [
      "<class 'pandas.core.frame.DataFrame'>\n",
      "RangeIndex: 90348 entries, 0 to 90347\n",
      "Data columns (total 31 columns):\n",
      " #   Column                  Non-Null Count  Dtype  \n",
      "---  ------                  --------------  -----  \n",
      " 0   Event.Id                88889 non-null  object \n",
      " 1   Investigation.Type      90348 non-null  object \n",
      " 2   Accident.Number         88889 non-null  object \n",
      " 3   Event.Date              88889 non-null  object \n",
      " 4   Location                88837 non-null  object \n",
      " 5   Country                 88663 non-null  object \n",
      " 6   Latitude                34382 non-null  object \n",
      " 7   Longitude               34373 non-null  object \n",
      " 8   Airport.Code            50249 non-null  object \n",
      " 9   Airport.Name            52790 non-null  object \n",
      " 10  Injury.Severity         87889 non-null  object \n",
      " 11  Aircraft.damage         85695 non-null  object \n",
      " 12  Aircraft.Category       32287 non-null  object \n",
      " 13  Registration.Number     87572 non-null  object \n",
      " 14  Make                    88826 non-null  object \n",
      " 15  Model                   88797 non-null  object \n",
      " 16  Amateur.Built           88787 non-null  object \n",
      " 17  Number.of.Engines       82805 non-null  float64\n",
      " 18  Engine.Type             81812 non-null  object \n",
      " 19  FAR.Description         32023 non-null  object \n",
      " 20  Schedule                12582 non-null  object \n",
      " 21  Purpose.of.flight       82697 non-null  object \n",
      " 22  Air.carrier             16648 non-null  object \n",
      " 23  Total.Fatal.Injuries    77488 non-null  float64\n",
      " 24  Total.Serious.Injuries  76379 non-null  float64\n",
      " 25  Total.Minor.Injuries    76956 non-null  float64\n",
      " 26  Total.Uninjured         82977 non-null  float64\n",
      " 27  Weather.Condition       84397 non-null  object \n",
      " 28  Broad.phase.of.flight   61724 non-null  object \n",
      " 29  Report.Status           82508 non-null  object \n",
      " 30  Publication.Date        73659 non-null  object \n",
      "dtypes: float64(5), object(26)\n",
      "memory usage: 21.4+ MB\n"
     ]
    }
   ],
   "source": [
    "#checking info for where to start\n",
    "df.info()"
   ]
  },
  {
   "cell_type": "code",
   "execution_count": 95,
   "metadata": {},
   "outputs": [],
   "source": [
    "#this will make all the answers in the Make category uniform with the answers\n",
    "df['Make'] = df['Make'].str.capitalize()"
   ]
  },
  {
   "cell_type": "code",
   "execution_count": 111,
   "metadata": {},
   "outputs": [
    {
     "name": "stdout",
     "output_type": "stream",
     "text": [
      "['Fatal(2)' 'Fatal(4)' 'Fatal(3)' 'Fatal(1)' 'Non-Fatal' 'Incident'\n",
      " 'Fatal(8)' 'Fatal(78)' 'Fatal(7)' 'Fatal(6)' 'Fatal(5)' 'Fatal(153)'\n",
      " 'Fatal(12)' 'Fatal(14)' 'Fatal(23)' 'Fatal(10)' 'Fatal(11)' 'Fatal(9)'\n",
      " 'Fatal(17)' 'Fatal(13)' 'Fatal(29)' 'Fatal(70)' 'Unavailable'\n",
      " 'Fatal(135)' 'Fatal(31)']\n"
     ]
    }
   ],
   "source": [
    "unique_severity=df['Injury.Severity'].unique()[:25]\n",
    "print(unique_severity)"
   ]
  },
  {
   "cell_type": "code",
   "execution_count": 103,
   "metadata": {},
   "outputs": [
    {
     "name": "stdout",
     "output_type": "stream",
     "text": [
      "['Stinson' 'Piper' 'Cessna' 'Rockwell' 'Mcdonnell douglas'\n",
      " 'North american' 'Beech' 'Bellanca' 'Navion' 'Enstrom' 'Smith' 'Bell'\n",
      " 'Grumman' 'Beechcraft' 'Maule' 'Air tractor' 'Aerospatiale' 'Mooney'\n",
      " 'Boeing' 'Curtis' 'Schleicher' 'Quickie' 'Lockheed' 'Embraer' 'Hughes'\n",
      " 'Swearingen' 'De havilland' 'Bell helicopter' 'Bede aircraft' 'Convair'\n",
      " 'Beachner' 'Canadair' 'Douglas' 'Sons mustang' 'Dassault/sud' 'Sikorsky'\n",
      " 'Bell/textron' 'Robertson' 'Aeronca' 'Smith miniplane']\n"
     ]
    }
   ],
   "source": [
    "unique_makes = df['Make'].unique()[:40]\n",
    "print(unique_makes)"
   ]
  },
  {
   "cell_type": "code",
   "execution_count": 96,
   "metadata": {},
   "outputs": [
    {
     "data": {
      "text/plain": [
       "Index(['Event.Id', 'Investigation.Type', 'Accident.Number', 'Event.Date',\n",
       "       'Location', 'Country', 'Latitude', 'Longitude', 'Airport.Code',\n",
       "       'Airport.Name', 'Injury.Severity', 'Aircraft.damage',\n",
       "       'Aircraft.Category', 'Registration.Number', 'Make', 'Model',\n",
       "       'Amateur.Built', 'Number.of.Engines', 'Engine.Type', 'FAR.Description',\n",
       "       'Schedule', 'Purpose.of.flight', 'Air.carrier', 'Total.Fatal.Injuries',\n",
       "       'Total.Serious.Injuries', 'Total.Minor.Injuries', 'Total.Uninjured',\n",
       "       'Weather.Condition', 'Broad.phase.of.flight', 'Report.Status',\n",
       "       'Publication.Date'],\n",
       "      dtype='object')"
      ]
     },
     "execution_count": 96,
     "metadata": {},
     "output_type": "execute_result"
    }
   ],
   "source": [
    "#listing of keys\n",
    "df.keys()"
   ]
  },
  {
   "cell_type": "code",
   "execution_count": 98,
   "metadata": {},
   "outputs": [
    {
     "data": {
      "text/plain": [
       "0.0      63289\n",
       "1.0       9125\n",
       "2.0       2815\n",
       "3.0        629\n",
       "4.0        258\n",
       "5.0         78\n",
       "6.0         41\n",
       "7.0         27\n",
       "9.0         16\n",
       "8.0         13\n",
       "10.0        13\n",
       "13.0         9\n",
       "11.0         6\n",
       "26.0         5\n",
       "14.0         5\n",
       "12.0         5\n",
       "25.0         3\n",
       "20.0         3\n",
       "28.0         3\n",
       "17.0         2\n",
       "50.0         2\n",
       "59.0         2\n",
       "21.0         2\n",
       "47.0         2\n",
       "55.0         1\n",
       "88.0         1\n",
       "41.0         1\n",
       "67.0         1\n",
       "33.0         1\n",
       "18.0         1\n",
       "161.0        1\n",
       "81.0         1\n",
       "39.0         1\n",
       "137.0        1\n",
       "27.0         1\n",
       "15.0         1\n",
       "45.0         1\n",
       "125.0        1\n",
       "23.0         1\n",
       "44.0         1\n",
       "106.0        1\n",
       "22.0         1\n",
       "34.0         1\n",
       "16.0         1\n",
       "35.0         1\n",
       "53.0         1\n",
       "43.0         1\n",
       "63.0         1\n",
       "19.0         1\n",
       "60.0         1\n",
       "Name: Total.Serious.Injuries, dtype: int64"
      ]
     },
     "execution_count": 98,
     "metadata": {},
     "output_type": "execute_result"
    }
   ],
   "source": [
    "df['Total.Serious.Injuries'].value_counts()"
   ]
  },
  {
   "cell_type": "code",
   "execution_count": 47,
   "metadata": {},
   "outputs": [
    {
     "data": {
      "text/plain": [
       "0.0      29879\n",
       "1.0      25101\n",
       "2.0      15988\n",
       "3.0       4313\n",
       "4.0       2662\n",
       "         ...  \n",
       "325.0        1\n",
       "230.0        1\n",
       "260.0        1\n",
       "251.0        1\n",
       "414.0        1\n",
       "Name: Total.Uninjured, Length: 379, dtype: int64"
      ]
     },
     "execution_count": 47,
     "metadata": {},
     "output_type": "execute_result"
    }
   ],
   "source": [
    "df['Total.Uninjured'].value_counts()"
   ]
  },
  {
   "cell_type": "code",
   "execution_count": 48,
   "metadata": {},
   "outputs": [
    {
     "data": {
      "text/plain": [
       "Probable Cause                                                                                                                                    61754\n",
       "Foreign                                                                                                                                            1999\n",
       "<br /><br />                                                                                                                                        167\n",
       "Factual                                                                                                                                             145\n",
       "The pilot's failure to maintain directional control during the landing roll.                                                                         58\n",
       "                                                                                                                                                  ...  \n",
       "Maintenance personnels improper landing gear system repair, which resulted in a hydraulic leak and subsequent gear collapse during landing.\\r        1\n",
       "The pilots attempted takeoff with the fuel hose attached to the helicopter and the pilot and ground crews failure to accurately communicate.        1\n",
       "The pilot's failure to maintain directional control during the precautionary landing.  Contributing to the accident were the wind gusts.              1\n",
       "The student pilots improper landing flare, which resulted in a hard landing and loss of directional control.\\r                                       1\n",
       "The overstress fracture and failure of a main landing gear wheel during landing, resulting in the right wing striking the ground.                     1\n",
       "Name: Report.Status, Length: 17007, dtype: int64"
      ]
     },
     "execution_count": 48,
     "metadata": {},
     "output_type": "execute_result"
    }
   ],
   "source": [
    "df['Report.Status'].value_counts()"
   ]
  },
  {
   "cell_type": "code",
   "execution_count": 18,
   "metadata": {},
   "outputs": [
    {
     "data": {
      "text/plain": [
       "2000-07-08    25\n",
       "1984-06-30    25\n",
       "1982-05-16    25\n",
       "1986-05-17    24\n",
       "1983-08-05    24\n",
       "              ..\n",
       "2011-01-16     1\n",
       "2019-01-01     1\n",
       "2020-05-10     1\n",
       "2000-01-13     1\n",
       "2021-02-15     1\n",
       "Name: Event.Date, Length: 14782, dtype: int64"
      ]
     },
     "execution_count": 18,
     "metadata": {},
     "output_type": "execute_result"
    }
   ],
   "source": [
    "df['Event.Date'].value_counts()"
   ]
  },
  {
   "cell_type": "code",
   "execution_count": 50,
   "metadata": {},
   "outputs": [
    {
     "name": "stdout",
     "output_type": "stream",
     "text": [
      "0        1948\n",
      "1        1962\n",
      "2        1974\n",
      "3        1977\n",
      "4        1979\n",
      "         ... \n",
      "90343    2022\n",
      "90344    2022\n",
      "90345    2022\n",
      "90346    2022\n",
      "90347    2022\n",
      "Name: Year, Length: 90348, dtype: object\n"
     ]
    }
   ],
   "source": [
    "#seperate the event dat into years and add a column for just year\n",
    "df['Year'] = df['Event.Date'].str[:4]\n",
    "print(df['Year'])\n"
   ]
  },
  {
   "cell_type": "code",
   "execution_count": 38,
   "metadata": {},
   "outputs": [
    {
     "data": {
      "text/plain": [
       "False    7006\n",
       "dtype: int64"
      ]
     },
     "execution_count": 38,
     "metadata": {},
     "output_type": "execute_result"
    }
   ],
   "source": [
    "df.duplicated().value_counts()"
   ]
  },
  {
   "cell_type": "code",
   "execution_count": 25,
   "metadata": {},
   "outputs": [],
   "source": [
    "#dropping duplicates\n",
    "df= df.drop_duplicates()"
   ]
  },
  {
   "cell_type": "code",
   "execution_count": 39,
   "metadata": {},
   "outputs": [
    {
     "data": {
      "text/plain": [
       "(7006, 32)"
      ]
     },
     "execution_count": 39,
     "metadata": {},
     "output_type": "execute_result"
    }
   ],
   "source": [
    "df.shape"
   ]
  },
  {
   "cell_type": "code",
   "execution_count": 28,
   "metadata": {},
   "outputs": [
    {
     "data": {
      "text/plain": [
       "United States     82248\n",
       "Brazil              374\n",
       "Canada              359\n",
       "Mexico              358\n",
       "United Kingdom      344\n",
       "                  ...  \n",
       "AY                    1\n",
       "Pacific Ocean         1\n",
       "Sierra Leone          1\n",
       "Yemen                 1\n",
       "Ivory Coast           1\n",
       "Name: Country, Length: 219, dtype: int64"
      ]
     },
     "execution_count": 28,
     "metadata": {},
     "output_type": "execute_result"
    }
   ],
   "source": [
    "df['Country'].value_counts()"
   ]
  },
  {
   "cell_type": "code",
   "execution_count": 29,
   "metadata": {},
   "outputs": [],
   "source": [
    "#columns_to_clean = ['Event.Id', 'Accident.Number', 'Event.Date', 'Location', 'Country', 'Latitude', 'Longitude', 'Airport.Code', 'Airport.Name', 'Injury.Severity', 'Aircraft.damage', 'Number.of.Engines', 'Engine.Type', 'Weather.Condition', 'Broad.phase.of.flight', 'Report.Status', 'Publication.Date']\n",
    "#for column in columns_to_clean:\n",
    "    #df = df[df[column].notnull()]"
   ]
  },
  {
   "cell_type": "code",
   "execution_count": 62,
   "metadata": {},
   "outputs": [
    {
     "data": {
      "text/html": [
       "<div>\n",
       "<style scoped>\n",
       "    .dataframe tbody tr th:only-of-type {\n",
       "        vertical-align: middle;\n",
       "    }\n",
       "\n",
       "    .dataframe tbody tr th {\n",
       "        vertical-align: top;\n",
       "    }\n",
       "\n",
       "    .dataframe thead th {\n",
       "        text-align: right;\n",
       "    }\n",
       "</style>\n",
       "<table border=\"1\" class=\"dataframe\">\n",
       "  <thead>\n",
       "    <tr style=\"text-align: right;\">\n",
       "      <th></th>\n",
       "      <th>Event.Id</th>\n",
       "      <th>Investigation.Type</th>\n",
       "      <th>Accident.Number</th>\n",
       "      <th>Event.Date</th>\n",
       "      <th>Location</th>\n",
       "      <th>Country</th>\n",
       "      <th>Latitude</th>\n",
       "      <th>Longitude</th>\n",
       "      <th>Airport.Code</th>\n",
       "      <th>Airport.Name</th>\n",
       "      <th>...</th>\n",
       "      <th>Air.carrier</th>\n",
       "      <th>Total.Fatal.Injuries</th>\n",
       "      <th>Total.Serious.Injuries</th>\n",
       "      <th>Total.Minor.Injuries</th>\n",
       "      <th>Total.Uninjured</th>\n",
       "      <th>Weather.Condition</th>\n",
       "      <th>Broad.phase.of.flight</th>\n",
       "      <th>Report.Status</th>\n",
       "      <th>Publication.Date</th>\n",
       "      <th>Year</th>\n",
       "    </tr>\n",
       "  </thead>\n",
       "  <tbody>\n",
       "    <tr>\n",
       "      <th>0</th>\n",
       "      <td>20001218X45444</td>\n",
       "      <td>Accident</td>\n",
       "      <td>SEA87LA080</td>\n",
       "      <td>1948-10-24</td>\n",
       "      <td>MOOSE CREEK, ID</td>\n",
       "      <td>United States</td>\n",
       "      <td>NaN</td>\n",
       "      <td>NaN</td>\n",
       "      <td>NaN</td>\n",
       "      <td>NaN</td>\n",
       "      <td>...</td>\n",
       "      <td>NaN</td>\n",
       "      <td>2.0</td>\n",
       "      <td>0.0</td>\n",
       "      <td>0.0</td>\n",
       "      <td>0.0</td>\n",
       "      <td>UNK</td>\n",
       "      <td>Cruise</td>\n",
       "      <td>Probable Cause</td>\n",
       "      <td>NaN</td>\n",
       "      <td>1948</td>\n",
       "    </tr>\n",
       "    <tr>\n",
       "      <th>1</th>\n",
       "      <td>20001218X45447</td>\n",
       "      <td>Accident</td>\n",
       "      <td>LAX94LA336</td>\n",
       "      <td>1962-07-19</td>\n",
       "      <td>BRIDGEPORT, CA</td>\n",
       "      <td>United States</td>\n",
       "      <td>NaN</td>\n",
       "      <td>NaN</td>\n",
       "      <td>NaN</td>\n",
       "      <td>NaN</td>\n",
       "      <td>...</td>\n",
       "      <td>NaN</td>\n",
       "      <td>4.0</td>\n",
       "      <td>0.0</td>\n",
       "      <td>0.0</td>\n",
       "      <td>0.0</td>\n",
       "      <td>UNK</td>\n",
       "      <td>Unknown</td>\n",
       "      <td>Probable Cause</td>\n",
       "      <td>19-09-1996</td>\n",
       "      <td>1962</td>\n",
       "    </tr>\n",
       "    <tr>\n",
       "      <th>3</th>\n",
       "      <td>20001218X45448</td>\n",
       "      <td>Accident</td>\n",
       "      <td>LAX96LA321</td>\n",
       "      <td>1977-06-19</td>\n",
       "      <td>EUREKA, CA</td>\n",
       "      <td>United States</td>\n",
       "      <td>NaN</td>\n",
       "      <td>NaN</td>\n",
       "      <td>NaN</td>\n",
       "      <td>NaN</td>\n",
       "      <td>...</td>\n",
       "      <td>NaN</td>\n",
       "      <td>2.0</td>\n",
       "      <td>0.0</td>\n",
       "      <td>0.0</td>\n",
       "      <td>0.0</td>\n",
       "      <td>IMC</td>\n",
       "      <td>Cruise</td>\n",
       "      <td>Probable Cause</td>\n",
       "      <td>12-09-2000</td>\n",
       "      <td>1977</td>\n",
       "    </tr>\n",
       "    <tr>\n",
       "      <th>6</th>\n",
       "      <td>20001218X45446</td>\n",
       "      <td>Accident</td>\n",
       "      <td>CHI81LA106</td>\n",
       "      <td>1981-08-01</td>\n",
       "      <td>COTTON, MN</td>\n",
       "      <td>United States</td>\n",
       "      <td>NaN</td>\n",
       "      <td>NaN</td>\n",
       "      <td>NaN</td>\n",
       "      <td>NaN</td>\n",
       "      <td>...</td>\n",
       "      <td>NaN</td>\n",
       "      <td>4.0</td>\n",
       "      <td>0.0</td>\n",
       "      <td>0.0</td>\n",
       "      <td>0.0</td>\n",
       "      <td>IMC</td>\n",
       "      <td>Unknown</td>\n",
       "      <td>Probable Cause</td>\n",
       "      <td>06-11-2001</td>\n",
       "      <td>1981</td>\n",
       "    </tr>\n",
       "    <tr>\n",
       "      <th>7</th>\n",
       "      <td>20020909X01562</td>\n",
       "      <td>Accident</td>\n",
       "      <td>SEA82DA022</td>\n",
       "      <td>1982-01-01</td>\n",
       "      <td>PULLMAN, WA</td>\n",
       "      <td>United States</td>\n",
       "      <td>NaN</td>\n",
       "      <td>NaN</td>\n",
       "      <td>NaN</td>\n",
       "      <td>BLACKBURN AG STRIP</td>\n",
       "      <td>...</td>\n",
       "      <td>NaN</td>\n",
       "      <td>0.0</td>\n",
       "      <td>0.0</td>\n",
       "      <td>0.0</td>\n",
       "      <td>2.0</td>\n",
       "      <td>VMC</td>\n",
       "      <td>Takeoff</td>\n",
       "      <td>Probable Cause</td>\n",
       "      <td>01-01-1982</td>\n",
       "      <td>1982</td>\n",
       "    </tr>\n",
       "    <tr>\n",
       "      <th>...</th>\n",
       "      <td>...</td>\n",
       "      <td>...</td>\n",
       "      <td>...</td>\n",
       "      <td>...</td>\n",
       "      <td>...</td>\n",
       "      <td>...</td>\n",
       "      <td>...</td>\n",
       "      <td>...</td>\n",
       "      <td>...</td>\n",
       "      <td>...</td>\n",
       "      <td>...</td>\n",
       "      <td>...</td>\n",
       "      <td>...</td>\n",
       "      <td>...</td>\n",
       "      <td>...</td>\n",
       "      <td>...</td>\n",
       "      <td>...</td>\n",
       "      <td>...</td>\n",
       "      <td>...</td>\n",
       "      <td>...</td>\n",
       "      <td>...</td>\n",
       "    </tr>\n",
       "    <tr>\n",
       "      <th>90341</th>\n",
       "      <td>20221222106486</td>\n",
       "      <td>Accident</td>\n",
       "      <td>CEN23LA068</td>\n",
       "      <td>2022-12-21</td>\n",
       "      <td>Reserve, LA</td>\n",
       "      <td>United States</td>\n",
       "      <td>NaN</td>\n",
       "      <td>NaN</td>\n",
       "      <td>NaN</td>\n",
       "      <td>NaN</td>\n",
       "      <td>...</td>\n",
       "      <td>NaN</td>\n",
       "      <td>0.0</td>\n",
       "      <td>1.0</td>\n",
       "      <td>0.0</td>\n",
       "      <td>1.0</td>\n",
       "      <td>NaN</td>\n",
       "      <td>NaN</td>\n",
       "      <td>NaN</td>\n",
       "      <td>27-12-2022</td>\n",
       "      <td>2022</td>\n",
       "    </tr>\n",
       "    <tr>\n",
       "      <th>90342</th>\n",
       "      <td>20221228106502</td>\n",
       "      <td>Accident</td>\n",
       "      <td>GAA23WA046</td>\n",
       "      <td>2022-12-22</td>\n",
       "      <td>Brasnorte,</td>\n",
       "      <td>Brazil</td>\n",
       "      <td>NaN</td>\n",
       "      <td>NaN</td>\n",
       "      <td>NaN</td>\n",
       "      <td>NaN</td>\n",
       "      <td>...</td>\n",
       "      <td>NaN</td>\n",
       "      <td>1.0</td>\n",
       "      <td>0.0</td>\n",
       "      <td>0.0</td>\n",
       "      <td>0.0</td>\n",
       "      <td>NaN</td>\n",
       "      <td>NaN</td>\n",
       "      <td>NaN</td>\n",
       "      <td>28-12-2022</td>\n",
       "      <td>2022</td>\n",
       "    </tr>\n",
       "    <tr>\n",
       "      <th>90343</th>\n",
       "      <td>20221227106491</td>\n",
       "      <td>Accident</td>\n",
       "      <td>ERA23LA093</td>\n",
       "      <td>2022-12-26</td>\n",
       "      <td>Annapolis, MD</td>\n",
       "      <td>United States</td>\n",
       "      <td>NaN</td>\n",
       "      <td>NaN</td>\n",
       "      <td>NaN</td>\n",
       "      <td>NaN</td>\n",
       "      <td>...</td>\n",
       "      <td>NaN</td>\n",
       "      <td>0.0</td>\n",
       "      <td>1.0</td>\n",
       "      <td>0.0</td>\n",
       "      <td>0.0</td>\n",
       "      <td>NaN</td>\n",
       "      <td>NaN</td>\n",
       "      <td>NaN</td>\n",
       "      <td>29-12-2022</td>\n",
       "      <td>2022</td>\n",
       "    </tr>\n",
       "    <tr>\n",
       "      <th>90345</th>\n",
       "      <td>20221227106497</td>\n",
       "      <td>Accident</td>\n",
       "      <td>WPR23LA075</td>\n",
       "      <td>2022-12-26</td>\n",
       "      <td>Payson, AZ</td>\n",
       "      <td>United States</td>\n",
       "      <td>341525N</td>\n",
       "      <td>1112021W</td>\n",
       "      <td>PAN</td>\n",
       "      <td>PAYSON</td>\n",
       "      <td>...</td>\n",
       "      <td>NaN</td>\n",
       "      <td>0.0</td>\n",
       "      <td>0.0</td>\n",
       "      <td>0.0</td>\n",
       "      <td>1.0</td>\n",
       "      <td>VMC</td>\n",
       "      <td>NaN</td>\n",
       "      <td>NaN</td>\n",
       "      <td>27-12-2022</td>\n",
       "      <td>2022</td>\n",
       "    </tr>\n",
       "    <tr>\n",
       "      <th>90347</th>\n",
       "      <td>20221230106513</td>\n",
       "      <td>Accident</td>\n",
       "      <td>ERA23LA097</td>\n",
       "      <td>2022-12-29</td>\n",
       "      <td>Athens, GA</td>\n",
       "      <td>United States</td>\n",
       "      <td>NaN</td>\n",
       "      <td>NaN</td>\n",
       "      <td>NaN</td>\n",
       "      <td>NaN</td>\n",
       "      <td>...</td>\n",
       "      <td>NaN</td>\n",
       "      <td>0.0</td>\n",
       "      <td>1.0</td>\n",
       "      <td>0.0</td>\n",
       "      <td>1.0</td>\n",
       "      <td>NaN</td>\n",
       "      <td>NaN</td>\n",
       "      <td>NaN</td>\n",
       "      <td>30-12-2022</td>\n",
       "      <td>2022</td>\n",
       "    </tr>\n",
       "  </tbody>\n",
       "</table>\n",
       "<p>73291 rows × 32 columns</p>\n",
       "</div>"
      ],
      "text/plain": [
       "             Event.Id Investigation.Type Accident.Number  Event.Date  \\\n",
       "0      20001218X45444           Accident      SEA87LA080  1948-10-24   \n",
       "1      20001218X45447           Accident      LAX94LA336  1962-07-19   \n",
       "3      20001218X45448           Accident      LAX96LA321  1977-06-19   \n",
       "6      20001218X45446           Accident      CHI81LA106  1981-08-01   \n",
       "7      20020909X01562           Accident      SEA82DA022  1982-01-01   \n",
       "...               ...                ...             ...         ...   \n",
       "90341  20221222106486           Accident      CEN23LA068  2022-12-21   \n",
       "90342  20221228106502           Accident      GAA23WA046  2022-12-22   \n",
       "90343  20221227106491           Accident      ERA23LA093  2022-12-26   \n",
       "90345  20221227106497           Accident      WPR23LA075  2022-12-26   \n",
       "90347  20221230106513           Accident      ERA23LA097  2022-12-29   \n",
       "\n",
       "              Location        Country Latitude Longitude Airport.Code  \\\n",
       "0      MOOSE CREEK, ID  United States      NaN       NaN          NaN   \n",
       "1       BRIDGEPORT, CA  United States      NaN       NaN          NaN   \n",
       "3           EUREKA, CA  United States      NaN       NaN          NaN   \n",
       "6           COTTON, MN  United States      NaN       NaN          NaN   \n",
       "7          PULLMAN, WA  United States      NaN       NaN          NaN   \n",
       "...                ...            ...      ...       ...          ...   \n",
       "90341      Reserve, LA  United States      NaN       NaN          NaN   \n",
       "90342      Brasnorte,          Brazil      NaN       NaN          NaN   \n",
       "90343    Annapolis, MD  United States      NaN       NaN          NaN   \n",
       "90345       Payson, AZ  United States  341525N  1112021W          PAN   \n",
       "90347       Athens, GA  United States      NaN       NaN          NaN   \n",
       "\n",
       "             Airport.Name  ... Air.carrier Total.Fatal.Injuries  \\\n",
       "0                     NaN  ...         NaN                  2.0   \n",
       "1                     NaN  ...         NaN                  4.0   \n",
       "3                     NaN  ...         NaN                  2.0   \n",
       "6                     NaN  ...         NaN                  4.0   \n",
       "7      BLACKBURN AG STRIP  ...         NaN                  0.0   \n",
       "...                   ...  ...         ...                  ...   \n",
       "90341                 NaN  ...         NaN                  0.0   \n",
       "90342                 NaN  ...         NaN                  1.0   \n",
       "90343                 NaN  ...         NaN                  0.0   \n",
       "90345              PAYSON  ...         NaN                  0.0   \n",
       "90347                 NaN  ...         NaN                  0.0   \n",
       "\n",
       "      Total.Serious.Injuries Total.Minor.Injuries Total.Uninjured  \\\n",
       "0                        0.0                  0.0             0.0   \n",
       "1                        0.0                  0.0             0.0   \n",
       "3                        0.0                  0.0             0.0   \n",
       "6                        0.0                  0.0             0.0   \n",
       "7                        0.0                  0.0             2.0   \n",
       "...                      ...                  ...             ...   \n",
       "90341                    1.0                  0.0             1.0   \n",
       "90342                    0.0                  0.0             0.0   \n",
       "90343                    1.0                  0.0             0.0   \n",
       "90345                    0.0                  0.0             1.0   \n",
       "90347                    1.0                  0.0             1.0   \n",
       "\n",
       "      Weather.Condition Broad.phase.of.flight   Report.Status  \\\n",
       "0                   UNK                Cruise  Probable Cause   \n",
       "1                   UNK               Unknown  Probable Cause   \n",
       "3                   IMC                Cruise  Probable Cause   \n",
       "6                   IMC               Unknown  Probable Cause   \n",
       "7                   VMC               Takeoff  Probable Cause   \n",
       "...                 ...                   ...             ...   \n",
       "90341               NaN                   NaN             NaN   \n",
       "90342               NaN                   NaN             NaN   \n",
       "90343               NaN                   NaN             NaN   \n",
       "90345               VMC                   NaN             NaN   \n",
       "90347               NaN                   NaN             NaN   \n",
       "\n",
       "      Publication.Date  Year  \n",
       "0                  NaN  1948  \n",
       "1           19-09-1996  1962  \n",
       "3           12-09-2000  1977  \n",
       "6           06-11-2001  1981  \n",
       "7           01-01-1982  1982  \n",
       "...                ...   ...  \n",
       "90341       27-12-2022  2022  \n",
       "90342       28-12-2022  2022  \n",
       "90343       29-12-2022  2022  \n",
       "90345       27-12-2022  2022  \n",
       "90347       30-12-2022  2022  \n",
       "\n",
       "[73291 rows x 32 columns]"
      ]
     },
     "execution_count": 62,
     "metadata": {},
     "output_type": "execute_result"
    }
   ],
   "source": [
    "df_injuries = df.dropna(subset=['Total.Fatal.Injuries', 'Total.Serious.Injuries', 'Total.Minor.Injuries','Total.Uninjured','Make', 'Model', 'Injury.Severity'],how='any')\n",
    "df_injuries"
   ]
  },
  {
   "cell_type": "code",
   "execution_count": 71,
   "metadata": {},
   "outputs": [
    {
     "ename": "KeyError",
     "evalue": "\"['Longitude' 'Airport.Code' 'Airport.Name' 'Air.carrier'] not found in axis\"",
     "output_type": "error",
     "traceback": [
      "\u001b[1;31m---------------------------------------------------------------------------\u001b[0m",
      "\u001b[1;31mKeyError\u001b[0m                                  Traceback (most recent call last)",
      "\u001b[1;32m<ipython-input-71-faab879b0ba2>\u001b[0m in \u001b[0;36m<module>\u001b[1;34m\u001b[0m\n\u001b[1;32m----> 1\u001b[1;33m \u001b[0mdf\u001b[0m \u001b[1;33m=\u001b[0m \u001b[0mdf\u001b[0m\u001b[1;33m.\u001b[0m\u001b[0mdrop\u001b[0m\u001b[1;33m(\u001b[0m\u001b[1;33m[\u001b[0m\u001b[1;34m'Longitude'\u001b[0m\u001b[1;33m,\u001b[0m \u001b[1;34m'Airport.Code'\u001b[0m\u001b[1;33m,\u001b[0m\u001b[1;34m'Airport.Name'\u001b[0m\u001b[1;33m,\u001b[0m\u001b[1;34m'Air.carrier'\u001b[0m\u001b[1;33m]\u001b[0m\u001b[1;33m,\u001b[0m \u001b[0maxis\u001b[0m\u001b[1;33m=\u001b[0m\u001b[1;36m1\u001b[0m\u001b[1;33m)\u001b[0m\u001b[1;33m\u001b[0m\u001b[1;33m\u001b[0m\u001b[0m\n\u001b[0m",
      "\u001b[1;32m~\\anaconda3\\envs\\learn-env\\lib\\site-packages\\pandas\\core\\frame.py\u001b[0m in \u001b[0;36mdrop\u001b[1;34m(self, labels, axis, index, columns, level, inplace, errors)\u001b[0m\n\u001b[0;32m   4161\u001b[0m                 \u001b[0mweight\u001b[0m  \u001b[1;36m1.0\u001b[0m     \u001b[1;36m0.8\u001b[0m\u001b[1;33m\u001b[0m\u001b[1;33m\u001b[0m\u001b[0m\n\u001b[0;32m   4162\u001b[0m         \"\"\"\n\u001b[1;32m-> 4163\u001b[1;33m         return super().drop(\n\u001b[0m\u001b[0;32m   4164\u001b[0m             \u001b[0mlabels\u001b[0m\u001b[1;33m=\u001b[0m\u001b[0mlabels\u001b[0m\u001b[1;33m,\u001b[0m\u001b[1;33m\u001b[0m\u001b[1;33m\u001b[0m\u001b[0m\n\u001b[0;32m   4165\u001b[0m             \u001b[0maxis\u001b[0m\u001b[1;33m=\u001b[0m\u001b[0maxis\u001b[0m\u001b[1;33m,\u001b[0m\u001b[1;33m\u001b[0m\u001b[1;33m\u001b[0m\u001b[0m\n",
      "\u001b[1;32m~\\anaconda3\\envs\\learn-env\\lib\\site-packages\\pandas\\core\\generic.py\u001b[0m in \u001b[0;36mdrop\u001b[1;34m(self, labels, axis, index, columns, level, inplace, errors)\u001b[0m\n\u001b[0;32m   3885\u001b[0m         \u001b[1;32mfor\u001b[0m \u001b[0maxis\u001b[0m\u001b[1;33m,\u001b[0m \u001b[0mlabels\u001b[0m \u001b[1;32min\u001b[0m \u001b[0maxes\u001b[0m\u001b[1;33m.\u001b[0m\u001b[0mitems\u001b[0m\u001b[1;33m(\u001b[0m\u001b[1;33m)\u001b[0m\u001b[1;33m:\u001b[0m\u001b[1;33m\u001b[0m\u001b[1;33m\u001b[0m\u001b[0m\n\u001b[0;32m   3886\u001b[0m             \u001b[1;32mif\u001b[0m \u001b[0mlabels\u001b[0m \u001b[1;32mis\u001b[0m \u001b[1;32mnot\u001b[0m \u001b[1;32mNone\u001b[0m\u001b[1;33m:\u001b[0m\u001b[1;33m\u001b[0m\u001b[1;33m\u001b[0m\u001b[0m\n\u001b[1;32m-> 3887\u001b[1;33m                 \u001b[0mobj\u001b[0m \u001b[1;33m=\u001b[0m \u001b[0mobj\u001b[0m\u001b[1;33m.\u001b[0m\u001b[0m_drop_axis\u001b[0m\u001b[1;33m(\u001b[0m\u001b[0mlabels\u001b[0m\u001b[1;33m,\u001b[0m \u001b[0maxis\u001b[0m\u001b[1;33m,\u001b[0m \u001b[0mlevel\u001b[0m\u001b[1;33m=\u001b[0m\u001b[0mlevel\u001b[0m\u001b[1;33m,\u001b[0m \u001b[0merrors\u001b[0m\u001b[1;33m=\u001b[0m\u001b[0merrors\u001b[0m\u001b[1;33m)\u001b[0m\u001b[1;33m\u001b[0m\u001b[1;33m\u001b[0m\u001b[0m\n\u001b[0m\u001b[0;32m   3888\u001b[0m \u001b[1;33m\u001b[0m\u001b[0m\n\u001b[0;32m   3889\u001b[0m         \u001b[1;32mif\u001b[0m \u001b[0minplace\u001b[0m\u001b[1;33m:\u001b[0m\u001b[1;33m\u001b[0m\u001b[1;33m\u001b[0m\u001b[0m\n",
      "\u001b[1;32m~\\anaconda3\\envs\\learn-env\\lib\\site-packages\\pandas\\core\\generic.py\u001b[0m in \u001b[0;36m_drop_axis\u001b[1;34m(self, labels, axis, level, errors)\u001b[0m\n\u001b[0;32m   3919\u001b[0m                 \u001b[0mnew_axis\u001b[0m \u001b[1;33m=\u001b[0m \u001b[0maxis\u001b[0m\u001b[1;33m.\u001b[0m\u001b[0mdrop\u001b[0m\u001b[1;33m(\u001b[0m\u001b[0mlabels\u001b[0m\u001b[1;33m,\u001b[0m \u001b[0mlevel\u001b[0m\u001b[1;33m=\u001b[0m\u001b[0mlevel\u001b[0m\u001b[1;33m,\u001b[0m \u001b[0merrors\u001b[0m\u001b[1;33m=\u001b[0m\u001b[0merrors\u001b[0m\u001b[1;33m)\u001b[0m\u001b[1;33m\u001b[0m\u001b[1;33m\u001b[0m\u001b[0m\n\u001b[0;32m   3920\u001b[0m             \u001b[1;32melse\u001b[0m\u001b[1;33m:\u001b[0m\u001b[1;33m\u001b[0m\u001b[1;33m\u001b[0m\u001b[0m\n\u001b[1;32m-> 3921\u001b[1;33m                 \u001b[0mnew_axis\u001b[0m \u001b[1;33m=\u001b[0m \u001b[0maxis\u001b[0m\u001b[1;33m.\u001b[0m\u001b[0mdrop\u001b[0m\u001b[1;33m(\u001b[0m\u001b[0mlabels\u001b[0m\u001b[1;33m,\u001b[0m \u001b[0merrors\u001b[0m\u001b[1;33m=\u001b[0m\u001b[0merrors\u001b[0m\u001b[1;33m)\u001b[0m\u001b[1;33m\u001b[0m\u001b[1;33m\u001b[0m\u001b[0m\n\u001b[0m\u001b[0;32m   3922\u001b[0m             \u001b[0mresult\u001b[0m \u001b[1;33m=\u001b[0m \u001b[0mself\u001b[0m\u001b[1;33m.\u001b[0m\u001b[0mreindex\u001b[0m\u001b[1;33m(\u001b[0m\u001b[1;33m**\u001b[0m\u001b[1;33m{\u001b[0m\u001b[0maxis_name\u001b[0m\u001b[1;33m:\u001b[0m \u001b[0mnew_axis\u001b[0m\u001b[1;33m}\u001b[0m\u001b[1;33m)\u001b[0m\u001b[1;33m\u001b[0m\u001b[1;33m\u001b[0m\u001b[0m\n\u001b[0;32m   3923\u001b[0m \u001b[1;33m\u001b[0m\u001b[0m\n",
      "\u001b[1;32m~\\anaconda3\\envs\\learn-env\\lib\\site-packages\\pandas\\core\\indexes\\base.py\u001b[0m in \u001b[0;36mdrop\u001b[1;34m(self, labels, errors)\u001b[0m\n\u001b[0;32m   5280\u001b[0m         \u001b[1;32mif\u001b[0m \u001b[0mmask\u001b[0m\u001b[1;33m.\u001b[0m\u001b[0many\u001b[0m\u001b[1;33m(\u001b[0m\u001b[1;33m)\u001b[0m\u001b[1;33m:\u001b[0m\u001b[1;33m\u001b[0m\u001b[1;33m\u001b[0m\u001b[0m\n\u001b[0;32m   5281\u001b[0m             \u001b[1;32mif\u001b[0m \u001b[0merrors\u001b[0m \u001b[1;33m!=\u001b[0m \u001b[1;34m\"ignore\"\u001b[0m\u001b[1;33m:\u001b[0m\u001b[1;33m\u001b[0m\u001b[1;33m\u001b[0m\u001b[0m\n\u001b[1;32m-> 5282\u001b[1;33m                 \u001b[1;32mraise\u001b[0m \u001b[0mKeyError\u001b[0m\u001b[1;33m(\u001b[0m\u001b[1;34mf\"{labels[mask]} not found in axis\"\u001b[0m\u001b[1;33m)\u001b[0m\u001b[1;33m\u001b[0m\u001b[1;33m\u001b[0m\u001b[0m\n\u001b[0m\u001b[0;32m   5283\u001b[0m             \u001b[0mindexer\u001b[0m \u001b[1;33m=\u001b[0m \u001b[0mindexer\u001b[0m\u001b[1;33m[\u001b[0m\u001b[1;33m~\u001b[0m\u001b[0mmask\u001b[0m\u001b[1;33m]\u001b[0m\u001b[1;33m\u001b[0m\u001b[1;33m\u001b[0m\u001b[0m\n\u001b[0;32m   5284\u001b[0m         \u001b[1;32mreturn\u001b[0m \u001b[0mself\u001b[0m\u001b[1;33m.\u001b[0m\u001b[0mdelete\u001b[0m\u001b[1;33m(\u001b[0m\u001b[0mindexer\u001b[0m\u001b[1;33m)\u001b[0m\u001b[1;33m\u001b[0m\u001b[1;33m\u001b[0m\u001b[0m\n",
      "\u001b[1;31mKeyError\u001b[0m: \"['Longitude' 'Airport.Code' 'Airport.Name' 'Air.carrier'] not found in axis\""
     ]
    }
   ],
   "source": [
    "df = df.drop(['Longitude', 'Airport.Code','Airport.Name','Air.carrier'], axis=1)"
   ]
  },
  {
   "cell_type": "code",
   "execution_count": 88,
   "metadata": {},
   "outputs": [
    {
     "name": "stdout",
     "output_type": "stream",
     "text": [
      "<class 'pandas.core.frame.DataFrame'>\n",
      "Int64Index: 27617 entries, 5 to 90345\n",
      "Data columns (total 27 columns):\n",
      " #   Column                  Non-Null Count  Dtype  \n",
      "---  ------                  --------------  -----  \n",
      " 0   Event.Id                27617 non-null  object \n",
      " 1   Investigation.Type      27617 non-null  object \n",
      " 2   Accident.Number         27617 non-null  object \n",
      " 3   Event.Date              27617 non-null  object \n",
      " 4   Location                27610 non-null  object \n",
      " 5   Country                 27610 non-null  object \n",
      " 6   Injury.Severity         26803 non-null  object \n",
      " 7   Aircraft.damage         26335 non-null  object \n",
      " 8   Aircraft.Category       27617 non-null  object \n",
      " 9   Registration.Number     27391 non-null  object \n",
      " 10  Make                    27608 non-null  object \n",
      " 11  Model                   27586 non-null  object \n",
      " 12  Amateur.Built           27600 non-null  object \n",
      " 13  Number.of.Engines       24863 non-null  float64\n",
      " 14  Engine.Type             23391 non-null  object \n",
      " 15  FAR.Description         27118 non-null  object \n",
      " 16  Schedule                2990 non-null   object \n",
      " 17  Purpose.of.flight       23878 non-null  object \n",
      " 18  Total.Fatal.Injuries    24452 non-null  float64\n",
      " 19  Total.Serious.Injuries  24393 non-null  float64\n",
      " 20  Total.Minor.Injuries    24739 non-null  float64\n",
      " 21  Total.Uninjured         26717 non-null  float64\n",
      " 22  Weather.Condition       24564 non-null  object \n",
      " 23  Broad.phase.of.flight   6408 non-null   object \n",
      " 24  Report.Status           22646 non-null  object \n",
      " 25  Publication.Date        25377 non-null  object \n",
      " 26  Year                    27617 non-null  object \n",
      "dtypes: float64(5), object(22)\n",
      "memory usage: 5.9+ MB\n"
     ]
    }
   ],
   "source": [
    "df.info()"
   ]
  },
  {
   "cell_type": "code",
   "execution_count": 114,
   "metadata": {},
   "outputs": [],
   "source": [
    "#removed all data that doesnt pertain to an airplane in the key Aircraft.category brought total number of entries down to 27617\n",
    "df = df[df['Aircraft.Category'].str.lower().str.contains('airplane', na=False)] "
   ]
  },
  {
   "cell_type": "code",
   "execution_count": 74,
   "metadata": {
    "scrolled": true
   },
   "outputs": [
    {
     "name": "stdout",
     "output_type": "stream",
     "text": [
      "<class 'pandas.core.frame.DataFrame'>\n",
      "Int64Index: 27617 entries, 5 to 90345\n",
      "Data columns (total 27 columns):\n",
      " #   Column                  Non-Null Count  Dtype  \n",
      "---  ------                  --------------  -----  \n",
      " 0   Event.Id                27617 non-null  object \n",
      " 1   Investigation.Type      27617 non-null  object \n",
      " 2   Accident.Number         27617 non-null  object \n",
      " 3   Event.Date              27617 non-null  object \n",
      " 4   Location                27610 non-null  object \n",
      " 5   Country                 27610 non-null  object \n",
      " 6   Injury.Severity         26803 non-null  object \n",
      " 7   Aircraft.damage         26335 non-null  object \n",
      " 8   Aircraft.Category       27617 non-null  object \n",
      " 9   Registration.Number     27391 non-null  object \n",
      " 10  Make                    27608 non-null  object \n",
      " 11  Model                   27586 non-null  object \n",
      " 12  Amateur.Built           27600 non-null  object \n",
      " 13  Number.of.Engines       24863 non-null  float64\n",
      " 14  Engine.Type             23391 non-null  object \n",
      " 15  FAR.Description         27118 non-null  object \n",
      " 16  Schedule                2990 non-null   object \n",
      " 17  Purpose.of.flight       23878 non-null  object \n",
      " 18  Total.Fatal.Injuries    24452 non-null  float64\n",
      " 19  Total.Serious.Injuries  24393 non-null  float64\n",
      " 20  Total.Minor.Injuries    24739 non-null  float64\n",
      " 21  Total.Uninjured         26717 non-null  float64\n",
      " 22  Weather.Condition       24564 non-null  object \n",
      " 23  Broad.phase.of.flight   6408 non-null   object \n",
      " 24  Report.Status           22646 non-null  object \n",
      " 25  Publication.Date        25377 non-null  object \n",
      " 26  Year                    27617 non-null  object \n",
      "dtypes: float64(5), object(22)\n",
      "memory usage: 5.9+ MB\n"
     ]
    }
   ],
   "source": [
    "df.info()"
   ]
  },
  {
   "cell_type": "code",
   "execution_count": 75,
   "metadata": {},
   "outputs": [
    {
     "data": {
      "text/plain": [
       "091                               15901\n",
       "Part 91: General Aviation          5688\n",
       "NUSN                               1157\n",
       "NUSC                                807\n",
       "137                                 744\n",
       "121                                 653\n",
       "135                                 540\n",
       "Part 137: Agricultural              360\n",
       "Part 135: Air Taxi & Commuter       235\n",
       "UNK                                 232\n",
       "129                                 202\n",
       "Part 121: Air Carrier               165\n",
       "PUBU                                126\n",
       "Part 129: Foreign                    89\n",
       "Non-U.S., Non-Commercial             78\n",
       "Non-U.S., Commercial                 74\n",
       "Unknown                              19\n",
       "091K                                 14\n",
       "Public Use                           13\n",
       "Part 125: 20+ Pax,6000+ lbs           5\n",
       "125                                   5\n",
       "ARMF                                  4\n",
       "Part 133: Rotorcraft Ext. Load        2\n",
       "Armed Forces                          1\n",
       "Part 91F: Special Flt Ops.            1\n",
       "Public Aircraft                       1\n",
       "107                                   1\n",
       "Part 91 Subpart K: Fractional         1\n",
       "Name: FAR.Description, dtype: int64"
      ]
     },
     "execution_count": 75,
     "metadata": {},
     "output_type": "execute_result"
    }
   ],
   "source": [
    "df['FAR.Description'].value_counts()"
   ]
  },
  {
   "cell_type": "code",
   "execution_count": 76,
   "metadata": {},
   "outputs": [
    {
     "data": {
      "text/plain": [
       "Personal                     16154\n",
       "Instructional                 3212\n",
       "Aerial Application            1068\n",
       "Unknown                        886\n",
       "Business                       785\n",
       "Positioning                    359\n",
       "Flight Test                    226\n",
       "Ferry                          176\n",
       "Aerial Observation             170\n",
       "Skydiving                      166\n",
       "Other Work Use                 158\n",
       "Executive/corporate            151\n",
       "Banner Tow                      89\n",
       "Air Race show                   74\n",
       "Public Aircraft - Federal       53\n",
       "Public Aircraft                 43\n",
       "Glider Tow                      35\n",
       "Public Aircraft - State         24\n",
       "Firefighting                    17\n",
       "Public Aircraft - Local         12\n",
       "Air Race/show                    7\n",
       "ASHO                             6\n",
       "Air Drop                         3\n",
       "PUBS                             3\n",
       "External Load                    1\n",
       "Name: Purpose.of.flight, dtype: int64"
      ]
     },
     "execution_count": 76,
     "metadata": {},
     "output_type": "execute_result"
    }
   ],
   "source": [
    "df['Purpose.of.flight'].value_counts()"
   ]
  },
  {
   "cell_type": "code",
   "execution_count": 80,
   "metadata": {},
   "outputs": [
    {
     "data": {
      "text/plain": [
       "172         870\n",
       "152         451\n",
       "737         404\n",
       "182         345\n",
       "172N        316\n",
       "           ... \n",
       "17 31         1\n",
       "C-180J        1\n",
       "RANS S-6      1\n",
       "C54           1\n",
       "75            1\n",
       "Name: Model, Length: 5367, dtype: int64"
      ]
     },
     "execution_count": 80,
     "metadata": {},
     "output_type": "execute_result"
    }
   ],
   "source": [
    "df['Model'].value_counts()"
   ]
  },
  {
   "cell_type": "code",
   "execution_count": 86,
   "metadata": {},
   "outputs": [
    {
     "name": "stdout",
     "output_type": "stream",
     "text": [
      "['Cessna', 'Piper', 'Beech', 'Boeing', 'Mooney', 'Bellanca', 'Grumman', 'Airbus', 'Maule', 'Aeronca', 'Air tractor', 'Cirrus design corp', 'Air tractor inc', 'Champion', 'Luscombe', 'Embraer', 'Stinson', 'Cirrus', 'Vans', 'North american', 'Mcdonnell douglas', 'Taylorcraft', 'Aero commander', 'Dehavilland', 'De havilland', 'Aviat aircraft inc', 'Socata', 'Diamond aircraft ind inc', 'Aviat', 'Ercoupe', 'Bombardier inc', 'Raytheon aircraft company', 'Rockwell international', 'Ayres', 'Grumman acft eng cor-schweizer', 'Rockwell', 'Douglas', 'Rans', 'Swearingen', 'American champion aircraft']\n"
     ]
    }
   ],
   "source": []
  },
  {
   "cell_type": "code",
   "execution_count": 85,
   "metadata": {},
   "outputs": [
    {
     "name": "stderr",
     "output_type": "stream",
     "text": [
      "<ipython-input-85-027efbad2b39>:1: SettingWithCopyWarning: \n",
      "A value is trying to be set on a copy of a slice from a DataFrame.\n",
      "Try using .loc[row_indexer,col_indexer] = value instead\n",
      "\n",
      "See the caveats in the documentation: https://pandas.pydata.org/pandas-docs/stable/user_guide/indexing.html#returning-a-view-versus-a-copy\n",
      "  df['Make'] = df['Make'].str.capitalize()\n"
     ]
    }
   ],
   "source": []
  },
  {
   "cell_type": "code",
   "execution_count": null,
   "metadata": {},
   "outputs": [],
   "source": [
    "#categories that data may not pertain to our project/business inquiry\n",
    "#event.date,registration number, schedule, publication date, FAR description??\n",
    "#\n",
    "#\n"
   ]
  },
  {
   "cell_type": "code",
   "execution_count": 118,
   "metadata": {},
   "outputs": [],
   "source": [
    "#great identifier to seperate into cateogries, maybe color code this with the makes of the planes...?\n",
    "df_airplane = df['Aircraft.damage'].value_counts()"
   ]
  },
  {
   "cell_type": "code",
   "execution_count": 119,
   "metadata": {},
   "outputs": [],
   "source": [
    "df_airplane.to_csv('Aviation_data.csv')"
   ]
  },
  {
   "cell_type": "code",
   "execution_count": null,
   "metadata": {},
   "outputs": [],
   "source": []
  }
 ],
 "metadata": {
  "kernelspec": {
   "display_name": "Python 3",
   "language": "python",
   "name": "python3"
  },
  "language_info": {
   "codemirror_mode": {
    "name": "ipython",
    "version": 3
   },
   "file_extension": ".py",
   "mimetype": "text/x-python",
   "name": "python",
   "nbconvert_exporter": "python",
   "pygments_lexer": "ipython3",
   "version": "3.8.5"
  }
 },
 "nbformat": 4,
 "nbformat_minor": 4
}
