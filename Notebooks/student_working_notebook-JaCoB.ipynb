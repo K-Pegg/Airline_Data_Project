{
 "cells": [
  {
   "cell_type": "markdown",
   "metadata": {},
   "source": [
    "# Exploratory Notebook"
   ]
  },
  {
   "cell_type": "code",
   "execution_count": 4,
   "metadata": {},
   "outputs": [
    {
     "name": "stderr",
     "output_type": "stream",
     "text": [
      "C:\\Users\\jacob\\anaconda3\\envs\\learn-env\\lib\\site-packages\\IPython\\core\\interactiveshell.py:3145: DtypeWarning: Columns (6,7,28) have mixed types.Specify dtype option on import or set low_memory=False.\n",
      "  has_raised = await self.run_ast_nodes(code_ast.body, cell_name,\n"
     ]
    }
   ],
   "source": [
    "import pandas as pd\n",
    "import numpy as np\n",
    "\n",
    "df= pd.read_csv('../Data/Aviation_data.csv')"
   ]
  },
  {
   "cell_type": "code",
   "execution_count": 5,
   "metadata": {},
   "outputs": [
    {
     "data": {
      "text/plain": [
       "<bound method NDFrame.head of              Event.Id Investigation.Type Accident.Number  Event.Date  \\\n",
       "0      20001218X45444           Accident      SEA87LA080  1948-10-24   \n",
       "1      20001218X45447           Accident      LAX94LA336  1962-07-19   \n",
       "2      20061025X01555           Accident      NYC07LA005  1974-08-30   \n",
       "3      20001218X45448           Accident      LAX96LA321  1977-06-19   \n",
       "4      20041105X01764           Accident      CHI79FA064  1979-08-02   \n",
       "...               ...                ...             ...         ...   \n",
       "90343  20221227106491           Accident      ERA23LA093  2022-12-26   \n",
       "90344  20221227106494           Accident      ERA23LA095  2022-12-26   \n",
       "90345  20221227106497           Accident      WPR23LA075  2022-12-26   \n",
       "90346  20221227106498           Accident      WPR23LA076  2022-12-26   \n",
       "90347  20221230106513           Accident      ERA23LA097  2022-12-29   \n",
       "\n",
       "              Location        Country Latitude Longitude Airport.Code  \\\n",
       "0      MOOSE CREEK, ID  United States      NaN       NaN          NaN   \n",
       "1       BRIDGEPORT, CA  United States      NaN       NaN          NaN   \n",
       "2        Saltville, VA  United States  36.9222  -81.8781          NaN   \n",
       "3           EUREKA, CA  United States      NaN       NaN          NaN   \n",
       "4           Canton, OH  United States      NaN       NaN          NaN   \n",
       "...                ...            ...      ...       ...          ...   \n",
       "90343    Annapolis, MD  United States      NaN       NaN          NaN   \n",
       "90344      Hampton, NH  United States      NaN       NaN          NaN   \n",
       "90345       Payson, AZ  United States  341525N  1112021W          PAN   \n",
       "90346       Morgan, UT  United States      NaN       NaN          NaN   \n",
       "90347       Athens, GA  United States      NaN       NaN          NaN   \n",
       "\n",
       "      Airport.Name  ... Purpose.of.flight         Air.carrier  \\\n",
       "0              NaN  ...          Personal                 NaN   \n",
       "1              NaN  ...          Personal                 NaN   \n",
       "2              NaN  ...          Personal                 NaN   \n",
       "3              NaN  ...          Personal                 NaN   \n",
       "4              NaN  ...          Personal                 NaN   \n",
       "...            ...  ...               ...                 ...   \n",
       "90343          NaN  ...          Personal                 NaN   \n",
       "90344          NaN  ...               NaN                 NaN   \n",
       "90345       PAYSON  ...          Personal                 NaN   \n",
       "90346          NaN  ...          Personal  MC CESSNA 210N LLC   \n",
       "90347          NaN  ...          Personal                 NaN   \n",
       "\n",
       "      Total.Fatal.Injuries Total.Serious.Injuries Total.Minor.Injuries  \\\n",
       "0                      2.0                    0.0                  0.0   \n",
       "1                      4.0                    0.0                  0.0   \n",
       "2                      3.0                    NaN                  NaN   \n",
       "3                      2.0                    0.0                  0.0   \n",
       "4                      1.0                    2.0                  NaN   \n",
       "...                    ...                    ...                  ...   \n",
       "90343                  0.0                    1.0                  0.0   \n",
       "90344                  0.0                    0.0                  0.0   \n",
       "90345                  0.0                    0.0                  0.0   \n",
       "90346                  0.0                    0.0                  0.0   \n",
       "90347                  0.0                    1.0                  0.0   \n",
       "\n",
       "      Total.Uninjured Weather.Condition  Broad.phase.of.flight  \\\n",
       "0                 0.0               UNK                 Cruise   \n",
       "1                 0.0               UNK                Unknown   \n",
       "2                 NaN               IMC                 Cruise   \n",
       "3                 0.0               IMC                 Cruise   \n",
       "4                 0.0               VMC               Approach   \n",
       "...               ...               ...                    ...   \n",
       "90343             0.0               NaN                    NaN   \n",
       "90344             0.0               NaN                    NaN   \n",
       "90345             1.0               VMC                    NaN   \n",
       "90346             0.0               NaN                    NaN   \n",
       "90347             1.0               NaN                    NaN   \n",
       "\n",
       "        Report.Status Publication.Date  \n",
       "0      Probable Cause              NaN  \n",
       "1      Probable Cause       19-09-1996  \n",
       "2      Probable Cause       26-02-2007  \n",
       "3      Probable Cause       12-09-2000  \n",
       "4      Probable Cause       16-04-1980  \n",
       "...               ...              ...  \n",
       "90343             NaN       29-12-2022  \n",
       "90344             NaN              NaN  \n",
       "90345             NaN       27-12-2022  \n",
       "90346             NaN              NaN  \n",
       "90347             NaN       30-12-2022  \n",
       "\n",
       "[90348 rows x 31 columns]>"
      ]
     },
     "execution_count": 5,
     "metadata": {},
     "output_type": "execute_result"
    }
   ],
   "source": [
    "#checking table\n",
    "df.head\n"
   ]
  },
  {
   "cell_type": "code",
   "execution_count": 93,
   "metadata": {},
   "outputs": [
    {
     "name": "stdout",
     "output_type": "stream",
     "text": [
      "<class 'pandas.core.frame.DataFrame'>\n",
      "RangeIndex: 90348 entries, 0 to 90347\n",
      "Data columns (total 31 columns):\n",
      " #   Column                  Non-Null Count  Dtype  \n",
      "---  ------                  --------------  -----  \n",
      " 0   Event.Id                88889 non-null  object \n",
      " 1   Investigation.Type      90348 non-null  object \n",
      " 2   Accident.Number         88889 non-null  object \n",
      " 3   Event.Date              88889 non-null  object \n",
      " 4   Location                88837 non-null  object \n",
      " 5   Country                 88663 non-null  object \n",
      " 6   Latitude                34382 non-null  object \n",
      " 7   Longitude               34373 non-null  object \n",
      " 8   Airport.Code            50249 non-null  object \n",
      " 9   Airport.Name            52790 non-null  object \n",
      " 10  Injury.Severity         87889 non-null  object \n",
      " 11  Aircraft.damage         85695 non-null  object \n",
      " 12  Aircraft.Category       32287 non-null  object \n",
      " 13  Registration.Number     87572 non-null  object \n",
      " 14  Make                    88826 non-null  object \n",
      " 15  Model                   88797 non-null  object \n",
      " 16  Amateur.Built           88787 non-null  object \n",
      " 17  Number.of.Engines       82805 non-null  float64\n",
      " 18  Engine.Type             81812 non-null  object \n",
      " 19  FAR.Description         32023 non-null  object \n",
      " 20  Schedule                12582 non-null  object \n",
      " 21  Purpose.of.flight       82697 non-null  object \n",
      " 22  Air.carrier             16648 non-null  object \n",
      " 23  Total.Fatal.Injuries    77488 non-null  float64\n",
      " 24  Total.Serious.Injuries  76379 non-null  float64\n",
      " 25  Total.Minor.Injuries    76956 non-null  float64\n",
      " 26  Total.Uninjured         82977 non-null  float64\n",
      " 27  Weather.Condition       84397 non-null  object \n",
      " 28  Broad.phase.of.flight   61724 non-null  object \n",
      " 29  Report.Status           82508 non-null  object \n",
      " 30  Publication.Date        73659 non-null  object \n",
      "dtypes: float64(5), object(26)\n",
      "memory usage: 21.4+ MB\n"
     ]
    }
   ],
   "source": [
    "#checking info for where to start\n",
    "df.info()"
   ]
  },
  {
   "cell_type": "code",
   "execution_count": 6,
   "metadata": {},
   "outputs": [],
   "source": [
    "#this will make all the answers in the Make category uniform with the answers\n",
    "df['Make'] = df['Make'].str.capitalize()"
   ]
  },
  {
   "cell_type": "code",
   "execution_count": 7,
   "metadata": {},
   "outputs": [
    {
     "name": "stdout",
     "output_type": "stream",
     "text": [
      "['Fatal(2)' 'Fatal(4)' 'Fatal(3)' 'Fatal(1)' 'Non-Fatal' 'Incident'\n",
      " 'Fatal(8)' 'Fatal(78)' 'Fatal(7)' 'Fatal(6)' 'Fatal(5)' 'Fatal(153)'\n",
      " 'Fatal(12)' 'Fatal(14)' 'Fatal(23)' 'Fatal(10)' 'Fatal(11)' 'Fatal(9)'\n",
      " 'Fatal(17)' 'Fatal(13)' 'Fatal(29)' 'Fatal(70)' 'Unavailable'\n",
      " 'Fatal(135)' 'Fatal(31)']\n"
     ]
    }
   ],
   "source": [
    "unique_severity=df['Injury.Severity'].unique()[:25]\n",
    "print(unique_severity)"
   ]
  },
  {
   "cell_type": "code",
   "execution_count": 8,
   "metadata": {},
   "outputs": [
    {
     "name": "stdout",
     "output_type": "stream",
     "text": [
      "['Stinson' 'Piper' 'Cessna' 'Rockwell' 'Mcdonnell douglas'\n",
      " 'North american' 'Beech' 'Bellanca' 'Navion' 'Enstrom' 'Smith' 'Bell'\n",
      " 'Grumman' 'Beechcraft' 'Maule' 'Air tractor' 'Aerospatiale' 'Mooney'\n",
      " 'Boeing' 'Curtis' 'Schleicher' 'Quickie' 'Lockheed' 'Embraer' 'Hughes'\n",
      " 'Swearingen' 'De havilland' 'Bell helicopter' 'Bede aircraft' 'Convair'\n",
      " 'Beachner' 'Canadair' 'Douglas' 'Sons mustang' 'Dassault/sud' 'Sikorsky'\n",
      " 'Bell/textron' 'Robertson' 'Aeronca' 'Smith miniplane']\n"
     ]
    }
   ],
   "source": [
    "unique_makes = df['Make'].unique()[:40]\n",
    "print(unique_makes)"
   ]
  },
  {
   "cell_type": "code",
   "execution_count": 9,
   "metadata": {},
   "outputs": [
    {
     "data": {
      "text/plain": [
       "Index(['Event.Id', 'Investigation.Type', 'Accident.Number', 'Event.Date',\n",
       "       'Location', 'Country', 'Latitude', 'Longitude', 'Airport.Code',\n",
       "       'Airport.Name', 'Injury.Severity', 'Aircraft.damage',\n",
       "       'Aircraft.Category', 'Registration.Number', 'Make', 'Model',\n",
       "       'Amateur.Built', 'Number.of.Engines', 'Engine.Type', 'FAR.Description',\n",
       "       'Schedule', 'Purpose.of.flight', 'Air.carrier', 'Total.Fatal.Injuries',\n",
       "       'Total.Serious.Injuries', 'Total.Minor.Injuries', 'Total.Uninjured',\n",
       "       'Weather.Condition', 'Broad.phase.of.flight', 'Report.Status',\n",
       "       'Publication.Date'],\n",
       "      dtype='object')"
      ]
     },
     "execution_count": 9,
     "metadata": {},
     "output_type": "execute_result"
    }
   ],
   "source": [
    "#listing of keys\n",
    "df.keys()"
   ]
  },
  {
   "cell_type": "code",
   "execution_count": 10,
   "metadata": {},
   "outputs": [
    {
     "data": {
      "text/plain": [
       "0.0      63289\n",
       "1.0       9125\n",
       "2.0       2815\n",
       "3.0        629\n",
       "4.0        258\n",
       "5.0         78\n",
       "6.0         41\n",
       "7.0         27\n",
       "9.0         16\n",
       "8.0         13\n",
       "10.0        13\n",
       "13.0         9\n",
       "11.0         6\n",
       "26.0         5\n",
       "14.0         5\n",
       "12.0         5\n",
       "25.0         3\n",
       "20.0         3\n",
       "28.0         3\n",
       "17.0         2\n",
       "50.0         2\n",
       "59.0         2\n",
       "21.0         2\n",
       "47.0         2\n",
       "55.0         1\n",
       "88.0         1\n",
       "41.0         1\n",
       "67.0         1\n",
       "33.0         1\n",
       "18.0         1\n",
       "161.0        1\n",
       "81.0         1\n",
       "39.0         1\n",
       "137.0        1\n",
       "27.0         1\n",
       "15.0         1\n",
       "45.0         1\n",
       "125.0        1\n",
       "23.0         1\n",
       "44.0         1\n",
       "106.0        1\n",
       "22.0         1\n",
       "34.0         1\n",
       "16.0         1\n",
       "35.0         1\n",
       "53.0         1\n",
       "43.0         1\n",
       "63.0         1\n",
       "19.0         1\n",
       "60.0         1\n",
       "Name: Total.Serious.Injuries, dtype: int64"
      ]
     },
     "execution_count": 10,
     "metadata": {},
     "output_type": "execute_result"
    }
   ],
   "source": [
    "df['Total.Serious.Injuries'].value_counts()"
   ]
  },
  {
   "cell_type": "code",
   "execution_count": 11,
   "metadata": {},
   "outputs": [
    {
     "data": {
      "text/plain": [
       "0.0      29879\n",
       "1.0      25101\n",
       "2.0      15988\n",
       "3.0       4313\n",
       "4.0       2662\n",
       "         ...  \n",
       "325.0        1\n",
       "230.0        1\n",
       "260.0        1\n",
       "251.0        1\n",
       "414.0        1\n",
       "Name: Total.Uninjured, Length: 379, dtype: int64"
      ]
     },
     "execution_count": 11,
     "metadata": {},
     "output_type": "execute_result"
    }
   ],
   "source": [
    "df['Total.Uninjured'].value_counts()"
   ]
  },
  {
   "cell_type": "code",
   "execution_count": 12,
   "metadata": {},
   "outputs": [
    {
     "data": {
      "text/plain": [
       "Probable Cause                                                                                                                                                                                                  61754\n",
       "Foreign                                                                                                                                                                                                          1999\n",
       "<br /><br />                                                                                                                                                                                                      167\n",
       "Factual                                                                                                                                                                                                           145\n",
       "The pilot's failure to maintain directional control during the landing roll.                                                                                                                                       58\n",
       "                                                                                                                                                                                                                ...  \n",
       "The pilot's failure to maintain directional control during the go-around, which resulted in a collision with terrain.                                                                                               1\n",
       "The pilot's failure to maintain a proper glide path during the landing approach and his failure to use available engine power to arrest the descent, resulting in an undershoot and collision with terrain.         1\n",
       "The pilot's improper decision to take off with known electrical issues, which distracted him and led to a loss of directional control during the takeoff roll. \\r\\n\\r\\n \\r\\n\\r                                      1\n",
       "The pilot's inadequate fuel management, which resulted in a total loss of engine power due to fuel starvation. Contributing to the accident was the pilots distraction of the formation flight.  \\r\\n\\r\\n\\r        1\n",
       "The pilot's failure to maintain a proper approach path in gusting crosswind wind conditions, which resulted in landing short of the runway and impact with a ditch and runway light.\\r\\n\\r\\n\\r                      1\n",
       "Name: Report.Status, Length: 17007, dtype: int64"
      ]
     },
     "execution_count": 12,
     "metadata": {},
     "output_type": "execute_result"
    }
   ],
   "source": [
    "df['Report.Status'].value_counts()"
   ]
  },
  {
   "cell_type": "code",
   "execution_count": 13,
   "metadata": {},
   "outputs": [
    {
     "data": {
      "text/plain": [
       "1982-05-16    25\n",
       "1984-06-30    25\n",
       "2000-07-08    25\n",
       "1984-08-25    24\n",
       "1983-06-05    24\n",
       "              ..\n",
       "2016-11-02     1\n",
       "2022-12-22     1\n",
       "1993-03-04     1\n",
       "1993-10-28     1\n",
       "1995-04-10     1\n",
       "Name: Event.Date, Length: 14782, dtype: int64"
      ]
     },
     "execution_count": 13,
     "metadata": {},
     "output_type": "execute_result"
    }
   ],
   "source": [
    "df['Event.Date'].value_counts()"
   ]
  },
  {
   "cell_type": "code",
   "execution_count": 14,
   "metadata": {},
   "outputs": [
    {
     "name": "stdout",
     "output_type": "stream",
     "text": [
      "0        1948\n",
      "1        1962\n",
      "2        1974\n",
      "3        1977\n",
      "4        1979\n",
      "         ... \n",
      "90343    2022\n",
      "90344    2022\n",
      "90345    2022\n",
      "90346    2022\n",
      "90347    2022\n",
      "Name: Year, Length: 90348, dtype: object\n"
     ]
    }
   ],
   "source": [
    "#seperate the event dat into years and add a column for just year\n",
    "df['Year'] = df['Event.Date'].str[:4]\n",
    "print(df['Year'])\n"
   ]
  },
  {
   "cell_type": "code",
   "execution_count": 15,
   "metadata": {},
   "outputs": [
    {
     "data": {
      "text/plain": [
       "False    88958\n",
       "True      1390\n",
       "dtype: int64"
      ]
     },
     "execution_count": 15,
     "metadata": {},
     "output_type": "execute_result"
    }
   ],
   "source": [
    "df.duplicated().value_counts()"
   ]
  },
  {
   "cell_type": "code",
   "execution_count": 16,
   "metadata": {},
   "outputs": [],
   "source": [
    "#dropping duplicates\n",
    "df= df.drop_duplicates()"
   ]
  },
  {
   "cell_type": "code",
   "execution_count": 17,
   "metadata": {},
   "outputs": [
    {
     "data": {
      "text/plain": [
       "(88958, 32)"
      ]
     },
     "execution_count": 17,
     "metadata": {},
     "output_type": "execute_result"
    }
   ],
   "source": [
    "df.shape"
   ]
  },
  {
   "cell_type": "code",
   "execution_count": 18,
   "metadata": {},
   "outputs": [
    {
     "data": {
      "text/plain": [
       "United States     82248\n",
       "Brazil              374\n",
       "Canada              359\n",
       "Mexico              358\n",
       "United Kingdom      344\n",
       "                  ...  \n",
       "Gibraltar             1\n",
       "Obyan                 1\n",
       "AY                    1\n",
       "Benin                 1\n",
       "French Guiana         1\n",
       "Name: Country, Length: 219, dtype: int64"
      ]
     },
     "execution_count": 18,
     "metadata": {},
     "output_type": "execute_result"
    }
   ],
   "source": [
    "df['Country'].value_counts()"
   ]
  },
  {
   "cell_type": "code",
   "execution_count": 19,
   "metadata": {},
   "outputs": [],
   "source": [
    "#columns_to_clean = ['Event.Id', 'Accident.Number', 'Event.Date', 'Location', 'Country', 'Latitude', 'Longitude', 'Airport.Code', 'Airport.Name', 'Injury.Severity', 'Aircraft.damage', 'Number.of.Engines', 'Engine.Type', 'Weather.Condition', 'Broad.phase.of.flight', 'Report.Status', 'Publication.Date']\n",
    "#for column in columns_to_clean:\n",
    "    #df = df[df[column].notnull()]"
   ]
  },
  {
   "cell_type": "code",
   "execution_count": 20,
   "metadata": {},
   "outputs": [
    {
     "data": {
      "text/html": [
       "<div>\n",
       "<style scoped>\n",
       "    .dataframe tbody tr th:only-of-type {\n",
       "        vertical-align: middle;\n",
       "    }\n",
       "\n",
       "    .dataframe tbody tr th {\n",
       "        vertical-align: top;\n",
       "    }\n",
       "\n",
       "    .dataframe thead th {\n",
       "        text-align: right;\n",
       "    }\n",
       "</style>\n",
       "<table border=\"1\" class=\"dataframe\">\n",
       "  <thead>\n",
       "    <tr style=\"text-align: right;\">\n",
       "      <th></th>\n",
       "      <th>Event.Id</th>\n",
       "      <th>Investigation.Type</th>\n",
       "      <th>Accident.Number</th>\n",
       "      <th>Event.Date</th>\n",
       "      <th>Location</th>\n",
       "      <th>Country</th>\n",
       "      <th>Latitude</th>\n",
       "      <th>Longitude</th>\n",
       "      <th>Airport.Code</th>\n",
       "      <th>Airport.Name</th>\n",
       "      <th>...</th>\n",
       "      <th>Air.carrier</th>\n",
       "      <th>Total.Fatal.Injuries</th>\n",
       "      <th>Total.Serious.Injuries</th>\n",
       "      <th>Total.Minor.Injuries</th>\n",
       "      <th>Total.Uninjured</th>\n",
       "      <th>Weather.Condition</th>\n",
       "      <th>Broad.phase.of.flight</th>\n",
       "      <th>Report.Status</th>\n",
       "      <th>Publication.Date</th>\n",
       "      <th>Year</th>\n",
       "    </tr>\n",
       "  </thead>\n",
       "  <tbody>\n",
       "    <tr>\n",
       "      <th>0</th>\n",
       "      <td>20001218X45444</td>\n",
       "      <td>Accident</td>\n",
       "      <td>SEA87LA080</td>\n",
       "      <td>1948-10-24</td>\n",
       "      <td>MOOSE CREEK, ID</td>\n",
       "      <td>United States</td>\n",
       "      <td>NaN</td>\n",
       "      <td>NaN</td>\n",
       "      <td>NaN</td>\n",
       "      <td>NaN</td>\n",
       "      <td>...</td>\n",
       "      <td>NaN</td>\n",
       "      <td>2.0</td>\n",
       "      <td>0.0</td>\n",
       "      <td>0.0</td>\n",
       "      <td>0.0</td>\n",
       "      <td>UNK</td>\n",
       "      <td>Cruise</td>\n",
       "      <td>Probable Cause</td>\n",
       "      <td>NaN</td>\n",
       "      <td>1948</td>\n",
       "    </tr>\n",
       "    <tr>\n",
       "      <th>1</th>\n",
       "      <td>20001218X45447</td>\n",
       "      <td>Accident</td>\n",
       "      <td>LAX94LA336</td>\n",
       "      <td>1962-07-19</td>\n",
       "      <td>BRIDGEPORT, CA</td>\n",
       "      <td>United States</td>\n",
       "      <td>NaN</td>\n",
       "      <td>NaN</td>\n",
       "      <td>NaN</td>\n",
       "      <td>NaN</td>\n",
       "      <td>...</td>\n",
       "      <td>NaN</td>\n",
       "      <td>4.0</td>\n",
       "      <td>0.0</td>\n",
       "      <td>0.0</td>\n",
       "      <td>0.0</td>\n",
       "      <td>UNK</td>\n",
       "      <td>Unknown</td>\n",
       "      <td>Probable Cause</td>\n",
       "      <td>19-09-1996</td>\n",
       "      <td>1962</td>\n",
       "    </tr>\n",
       "    <tr>\n",
       "      <th>3</th>\n",
       "      <td>20001218X45448</td>\n",
       "      <td>Accident</td>\n",
       "      <td>LAX96LA321</td>\n",
       "      <td>1977-06-19</td>\n",
       "      <td>EUREKA, CA</td>\n",
       "      <td>United States</td>\n",
       "      <td>NaN</td>\n",
       "      <td>NaN</td>\n",
       "      <td>NaN</td>\n",
       "      <td>NaN</td>\n",
       "      <td>...</td>\n",
       "      <td>NaN</td>\n",
       "      <td>2.0</td>\n",
       "      <td>0.0</td>\n",
       "      <td>0.0</td>\n",
       "      <td>0.0</td>\n",
       "      <td>IMC</td>\n",
       "      <td>Cruise</td>\n",
       "      <td>Probable Cause</td>\n",
       "      <td>12-09-2000</td>\n",
       "      <td>1977</td>\n",
       "    </tr>\n",
       "    <tr>\n",
       "      <th>6</th>\n",
       "      <td>20001218X45446</td>\n",
       "      <td>Accident</td>\n",
       "      <td>CHI81LA106</td>\n",
       "      <td>1981-08-01</td>\n",
       "      <td>COTTON, MN</td>\n",
       "      <td>United States</td>\n",
       "      <td>NaN</td>\n",
       "      <td>NaN</td>\n",
       "      <td>NaN</td>\n",
       "      <td>NaN</td>\n",
       "      <td>...</td>\n",
       "      <td>NaN</td>\n",
       "      <td>4.0</td>\n",
       "      <td>0.0</td>\n",
       "      <td>0.0</td>\n",
       "      <td>0.0</td>\n",
       "      <td>IMC</td>\n",
       "      <td>Unknown</td>\n",
       "      <td>Probable Cause</td>\n",
       "      <td>06-11-2001</td>\n",
       "      <td>1981</td>\n",
       "    </tr>\n",
       "    <tr>\n",
       "      <th>7</th>\n",
       "      <td>20020909X01562</td>\n",
       "      <td>Accident</td>\n",
       "      <td>SEA82DA022</td>\n",
       "      <td>1982-01-01</td>\n",
       "      <td>PULLMAN, WA</td>\n",
       "      <td>United States</td>\n",
       "      <td>NaN</td>\n",
       "      <td>NaN</td>\n",
       "      <td>NaN</td>\n",
       "      <td>BLACKBURN AG STRIP</td>\n",
       "      <td>...</td>\n",
       "      <td>NaN</td>\n",
       "      <td>0.0</td>\n",
       "      <td>0.0</td>\n",
       "      <td>0.0</td>\n",
       "      <td>2.0</td>\n",
       "      <td>VMC</td>\n",
       "      <td>Takeoff</td>\n",
       "      <td>Probable Cause</td>\n",
       "      <td>01-01-1982</td>\n",
       "      <td>1982</td>\n",
       "    </tr>\n",
       "    <tr>\n",
       "      <th>...</th>\n",
       "      <td>...</td>\n",
       "      <td>...</td>\n",
       "      <td>...</td>\n",
       "      <td>...</td>\n",
       "      <td>...</td>\n",
       "      <td>...</td>\n",
       "      <td>...</td>\n",
       "      <td>...</td>\n",
       "      <td>...</td>\n",
       "      <td>...</td>\n",
       "      <td>...</td>\n",
       "      <td>...</td>\n",
       "      <td>...</td>\n",
       "      <td>...</td>\n",
       "      <td>...</td>\n",
       "      <td>...</td>\n",
       "      <td>...</td>\n",
       "      <td>...</td>\n",
       "      <td>...</td>\n",
       "      <td>...</td>\n",
       "      <td>...</td>\n",
       "    </tr>\n",
       "    <tr>\n",
       "      <th>90341</th>\n",
       "      <td>20221222106486</td>\n",
       "      <td>Accident</td>\n",
       "      <td>CEN23LA068</td>\n",
       "      <td>2022-12-21</td>\n",
       "      <td>Reserve, LA</td>\n",
       "      <td>United States</td>\n",
       "      <td>NaN</td>\n",
       "      <td>NaN</td>\n",
       "      <td>NaN</td>\n",
       "      <td>NaN</td>\n",
       "      <td>...</td>\n",
       "      <td>NaN</td>\n",
       "      <td>0.0</td>\n",
       "      <td>1.0</td>\n",
       "      <td>0.0</td>\n",
       "      <td>1.0</td>\n",
       "      <td>NaN</td>\n",
       "      <td>NaN</td>\n",
       "      <td>NaN</td>\n",
       "      <td>27-12-2022</td>\n",
       "      <td>2022</td>\n",
       "    </tr>\n",
       "    <tr>\n",
       "      <th>90342</th>\n",
       "      <td>20221228106502</td>\n",
       "      <td>Accident</td>\n",
       "      <td>GAA23WA046</td>\n",
       "      <td>2022-12-22</td>\n",
       "      <td>Brasnorte,</td>\n",
       "      <td>Brazil</td>\n",
       "      <td>NaN</td>\n",
       "      <td>NaN</td>\n",
       "      <td>NaN</td>\n",
       "      <td>NaN</td>\n",
       "      <td>...</td>\n",
       "      <td>NaN</td>\n",
       "      <td>1.0</td>\n",
       "      <td>0.0</td>\n",
       "      <td>0.0</td>\n",
       "      <td>0.0</td>\n",
       "      <td>NaN</td>\n",
       "      <td>NaN</td>\n",
       "      <td>NaN</td>\n",
       "      <td>28-12-2022</td>\n",
       "      <td>2022</td>\n",
       "    </tr>\n",
       "    <tr>\n",
       "      <th>90343</th>\n",
       "      <td>20221227106491</td>\n",
       "      <td>Accident</td>\n",
       "      <td>ERA23LA093</td>\n",
       "      <td>2022-12-26</td>\n",
       "      <td>Annapolis, MD</td>\n",
       "      <td>United States</td>\n",
       "      <td>NaN</td>\n",
       "      <td>NaN</td>\n",
       "      <td>NaN</td>\n",
       "      <td>NaN</td>\n",
       "      <td>...</td>\n",
       "      <td>NaN</td>\n",
       "      <td>0.0</td>\n",
       "      <td>1.0</td>\n",
       "      <td>0.0</td>\n",
       "      <td>0.0</td>\n",
       "      <td>NaN</td>\n",
       "      <td>NaN</td>\n",
       "      <td>NaN</td>\n",
       "      <td>29-12-2022</td>\n",
       "      <td>2022</td>\n",
       "    </tr>\n",
       "    <tr>\n",
       "      <th>90345</th>\n",
       "      <td>20221227106497</td>\n",
       "      <td>Accident</td>\n",
       "      <td>WPR23LA075</td>\n",
       "      <td>2022-12-26</td>\n",
       "      <td>Payson, AZ</td>\n",
       "      <td>United States</td>\n",
       "      <td>341525N</td>\n",
       "      <td>1112021W</td>\n",
       "      <td>PAN</td>\n",
       "      <td>PAYSON</td>\n",
       "      <td>...</td>\n",
       "      <td>NaN</td>\n",
       "      <td>0.0</td>\n",
       "      <td>0.0</td>\n",
       "      <td>0.0</td>\n",
       "      <td>1.0</td>\n",
       "      <td>VMC</td>\n",
       "      <td>NaN</td>\n",
       "      <td>NaN</td>\n",
       "      <td>27-12-2022</td>\n",
       "      <td>2022</td>\n",
       "    </tr>\n",
       "    <tr>\n",
       "      <th>90347</th>\n",
       "      <td>20221230106513</td>\n",
       "      <td>Accident</td>\n",
       "      <td>ERA23LA097</td>\n",
       "      <td>2022-12-29</td>\n",
       "      <td>Athens, GA</td>\n",
       "      <td>United States</td>\n",
       "      <td>NaN</td>\n",
       "      <td>NaN</td>\n",
       "      <td>NaN</td>\n",
       "      <td>NaN</td>\n",
       "      <td>...</td>\n",
       "      <td>NaN</td>\n",
       "      <td>0.0</td>\n",
       "      <td>1.0</td>\n",
       "      <td>0.0</td>\n",
       "      <td>1.0</td>\n",
       "      <td>NaN</td>\n",
       "      <td>NaN</td>\n",
       "      <td>NaN</td>\n",
       "      <td>30-12-2022</td>\n",
       "      <td>2022</td>\n",
       "    </tr>\n",
       "  </tbody>\n",
       "</table>\n",
       "<p>73291 rows × 32 columns</p>\n",
       "</div>"
      ],
      "text/plain": [
       "             Event.Id Investigation.Type Accident.Number  Event.Date  \\\n",
       "0      20001218X45444           Accident      SEA87LA080  1948-10-24   \n",
       "1      20001218X45447           Accident      LAX94LA336  1962-07-19   \n",
       "3      20001218X45448           Accident      LAX96LA321  1977-06-19   \n",
       "6      20001218X45446           Accident      CHI81LA106  1981-08-01   \n",
       "7      20020909X01562           Accident      SEA82DA022  1982-01-01   \n",
       "...               ...                ...             ...         ...   \n",
       "90341  20221222106486           Accident      CEN23LA068  2022-12-21   \n",
       "90342  20221228106502           Accident      GAA23WA046  2022-12-22   \n",
       "90343  20221227106491           Accident      ERA23LA093  2022-12-26   \n",
       "90345  20221227106497           Accident      WPR23LA075  2022-12-26   \n",
       "90347  20221230106513           Accident      ERA23LA097  2022-12-29   \n",
       "\n",
       "              Location        Country Latitude Longitude Airport.Code  \\\n",
       "0      MOOSE CREEK, ID  United States      NaN       NaN          NaN   \n",
       "1       BRIDGEPORT, CA  United States      NaN       NaN          NaN   \n",
       "3           EUREKA, CA  United States      NaN       NaN          NaN   \n",
       "6           COTTON, MN  United States      NaN       NaN          NaN   \n",
       "7          PULLMAN, WA  United States      NaN       NaN          NaN   \n",
       "...                ...            ...      ...       ...          ...   \n",
       "90341      Reserve, LA  United States      NaN       NaN          NaN   \n",
       "90342      Brasnorte,          Brazil      NaN       NaN          NaN   \n",
       "90343    Annapolis, MD  United States      NaN       NaN          NaN   \n",
       "90345       Payson, AZ  United States  341525N  1112021W          PAN   \n",
       "90347       Athens, GA  United States      NaN       NaN          NaN   \n",
       "\n",
       "             Airport.Name  ... Air.carrier Total.Fatal.Injuries  \\\n",
       "0                     NaN  ...         NaN                  2.0   \n",
       "1                     NaN  ...         NaN                  4.0   \n",
       "3                     NaN  ...         NaN                  2.0   \n",
       "6                     NaN  ...         NaN                  4.0   \n",
       "7      BLACKBURN AG STRIP  ...         NaN                  0.0   \n",
       "...                   ...  ...         ...                  ...   \n",
       "90341                 NaN  ...         NaN                  0.0   \n",
       "90342                 NaN  ...         NaN                  1.0   \n",
       "90343                 NaN  ...         NaN                  0.0   \n",
       "90345              PAYSON  ...         NaN                  0.0   \n",
       "90347                 NaN  ...         NaN                  0.0   \n",
       "\n",
       "      Total.Serious.Injuries Total.Minor.Injuries Total.Uninjured  \\\n",
       "0                        0.0                  0.0             0.0   \n",
       "1                        0.0                  0.0             0.0   \n",
       "3                        0.0                  0.0             0.0   \n",
       "6                        0.0                  0.0             0.0   \n",
       "7                        0.0                  0.0             2.0   \n",
       "...                      ...                  ...             ...   \n",
       "90341                    1.0                  0.0             1.0   \n",
       "90342                    0.0                  0.0             0.0   \n",
       "90343                    1.0                  0.0             0.0   \n",
       "90345                    0.0                  0.0             1.0   \n",
       "90347                    1.0                  0.0             1.0   \n",
       "\n",
       "      Weather.Condition Broad.phase.of.flight   Report.Status  \\\n",
       "0                   UNK                Cruise  Probable Cause   \n",
       "1                   UNK               Unknown  Probable Cause   \n",
       "3                   IMC                Cruise  Probable Cause   \n",
       "6                   IMC               Unknown  Probable Cause   \n",
       "7                   VMC               Takeoff  Probable Cause   \n",
       "...                 ...                   ...             ...   \n",
       "90341               NaN                   NaN             NaN   \n",
       "90342               NaN                   NaN             NaN   \n",
       "90343               NaN                   NaN             NaN   \n",
       "90345               VMC                   NaN             NaN   \n",
       "90347               NaN                   NaN             NaN   \n",
       "\n",
       "      Publication.Date  Year  \n",
       "0                  NaN  1948  \n",
       "1           19-09-1996  1962  \n",
       "3           12-09-2000  1977  \n",
       "6           06-11-2001  1981  \n",
       "7           01-01-1982  1982  \n",
       "...                ...   ...  \n",
       "90341       27-12-2022  2022  \n",
       "90342       28-12-2022  2022  \n",
       "90343       29-12-2022  2022  \n",
       "90345       27-12-2022  2022  \n",
       "90347       30-12-2022  2022  \n",
       "\n",
       "[73291 rows x 32 columns]"
      ]
     },
     "execution_count": 20,
     "metadata": {},
     "output_type": "execute_result"
    }
   ],
   "source": [
    "df_injuries = df.dropna(subset=['Total.Fatal.Injuries', 'Total.Serious.Injuries', 'Total.Minor.Injuries','Total.Uninjured','Make', 'Model', 'Injury.Severity'],how='any')\n",
    "df_injuries"
   ]
  },
  {
   "cell_type": "code",
   "execution_count": 21,
   "metadata": {},
   "outputs": [],
   "source": [
    "df = df.drop(['Longitude', 'Airport.Code','Airport.Name','Air.carrier'], axis=1)"
   ]
  },
  {
   "cell_type": "code",
   "execution_count": 22,
   "metadata": {},
   "outputs": [
    {
     "name": "stdout",
     "output_type": "stream",
     "text": [
      "<class 'pandas.core.frame.DataFrame'>\n",
      "Int64Index: 88958 entries, 0 to 90347\n",
      "Data columns (total 28 columns):\n",
      " #   Column                  Non-Null Count  Dtype  \n",
      "---  ------                  --------------  -----  \n",
      " 0   Event.Id                88889 non-null  object \n",
      " 1   Investigation.Type      88958 non-null  object \n",
      " 2   Accident.Number         88889 non-null  object \n",
      " 3   Event.Date              88889 non-null  object \n",
      " 4   Location                88837 non-null  object \n",
      " 5   Country                 88663 non-null  object \n",
      " 6   Latitude                34382 non-null  object \n",
      " 7   Injury.Severity         87889 non-null  object \n",
      " 8   Aircraft.damage         85695 non-null  object \n",
      " 9   Aircraft.Category       32287 non-null  object \n",
      " 10  Registration.Number     87572 non-null  object \n",
      " 11  Make                    88826 non-null  object \n",
      " 12  Model                   88797 non-null  object \n",
      " 13  Amateur.Built           88787 non-null  object \n",
      " 14  Number.of.Engines       82805 non-null  float64\n",
      " 15  Engine.Type             81812 non-null  object \n",
      " 16  FAR.Description         32023 non-null  object \n",
      " 17  Schedule                12582 non-null  object \n",
      " 18  Purpose.of.flight       82697 non-null  object \n",
      " 19  Total.Fatal.Injuries    77488 non-null  float64\n",
      " 20  Total.Serious.Injuries  76379 non-null  float64\n",
      " 21  Total.Minor.Injuries    76956 non-null  float64\n",
      " 22  Total.Uninjured         82977 non-null  float64\n",
      " 23  Weather.Condition       84397 non-null  object \n",
      " 24  Broad.phase.of.flight   61724 non-null  object \n",
      " 25  Report.Status           82508 non-null  object \n",
      " 26  Publication.Date        73659 non-null  object \n",
      " 27  Year                    88889 non-null  object \n",
      "dtypes: float64(5), object(23)\n",
      "memory usage: 19.7+ MB\n"
     ]
    }
   ],
   "source": [
    "df.info()"
   ]
  },
  {
   "cell_type": "code",
   "execution_count": 23,
   "metadata": {},
   "outputs": [],
   "source": [
    "#removed all data that doesnt pertain to an airplane in the key Aircraft.category brought total number of entries down to 27617\n",
    "df = df[df['Aircraft.Category'].str.lower().str.contains('airplane', na=False)] "
   ]
  },
  {
   "cell_type": "code",
   "execution_count": 24,
   "metadata": {
    "scrolled": true
   },
   "outputs": [
    {
     "name": "stdout",
     "output_type": "stream",
     "text": [
      "<class 'pandas.core.frame.DataFrame'>\n",
      "Int64Index: 27617 entries, 5 to 90345\n",
      "Data columns (total 28 columns):\n",
      " #   Column                  Non-Null Count  Dtype  \n",
      "---  ------                  --------------  -----  \n",
      " 0   Event.Id                27617 non-null  object \n",
      " 1   Investigation.Type      27617 non-null  object \n",
      " 2   Accident.Number         27617 non-null  object \n",
      " 3   Event.Date              27617 non-null  object \n",
      " 4   Location                27610 non-null  object \n",
      " 5   Country                 27610 non-null  object \n",
      " 6   Latitude                22092 non-null  object \n",
      " 7   Injury.Severity         26803 non-null  object \n",
      " 8   Aircraft.damage         26335 non-null  object \n",
      " 9   Aircraft.Category       27617 non-null  object \n",
      " 10  Registration.Number     27391 non-null  object \n",
      " 11  Make                    27608 non-null  object \n",
      " 12  Model                   27586 non-null  object \n",
      " 13  Amateur.Built           27600 non-null  object \n",
      " 14  Number.of.Engines       24863 non-null  float64\n",
      " 15  Engine.Type             23391 non-null  object \n",
      " 16  FAR.Description         27118 non-null  object \n",
      " 17  Schedule                2990 non-null   object \n",
      " 18  Purpose.of.flight       23878 non-null  object \n",
      " 19  Total.Fatal.Injuries    24452 non-null  float64\n",
      " 20  Total.Serious.Injuries  24393 non-null  float64\n",
      " 21  Total.Minor.Injuries    24739 non-null  float64\n",
      " 22  Total.Uninjured         26717 non-null  float64\n",
      " 23  Weather.Condition       24564 non-null  object \n",
      " 24  Broad.phase.of.flight   6408 non-null   object \n",
      " 25  Report.Status           22646 non-null  object \n",
      " 26  Publication.Date        25377 non-null  object \n",
      " 27  Year                    27617 non-null  object \n",
      "dtypes: float64(5), object(23)\n",
      "memory usage: 6.1+ MB\n"
     ]
    }
   ],
   "source": [
    "df.info()"
   ]
  },
  {
   "cell_type": "code",
   "execution_count": 25,
   "metadata": {},
   "outputs": [
    {
     "data": {
      "text/plain": [
       "091                               15901\n",
       "Part 91: General Aviation          5688\n",
       "NUSN                               1157\n",
       "NUSC                                807\n",
       "137                                 744\n",
       "121                                 653\n",
       "135                                 540\n",
       "Part 137: Agricultural              360\n",
       "Part 135: Air Taxi & Commuter       235\n",
       "UNK                                 232\n",
       "129                                 202\n",
       "Part 121: Air Carrier               165\n",
       "PUBU                                126\n",
       "Part 129: Foreign                    89\n",
       "Non-U.S., Non-Commercial             78\n",
       "Non-U.S., Commercial                 74\n",
       "Unknown                              19\n",
       "091K                                 14\n",
       "Public Use                           13\n",
       "Part 125: 20+ Pax,6000+ lbs           5\n",
       "125                                   5\n",
       "ARMF                                  4\n",
       "Part 133: Rotorcraft Ext. Load        2\n",
       "Armed Forces                          1\n",
       "107                                   1\n",
       "Part 91 Subpart K: Fractional         1\n",
       "Public Aircraft                       1\n",
       "Part 91F: Special Flt Ops.            1\n",
       "Name: FAR.Description, dtype: int64"
      ]
     },
     "execution_count": 25,
     "metadata": {},
     "output_type": "execute_result"
    }
   ],
   "source": [
    "df['FAR.Description'].value_counts()"
   ]
  },
  {
   "cell_type": "code",
   "execution_count": 26,
   "metadata": {},
   "outputs": [
    {
     "data": {
      "text/plain": [
       "Personal                     16154\n",
       "Instructional                 3212\n",
       "Aerial Application            1068\n",
       "Unknown                        886\n",
       "Business                       785\n",
       "Positioning                    359\n",
       "Flight Test                    226\n",
       "Ferry                          176\n",
       "Aerial Observation             170\n",
       "Skydiving                      166\n",
       "Other Work Use                 158\n",
       "Executive/corporate            151\n",
       "Banner Tow                      89\n",
       "Air Race show                   74\n",
       "Public Aircraft - Federal       53\n",
       "Public Aircraft                 43\n",
       "Glider Tow                      35\n",
       "Public Aircraft - State         24\n",
       "Firefighting                    17\n",
       "Public Aircraft - Local         12\n",
       "Air Race/show                    7\n",
       "ASHO                             6\n",
       "Air Drop                         3\n",
       "PUBS                             3\n",
       "External Load                    1\n",
       "Name: Purpose.of.flight, dtype: int64"
      ]
     },
     "execution_count": 26,
     "metadata": {},
     "output_type": "execute_result"
    }
   ],
   "source": [
    "df['Purpose.of.flight'].value_counts()"
   ]
  },
  {
   "cell_type": "code",
   "execution_count": 27,
   "metadata": {},
   "outputs": [
    {
     "data": {
      "text/plain": [
       "172              870\n",
       "152              451\n",
       "737              404\n",
       "182              345\n",
       "172N             316\n",
       "                ... \n",
       "AERONCA 7FC        1\n",
       "P2V-5              1\n",
       "ERCOUPE 415-D      1\n",
       "Spacewalker        1\n",
       "L-29 Delfin        1\n",
       "Name: Model, Length: 5367, dtype: int64"
      ]
     },
     "execution_count": 27,
     "metadata": {},
     "output_type": "execute_result"
    }
   ],
   "source": [
    "df['Model'].value_counts()"
   ]
  },
  {
   "cell_type": "code",
   "execution_count": null,
   "metadata": {},
   "outputs": [],
   "source": []
  },
  {
   "cell_type": "code",
   "execution_count": null,
   "metadata": {},
   "outputs": [],
   "source": []
  },
  {
   "cell_type": "code",
   "execution_count": 28,
   "metadata": {},
   "outputs": [],
   "source": [
    "#categories that data may not pertain to our project/business inquiry\n",
    "#event.date,registration number, schedule, publication date, FAR description??\n",
    "#\n",
    "#\n"
   ]
  },
  {
   "cell_type": "code",
   "execution_count": 29,
   "metadata": {},
   "outputs": [],
   "source": [
    "#great identifier to seperate into cateogries, maybe color code this with the makes of the planes...?\n",
    "df_airplane = df['Make'].value_counts()[:20]"
   ]
  },
  {
   "cell_type": "code",
   "execution_count": 30,
   "metadata": {},
   "outputs": [
    {
     "ename": "AttributeError",
     "evalue": "'Series' object has no attribute 'info'",
     "output_type": "error",
     "traceback": [
      "\u001b[1;31m---------------------------------------------------------------------------\u001b[0m",
      "\u001b[1;31mAttributeError\u001b[0m                            Traceback (most recent call last)",
      "\u001b[1;32m<ipython-input-30-e3eb5ee6dd87>\u001b[0m in \u001b[0;36m<module>\u001b[1;34m\u001b[0m\n\u001b[1;32m----> 1\u001b[1;33m \u001b[0mdf_airplane\u001b[0m\u001b[1;33m.\u001b[0m\u001b[0minfo\u001b[0m\u001b[1;33m(\u001b[0m\u001b[1;33m)\u001b[0m\u001b[1;33m\u001b[0m\u001b[1;33m\u001b[0m\u001b[0m\n\u001b[0m",
      "\u001b[1;32m~\\anaconda3\\envs\\learn-env\\lib\\site-packages\\pandas\\core\\generic.py\u001b[0m in \u001b[0;36m__getattr__\u001b[1;34m(self, name)\u001b[0m\n\u001b[0;32m   5137\u001b[0m             \u001b[1;32mif\u001b[0m \u001b[0mself\u001b[0m\u001b[1;33m.\u001b[0m\u001b[0m_info_axis\u001b[0m\u001b[1;33m.\u001b[0m\u001b[0m_can_hold_identifiers_and_holds_name\u001b[0m\u001b[1;33m(\u001b[0m\u001b[0mname\u001b[0m\u001b[1;33m)\u001b[0m\u001b[1;33m:\u001b[0m\u001b[1;33m\u001b[0m\u001b[1;33m\u001b[0m\u001b[0m\n\u001b[0;32m   5138\u001b[0m                 \u001b[1;32mreturn\u001b[0m \u001b[0mself\u001b[0m\u001b[1;33m[\u001b[0m\u001b[0mname\u001b[0m\u001b[1;33m]\u001b[0m\u001b[1;33m\u001b[0m\u001b[1;33m\u001b[0m\u001b[0m\n\u001b[1;32m-> 5139\u001b[1;33m             \u001b[1;32mreturn\u001b[0m \u001b[0mobject\u001b[0m\u001b[1;33m.\u001b[0m\u001b[0m__getattribute__\u001b[0m\u001b[1;33m(\u001b[0m\u001b[0mself\u001b[0m\u001b[1;33m,\u001b[0m \u001b[0mname\u001b[0m\u001b[1;33m)\u001b[0m\u001b[1;33m\u001b[0m\u001b[1;33m\u001b[0m\u001b[0m\n\u001b[0m\u001b[0;32m   5140\u001b[0m \u001b[1;33m\u001b[0m\u001b[0m\n\u001b[0;32m   5141\u001b[0m     \u001b[1;32mdef\u001b[0m \u001b[0m__setattr__\u001b[0m\u001b[1;33m(\u001b[0m\u001b[0mself\u001b[0m\u001b[1;33m,\u001b[0m \u001b[0mname\u001b[0m\u001b[1;33m:\u001b[0m \u001b[0mstr\u001b[0m\u001b[1;33m,\u001b[0m \u001b[0mvalue\u001b[0m\u001b[1;33m)\u001b[0m \u001b[1;33m->\u001b[0m \u001b[1;32mNone\u001b[0m\u001b[1;33m:\u001b[0m\u001b[1;33m\u001b[0m\u001b[1;33m\u001b[0m\u001b[0m\n",
      "\u001b[1;31mAttributeError\u001b[0m: 'Series' object has no attribute 'info'"
     ]
    }
   ],
   "source": [
    "df_airplane.info()\n"
   ]
  },
  {
   "cell_type": "code",
   "execution_count": 26,
   "metadata": {},
   "outputs": [
    {
     "data": {
      "text/plain": [
       "<bound method DataFrame.info of              Event.Id Investigation.Type Accident.Number  Event.Date  \\\n",
       "7      20020909X01562           Accident      SEA82DA022  1982-01-01   \n",
       "8      20020909X01561           Accident      NYC82DA015  1982-01-01   \n",
       "12     20020917X02148           Accident      FTW82FRJ07  1982-01-02   \n",
       "13     20020917X02134           Accident      FTW82FRA14  1982-01-02   \n",
       "15     20020917X02117           Accident      FTW82FPG08  1982-01-02   \n",
       "...               ...                ...             ...         ...   \n",
       "90320  20221215106460           Accident      ERA23LA088  2022-12-10   \n",
       "90324  20221212106444           Accident      ERA23LA085  2022-12-12   \n",
       "90328  20221213106455           Accident      WPR23LA065  2022-12-13   \n",
       "90332  20221215106463           Accident      ERA23LA090  2022-12-14   \n",
       "90336  20221219106470           Accident      ERA23LA091  2022-12-16   \n",
       "\n",
       "               Location        Country Latitude Longitude Airport.Code  \\\n",
       "7           PULLMAN, WA  United States      NaN       NaN          NaN   \n",
       "8      EAST HANOVER, NJ  United States      NaN       NaN          N58   \n",
       "12            HOMER, LA  United States      NaN       NaN          NaN   \n",
       "13           HEARNE, TX  United States      NaN       NaN          T72   \n",
       "15      LITTLE ROCK, AR  United States      NaN       NaN          NaN   \n",
       "...                 ...            ...      ...       ...          ...   \n",
       "90320     Alabaster, AL  United States  331040N  0086470W          EET   \n",
       "90324     Knoxville, TN  United States  355745N  0835218W          DKX   \n",
       "90328     Lewistown, MT  United States  047257N  0109280W         KLWT   \n",
       "90332      San Juan, PR  United States  182724N  0066554W          SIG   \n",
       "90336   Brooksville, FL  United States  282825N  0822719W          BKV   \n",
       "\n",
       "                        Airport.Name  ... Purpose.of.flight  \\\n",
       "7                 BLACKBURN AG STRIP  ...          Personal   \n",
       "8                            HANOVER  ...          Business   \n",
       "12                               NaN  ...          Personal   \n",
       "13                  HEARNE MUNICIPAL  ...          Personal   \n",
       "15                               NaN  ...          Personal   \n",
       "...                              ...  ...               ...   \n",
       "90320                            NaN  ...          Personal   \n",
       "90324      KNOXVILLE DOWNTOWN ISLAND  ...     Instructional   \n",
       "90328     Lewiston Municipal Airport  ...               NaN   \n",
       "90332  FERNANDO LUIS RIBAS DOMINICCI  ...          Personal   \n",
       "90336     BROOKSVILLE-TAMPA BAY RGNL  ...          Personal   \n",
       "\n",
       "                             Air.carrier Total.Fatal.Injuries  \\\n",
       "7                                    NaN                  0.0   \n",
       "8                                    NaN                  0.0   \n",
       "12                                   NaN                  0.0   \n",
       "13                                   NaN                  1.0   \n",
       "15                                   NaN                  2.0   \n",
       "...                                  ...                  ...   \n",
       "90320                                NaN                  0.0   \n",
       "90324  Knoxville Flight Training Academy                  0.0   \n",
       "90328                                NaN                  0.0   \n",
       "90332      SKY WEST AVIATION INC TRUSTEE                  0.0   \n",
       "90336                   GERBER RICHARD E                  0.0   \n",
       "\n",
       "      Total.Serious.Injuries Total.Minor.Injuries Total.Uninjured  \\\n",
       "7                        0.0                  0.0             2.0   \n",
       "8                        0.0                  0.0             2.0   \n",
       "12                       0.0                  1.0             0.0   \n",
       "13                       0.0                  0.0             0.0   \n",
       "15                       0.0                  0.0             0.0   \n",
       "...                      ...                  ...             ...   \n",
       "90320                    0.0                  0.0             2.0   \n",
       "90324                    0.0                  0.0             1.0   \n",
       "90328                    0.0                  0.0             1.0   \n",
       "90332                    0.0                  0.0             1.0   \n",
       "90336                    1.0                  0.0             0.0   \n",
       "\n",
       "      Weather.Condition  Broad.phase.of.flight   Report.Status  \\\n",
       "7                   VMC                Takeoff  Probable Cause   \n",
       "8                   IMC                Landing  Probable Cause   \n",
       "12                  IMC                 Cruise  Probable Cause   \n",
       "13                  IMC                Takeoff  Probable Cause   \n",
       "15                  IMC                 Cruise  Probable Cause   \n",
       "...                 ...                    ...             ...   \n",
       "90320               NaN                    NaN             NaN   \n",
       "90324               VMC                    NaN             NaN   \n",
       "90328               NaN                    NaN             NaN   \n",
       "90332               VMC                    NaN             NaN   \n",
       "90336               VMC                    NaN             NaN   \n",
       "\n",
       "      Publication.Date  \n",
       "7           01-01-1982  \n",
       "8           01-01-1982  \n",
       "12          02-01-1983  \n",
       "13          02-01-1983  \n",
       "15          02-01-1983  \n",
       "...                ...  \n",
       "90320       19-12-2022  \n",
       "90324       15-12-2022  \n",
       "90328       14-12-2022  \n",
       "90332       27-12-2022  \n",
       "90336       23-12-2022  \n",
       "\n",
       "[19542 rows x 31 columns]>"
      ]
     },
     "execution_count": 26,
     "metadata": {},
     "output_type": "execute_result"
    }
   ],
   "source": []
  },
  {
   "cell_type": "code",
   "execution_count": 31,
   "metadata": {},
   "outputs": [],
   "source": [
    "top_20_makes = df['Make'].value_counts().head(20).index\n",
    "df_truncated = df[df['Make'].isin(top_20_makes)]\n"
   ]
  },
  {
   "cell_type": "code",
   "execution_count": 32,
   "metadata": {},
   "outputs": [],
   "source": [
    "df_cleaned= df[df['Make'].isin(top_20_makes)]"
   ]
  },
  {
   "cell_type": "code",
   "execution_count": 33,
   "metadata": {},
   "outputs": [
    {
     "name": "stdout",
     "output_type": "stream",
     "text": [
      "<class 'pandas.core.frame.DataFrame'>\n",
      "Int64Index: 19542 entries, 7 to 90336\n",
      "Data columns (total 28 columns):\n",
      " #   Column                  Non-Null Count  Dtype  \n",
      "---  ------                  --------------  -----  \n",
      " 0   Event.Id                19542 non-null  object \n",
      " 1   Investigation.Type      19542 non-null  object \n",
      " 2   Accident.Number         19542 non-null  object \n",
      " 3   Event.Date              19542 non-null  object \n",
      " 4   Location                19537 non-null  object \n",
      " 5   Country                 19536 non-null  object \n",
      " 6   Latitude                15056 non-null  object \n",
      " 7   Injury.Severity         18869 non-null  object \n",
      " 8   Aircraft.damage         18537 non-null  object \n",
      " 9   Aircraft.Category       19542 non-null  object \n",
      " 10  Registration.Number     19382 non-null  object \n",
      " 11  Make                    19542 non-null  object \n",
      " 12  Model                   19533 non-null  object \n",
      " 13  Amateur.Built           19528 non-null  object \n",
      " 14  Number.of.Engines       17546 non-null  float64\n",
      " 15  Engine.Type             16461 non-null  object \n",
      " 16  FAR.Description         19220 non-null  object \n",
      " 17  Schedule                2192 non-null   object \n",
      " 18  Purpose.of.flight       16778 non-null  object \n",
      " 19  Total.Fatal.Injuries    17250 non-null  float64\n",
      " 20  Total.Serious.Injuries  17170 non-null  float64\n",
      " 21  Total.Minor.Injuries    17405 non-null  float64\n",
      " 22  Total.Uninjured         18968 non-null  float64\n",
      " 23  Weather.Condition       17230 non-null  object \n",
      " 24  Broad.phase.of.flight   5035 non-null   object \n",
      " 25  Report.Status           15893 non-null  object \n",
      " 26  Publication.Date        17975 non-null  object \n",
      " 27  Year                    19542 non-null  object \n",
      "dtypes: float64(5), object(23)\n",
      "memory usage: 4.3+ MB\n"
     ]
    }
   ],
   "source": [
    "df_cleaned.info()"
   ]
  },
  {
   "cell_type": "code",
   "execution_count": 34,
   "metadata": {},
   "outputs": [],
   "source": [
    "df_cleaned.to_csv('Aviation_data.csv', index=False)"
   ]
  },
  {
   "cell_type": "code",
   "execution_count": null,
   "metadata": {},
   "outputs": [],
   "source": []
  },
  {
   "cell_type": "code",
   "execution_count": null,
   "metadata": {},
   "outputs": [],
   "source": []
  }
 ],
 "metadata": {
  "kernelspec": {
   "display_name": "Python 3",
   "language": "python",
   "name": "python3"
  },
  "language_info": {
   "codemirror_mode": {
    "name": "ipython",
    "version": 3
   },
   "file_extension": ".py",
   "mimetype": "text/x-python",
   "name": "python",
   "nbconvert_exporter": "python",
   "pygments_lexer": "ipython3",
   "version": "3.8.5"
  }
 },
 "nbformat": 4,
 "nbformat_minor": 4
}
